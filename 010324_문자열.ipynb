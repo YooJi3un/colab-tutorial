{
  "nbformat": 4,
  "nbformat_minor": 0,
  "metadata": {
    "colab": {
      "provenance": []
    },
    "kernelspec": {
      "name": "python3",
      "display_name": "Python 3"
    },
    "language_info": {
      "name": "python"
    }
  },
  "cells": [
    {
      "cell_type": "markdown",
      "source": [
        "# 1. 문자열"
      ],
      "metadata": {
        "id": "TPLqFZ9WyLkX"
      }
    },
    {
      "cell_type": "code",
      "execution_count": null,
      "metadata": {
        "colab": {
          "base_uri": "https://localhost:8080/"
        },
        "id": "QdRORahiyDwQ",
        "outputId": "97c70075-e71f-4062-8aa1-5c3a410496dd"
      },
      "outputs": [
        {
          "output_type": "stream",
          "name": "stdout",
          "text": [
            "hello python\n"
          ]
        }
      ],
      "source": [
        "# 1.1 문자열 기초\n",
        "\n",
        "x = 'hello'\n",
        "y = \"python\"\n",
        "\n",
        "print(x, y)"
      ]
    },
    {
      "cell_type": "code",
      "source": [
        "print(type(x), type(y))"
      ],
      "metadata": {
        "colab": {
          "base_uri": "https://localhost:8080/"
        },
        "id": "cjx0zNKWyTKS",
        "outputId": "a0e17081-3744-4460-ccf9-3e6c84a362e3"
      },
      "execution_count": null,
      "outputs": [
        {
          "output_type": "stream",
          "name": "stdout",
          "text": [
            "<class 'str'> <class 'str'>\n"
          ]
        }
      ]
    },
    {
      "cell_type": "code",
      "source": [
        "# ' 를 쓸지 \" 를 쓸지는 회사마다 다름\n",
        "\n",
        "i = '''안녕하세요. 파이썬을 배우고 있어요'''\n",
        "\n",
        "j = \"\"\"파이썬 재미있어요\"\"\"\n",
        "\n",
        "\n",
        "print(i)\n",
        "print(j)"
      ],
      "metadata": {
        "colab": {
          "base_uri": "https://localhost:8080/"
        },
        "id": "DMi7yYH_ybNl",
        "outputId": "eafbfa6c-759d-4644-b36c-46a737a5155d"
      },
      "execution_count": null,
      "outputs": [
        {
          "output_type": "stream",
          "name": "stdout",
          "text": [
            "안녕하세요. 파이썬을 배우고 있어요\n",
            "파이썬 재미있어요\n"
          ]
        }
      ]
    },
    {
      "cell_type": "code",
      "source": [
        "# 1.2 문자열 덧셈, 곱셈\n",
        "\n",
        "# 문자열의 덧셈\n",
        "\n",
        "x = 'hello'\n",
        "y = 'world'\n",
        "print(x + y) # 출력: hello world\n",
        "\n",
        "x = '10'\n",
        "y = '20'\n",
        "print(x + y)\n",
        "\n",
        "# 문자열의 곱셈\n",
        "\n",
        "x = 'hello'\n",
        "print(x * 3) # 출력: hellohellohello"
      ],
      "metadata": {
        "id": "-8Z2LM4_yq62",
        "colab": {
          "base_uri": "https://localhost:8080/"
        },
        "outputId": "d3fa9e08-1fec-4303-b625-e9a32997498f"
      },
      "execution_count": null,
      "outputs": [
        {
          "output_type": "stream",
          "name": "stdout",
          "text": [
            "helloworld\n",
            "1020\n",
            "hellohellohello\n"
          ]
        }
      ]
    },
    {
      "cell_type": "code",
      "source": [
        "# 1.3 문자열 인덱싱\n",
        "    #0 1 2 34 5 6\n",
        "s = '위니브 월드!'\n",
        "\n",
        "print(s[0]) # 출력: '위' (첫 단어 출력)\n",
        "print(s[-1]) # 출력: '!' (마지막 단어 출력) /print(s[6]) 해도 결과는 같음\n",
        "\n",
        "# print(s[7]) 같이 범위를 벗어나면 오류뜸"
      ],
      "metadata": {
        "colab": {
          "base_uri": "https://localhost:8080/"
        },
        "id": "wvrkWjfe2vHl",
        "outputId": "0f99e59c-78e9-4a1b-b7a7-5ddb60eb30c8"
      },
      "execution_count": null,
      "outputs": [
        {
          "output_type": "stream",
          "name": "stdout",
          "text": [
            "위\n",
            "!\n"
          ]
        }
      ]
    },
    {
      "cell_type": "code",
      "source": [
        "# 1.4 문자열 슬라이싱\n",
        "# print(설명[start:stop:step]) 형태 (stop 부분 빈칸으로 두면 문장 전부 가져옴)\n",
        "\n",
        "s = '위니브 월드 외각에 살고 있는'\n",
        "\n",
        "print(s[0:6])"
      ],
      "metadata": {
        "colab": {
          "base_uri": "https://localhost:8080/"
        },
        "id": "R5ALxba22vCc",
        "outputId": "d4760592-448a-4111-826f-fcd0f35fae09"
      },
      "execution_count": null,
      "outputs": [
        {
          "output_type": "stream",
          "name": "stdout",
          "text": [
            "위니브 월드\n"
          ]
        }
      ]
    },
    {
      "cell_type": "code",
      "source": [
        "# 다양한 슬라이싱 형태\n",
        "\n",
        "s = 'weniv CEO licat'\n",
        "\n",
        "# 시작점을 설정하고 끝까지 출력\n",
        "print(s[6:])\n",
        "\n",
        "# 전체 출력\n",
        "print(s[:])\n",
        "\n",
        "# 거꾸로 출력\n",
        "print(s[::-1])\n",
        "\n",
        "# 2칸씩 출력\n",
        "print((s[::2]))"
      ],
      "metadata": {
        "colab": {
          "base_uri": "https://localhost:8080/"
        },
        "id": "1vETrelg4jBm",
        "outputId": "d9800226-8672-4f65-bd8f-c7d1b8061eb8"
      },
      "execution_count": null,
      "outputs": [
        {
          "output_type": "stream",
          "name": "stdout",
          "text": [
            "CEO licat\n",
            "weniv CEO licat\n",
            "tacil OEC vinew\n",
            "wnvCOlct\n"
          ]
        }
      ]
    },
    {
      "cell_type": "markdown",
      "source": [
        "```\n",
        "인덱스는 범위가 넘어가면 에러가 뜨지만\n",
        "슬라이싱은 에러가 뜨지 않음\n",
        "```\n"
      ],
      "metadata": {
        "id": "7lXsnXwW5811"
      }
    },
    {
      "cell_type": "code",
      "source": [
        "# 슬라이싱 문제\n",
        "\n",
        "# 다음 문장에 png를 없애고 출력\n",
        "s = 'weniv_licat.png'\n",
        "print(s[:-4])\n",
        "\n",
        "# 확장자만 출력\n",
        "s = 'weniv_licat.png'\n",
        "print(s[-4:])"
      ],
      "metadata": {
        "colab": {
          "base_uri": "https://localhost:8080/"
        },
        "id": "s9K4GvDP5XxR",
        "outputId": "d503836b-ecd5-4f6c-c21e-207897a28895"
      },
      "execution_count": null,
      "outputs": [
        {
          "output_type": "stream",
          "name": "stdout",
          "text": [
            "weniv_licat\n",
            ".png\n"
          ]
        }
      ]
    },
    {
      "cell_type": "code",
      "source": [
        "# 1.5 슬라이스 복사 (ID가 달라짐)\n",
        "\n",
        "s = [1, 2, 3]\n",
        "ss = s[:]\n",
        "\n",
        "print(id(s), id(ss))"
      ],
      "metadata": {
        "colab": {
          "base_uri": "https://localhost:8080/"
        },
        "id": "YpYdxT3C6fvQ",
        "outputId": "b5db21d5-519f-402a-cc65-864659840ca8"
      },
      "execution_count": null,
      "outputs": [
        {
          "output_type": "stream",
          "name": "stdout",
          "text": [
            "134430519598464 134430517716160\n"
          ]
        }
      ]
    },
    {
      "cell_type": "code",
      "source": [
        "# 1.6 대문자 소문자 (method)\n",
        "\n",
        "s = 'weniv CEO licat'\n",
        "s.lower() # 전체를 소문자로 바꿔줌\n",
        "s.upper() # 전체를 대문자로 바꿔줌"
      ],
      "metadata": {
        "colab": {
          "base_uri": "https://localhost:8080/",
          "height": 35
        },
        "id": "cxExiikp8Vk0",
        "outputId": "0efcaec3-1aa7-4c2c-d468-1ba63e2e571f"
      },
      "execution_count": null,
      "outputs": [
        {
          "output_type": "execute_result",
          "data": {
            "text/plain": [
              "'WENIV CEO LICAT'"
            ],
            "application/vnd.google.colaboratory.intrinsic+json": {
              "type": "string"
            }
          },
          "metadata": {},
          "execution_count": 28
        }
      ]
    },
    {
      "cell_type": "code",
      "source": [
        "# 1.7 find index (method)\n",
        "\n",
        "s = 'weniv CEO licat'\n",
        "s.find('CEO') # 시작점을 출력함"
      ],
      "metadata": {
        "colab": {
          "base_uri": "https://localhost:8080/"
        },
        "id": "iElEQg-P80ts",
        "outputId": "094f6d5e-6977-40ec-f0a6-e7c3e4e4bb0c"
      },
      "execution_count": null,
      "outputs": [
        {
          "output_type": "execute_result",
          "data": {
            "text/plain": [
              "6"
            ]
          },
          "metadata": {},
          "execution_count": 30
        }
      ]
    },
    {
      "cell_type": "code",
      "source": [
        "s.find('CTO') # 없어서 -1 출력"
      ],
      "metadata": {
        "colab": {
          "base_uri": "https://localhost:8080/"
        },
        "id": "0j0C64Uc9MyW",
        "outputId": "8a1cbe57-9e5e-434d-e0b7-ef39a17501d7"
      },
      "execution_count": null,
      "outputs": [
        {
          "output_type": "execute_result",
          "data": {
            "text/plain": [
              "-1"
            ]
          },
          "metadata": {},
          "execution_count": 31
        }
      ]
    },
    {
      "cell_type": "code",
      "source": [
        "s,index('CTO') # 없어서 오류 남"
      ],
      "metadata": {
        "colab": {
          "base_uri": "https://localhost:8080/",
          "height": 184
        },
        "id": "g5Gx9R_a9aK8",
        "outputId": "7dd72786-04ce-4921-ebed-5eded125aaca"
      },
      "execution_count": null,
      "outputs": [
        {
          "output_type": "error",
          "ename": "NameError",
          "evalue": "ignored",
          "traceback": [
            "\u001b[0;31m---------------------------------------------------------------------------\u001b[0m",
            "\u001b[0;31mNameError\u001b[0m                                 Traceback (most recent call last)",
            "\u001b[0;32m<ipython-input-32-d5e90d2742e2>\u001b[0m in \u001b[0;36m<cell line: 1>\u001b[0;34m()\u001b[0m\n\u001b[0;32m----> 1\u001b[0;31m \u001b[0ms\u001b[0m\u001b[0;34m,\u001b[0m\u001b[0mindex\u001b[0m\u001b[0;34m(\u001b[0m\u001b[0;34m'CTO'\u001b[0m\u001b[0;34m)\u001b[0m \u001b[0;31m# 없어서 오류 남\u001b[0m\u001b[0;34m\u001b[0m\u001b[0;34m\u001b[0m\u001b[0m\n\u001b[0m",
            "\u001b[0;31mNameError\u001b[0m: name 'index' is not defined"
          ]
        }
      ]
    },
    {
      "cell_type": "code",
      "source": [
        "# 1.8 count (method)\n",
        "\n",
        "s = 'weniv CEO licat'\n",
        "s.count('i') # 문자열이나 숫자를 셀 때 사용\n",
        "\n",
        "# 공백, 문자, 대/소문자 구분, 일치만 한다면 다 찾아줌"
      ],
      "metadata": {
        "colab": {
          "base_uri": "https://localhost:8080/"
        },
        "id": "ju-7ANmy9kOT",
        "outputId": "a16edb7b-51c0-4bd3-a0c1-2bde12dc8937"
      },
      "execution_count": null,
      "outputs": [
        {
          "output_type": "execute_result",
          "data": {
            "text/plain": [
              "2"
            ]
          },
          "metadata": {},
          "execution_count": 36
        }
      ]
    },
    {
      "cell_type": "code",
      "source": [
        "# 1.9 strip (method)\n",
        "# srtip 을 사용해도 안 사라지는 경우 있음!!\n",
        "\n",
        "s = '            weniv CEO licat            '\n",
        "s.strip() # 양쪽의 공백을 제거해줌\n",
        "\n",
        "# ()에 제거하고 싶은 걸 넣으면 공백뿐만 아니라 ! , # 등등 제거 가능"
      ],
      "metadata": {
        "colab": {
          "base_uri": "https://localhost:8080/",
          "height": 35
        },
        "id": "VmFuC6cV917Y",
        "outputId": "29f0f437-d39b-4ce3-fdd6-78f053d5aac4"
      },
      "execution_count": null,
      "outputs": [
        {
          "output_type": "execute_result",
          "data": {
            "text/plain": [
              "'weniv CEO licat'"
            ],
            "application/vnd.google.colaboratory.intrinsic+json": {
              "type": "string"
            }
          },
          "metadata": {},
          "execution_count": 40
        }
      ]
    },
    {
      "cell_type": "code",
      "source": [
        "# 1.10 replace (method)\n",
        "\n",
        "s = 'weniv CEO licat'\n",
        "s.replace('CEO', \"CTO\") # 앞에는 변경할 문자, 뒤에는 대체할 문자 / 대소문자 구분함!"
      ],
      "metadata": {
        "colab": {
          "base_uri": "https://localhost:8080/",
          "height": 35
        },
        "id": "mnWt4q56-QBK",
        "outputId": "6cd347b7-4586-4f95-ed24-f3c91b304252"
      },
      "execution_count": null,
      "outputs": [
        {
          "output_type": "execute_result",
          "data": {
            "text/plain": [
              "'weniv CTO licat'"
            ],
            "application/vnd.google.colaboratory.intrinsic+json": {
              "type": "string"
            }
          },
          "metadata": {},
          "execution_count": 42
        }
      ]
    },
    {
      "cell_type": "code",
      "source": [
        "# i를 I로 대처하는 코드\n",
        "\n",
        "s = 'weniv CEO licat'\n",
        "ss = s.replace('i', 'I') # 새로운 변수로 치환\n",
        "ss, s"
      ],
      "metadata": {
        "colab": {
          "base_uri": "https://localhost:8080/"
        },
        "id": "qzp-yTmb_Kpa",
        "outputId": "12c99cd3-2ac1-4c6a-dec7-8864b888f15f"
      },
      "execution_count": null,
      "outputs": [
        {
          "output_type": "execute_result",
          "data": {
            "text/plain": [
              "('wenIv CEO lIcat', 'weniv CEO licat')"
            ]
          },
          "metadata": {},
          "execution_count": 2
        }
      ]
    },
    {
      "cell_type": "code",
      "source": [
        "# 1.11 split (method)\n",
        "# 리스트 형태로 결과가 나옴\n",
        "\n",
        "s = 'weniv CEO licat'\n",
        "s.split() # 공백을 기준으로 문자열 나누기\n",
        "\n",
        "# ()에 나누고 싶은 기준을 넣으면 공백뿐만 아니라 다양하게 나눌 수 있음!"
      ],
      "metadata": {
        "colab": {
          "base_uri": "https://localhost:8080/"
        },
        "id": "PFGiiX-O_mtt",
        "outputId": "c7e23599-a1d5-445e-b1c8-54842eab45fc"
      },
      "execution_count": null,
      "outputs": [
        {
          "output_type": "execute_result",
          "data": {
            "text/plain": [
              "['weniv', 'CEO', 'licat']"
            ]
          },
          "metadata": {},
          "execution_count": 50
        }
      ]
    },
    {
      "cell_type": "code",
      "source": [
        "# 1.12 join (method)\n",
        "\n",
        "s = ['weniv', 'CEO', 'licat']\n",
        "'-'.join(s) # 리스트를 하나의 문자열로 합치기"
      ],
      "metadata": {
        "colab": {
          "base_uri": "https://localhost:8080/",
          "height": 35
        },
        "id": "ofBCIFjiARXj",
        "outputId": "9773cbcd-5126-47ba-8845-88fa749f7096"
      },
      "execution_count": null,
      "outputs": [
        {
          "output_type": "execute_result",
          "data": {
            "text/plain": [
              "'weniv-CEO-licat'"
            ],
            "application/vnd.google.colaboratory.intrinsic+json": {
              "type": "string"
            }
          },
          "metadata": {},
          "execution_count": 48
        }
      ]
    },
    {
      "cell_type": "code",
      "source": [
        "# 1.13 format (method)\n",
        "# python 3.6? 이후부터는 format 대신 f-string 사용\n",
        "\n",
        "name = 'licat'\n",
        "age = 29\n",
        "\n",
        "print('제 이름은 {}이고, 나이는 {}살입니다.'.format(name, age))"
      ],
      "metadata": {
        "colab": {
          "base_uri": "https://localhost:8080/"
        },
        "id": "wkfwNbR7Asja",
        "outputId": "d7d104e6-ca2e-4999-9d66-3b5251c00d6a"
      },
      "execution_count": null,
      "outputs": [
        {
          "output_type": "stream",
          "name": "stdout",
          "text": [
            "제 이름은 licat이고, 나이는 29살입니다.\n"
          ]
        }
      ]
    },
    {
      "cell_type": "code",
      "source": [
        "# 1.14 isdigit (method)\n",
        "# 문자열이 숫자로만 이루어져 있는지 확인하는 기능\n",
        "\n",
        "s = '123'\n",
        "s.isdigit()"
      ],
      "metadata": {
        "colab": {
          "base_uri": "https://localhost:8080/"
        },
        "id": "opxq9gVwH6q3",
        "outputId": "fb44c535-4d83-4b9d-eb87-1806d8ca46ef"
      },
      "execution_count": null,
      "outputs": [
        {
          "output_type": "execute_result",
          "data": {
            "text/plain": [
              "True"
            ]
          },
          "metadata": {},
          "execution_count": 52
        }
      ]
    },
    {
      "cell_type": "code",
      "source": [
        "# 1.15 isalpha (method)\n",
        "# 문자열이 알파벳(문자형태로)만 이루어져 있는지 확인가능\n",
        "\n",
        "print('abcd1234'.isalpha())\n",
        "print('안녕하세요'.isalpha())\n",
        "print('こんにちは'.isalpha())\n",
        "print('你好'.isalpha())\n",
        "\n",
        "# 띄어쓰기는 알파벳으로 취급하지 않음!"
      ],
      "metadata": {
        "colab": {
          "base_uri": "https://localhost:8080/"
        },
        "id": "GVXgZ7RzIVz6",
        "outputId": "656eb66f-6454-4178-f439-64f82c8e6900"
      },
      "execution_count": null,
      "outputs": [
        {
          "output_type": "stream",
          "name": "stdout",
          "text": [
            "False\n",
            "True\n",
            "True\n",
            "True\n"
          ]
        }
      ]
    },
    {
      "cell_type": "code",
      "source": [
        "# 1.16 rjust (method)\n",
        "# 문자열을 지정한 길이로 맞추고 왼쪽을 지정한 문자로 채움\n",
        "\n",
        "s = 'licat'\n",
        "s.rjust(10, '-')"
      ],
      "metadata": {
        "colab": {
          "base_uri": "https://localhost:8080/",
          "height": 35
        },
        "id": "3XFRqNmHIzMi",
        "outputId": "727c4631-8797-4320-a9a1-9647255d30c2"
      },
      "execution_count": null,
      "outputs": [
        {
          "output_type": "execute_result",
          "data": {
            "text/plain": [
              "'-----licat'"
            ],
            "application/vnd.google.colaboratory.intrinsic+json": {
              "type": "string"
            }
          },
          "metadata": {},
          "execution_count": 55
        }
      ]
    },
    {
      "cell_type": "code",
      "source": [
        "# 1.17 ljust (method)\n",
        "# 문자열을 지정한 길이로 맞추고 오른쪽을 지정한 문자로 채움\n",
        "\n",
        "s = 'licat'\n",
        "s.ljust(10, '-')"
      ],
      "metadata": {
        "colab": {
          "base_uri": "https://localhost:8080/",
          "height": 35
        },
        "id": "-dncN2IoJL2O",
        "outputId": "7fd7e416-a10b-4947-cbc8-fe797b2abaf0"
      },
      "execution_count": null,
      "outputs": [
        {
          "output_type": "execute_result",
          "data": {
            "text/plain": [
              "'licat-----'"
            ],
            "application/vnd.google.colaboratory.intrinsic+json": {
              "type": "string"
            }
          },
          "metadata": {},
          "execution_count": 56
        }
      ]
    },
    {
      "cell_type": "code",
      "source": [
        "# 1.18 center (method)\n",
        "# 문자열을 지정한 길이로 맞추고 양쪽을 지정한 문자로 채움\n",
        "\n",
        "s = 'licat'\n",
        "s.center(13, '-')\n",
        "\n",
        "# 짝이 안맞으면 오른쪽에 하나 더 생김\n",
        "# 숫자가 문자열의 길이보다 작으면 문자 그대로 출력함"
      ],
      "metadata": {
        "colab": {
          "base_uri": "https://localhost:8080/",
          "height": 35
        },
        "id": "7IIVkGXYJXWV",
        "outputId": "da3ee6eb-34ff-4afe-bbc7-620464c9bfff"
      },
      "execution_count": null,
      "outputs": [
        {
          "output_type": "execute_result",
          "data": {
            "text/plain": [
              "'----licat----'"
            ],
            "application/vnd.google.colaboratory.intrinsic+json": {
              "type": "string"
            }
          },
          "metadata": {},
          "execution_count": 59
        }
      ]
    },
    {
      "cell_type": "code",
      "source": [
        "# 1.19 zfill (method)\n",
        "# 주어진 길이만큼 문자열의 앞쪽을 '0' 으로 채워서 반환\n",
        "\n",
        "# 문자열 숫자\n",
        "x = \"42\"\n",
        "result = x.zfill(5)\n",
        "print(result)\n",
        "\n",
        "# 문자열 부호가 있는 숫자\n",
        "y = \"-42\"\n",
        "result = y.zfill(5)\n",
        "print(result)\n",
        "\n",
        "# 문자열\n",
        "z = \"abc\"\n",
        "result = z.zfill(5)\n",
        "print(result)"
      ],
      "metadata": {
        "colab": {
          "base_uri": "https://localhost:8080/"
        },
        "id": "AxtDaKwoMeTj",
        "outputId": "74f60ada-070a-458a-f4d7-f0ab17537efa"
      },
      "execution_count": null,
      "outputs": [
        {
          "output_type": "stream",
          "name": "stdout",
          "text": [
            "00042\n",
            "-0042\n",
            "00abc\n"
          ]
        }
      ]
    },
    {
      "cell_type": "code",
      "source": [
        "# 파일명이나 로그 일렬번호 생성할 때 유용함\n",
        "# 예시\n",
        "\n",
        "filename = '1'.zfill(3) + \".jpg\"\n",
        "print(filename)"
      ],
      "metadata": {
        "colab": {
          "base_uri": "https://localhost:8080/"
        },
        "id": "Ypct0FCXNc2q",
        "outputId": "5f09ca86-1ca4-4f55-f544-6bd4e504f96c"
      },
      "execution_count": null,
      "outputs": [
        {
          "output_type": "stream",
          "name": "stdout",
          "text": [
            "001.jpg\n"
          ]
        }
      ]
    },
    {
      "cell_type": "code",
      "source": [
        "# 날짜 같은 것도 zfill로 깔끔하게 정리 가능\n",
        "\n",
        "년 = '23'\n",
        "월 = '9'\n",
        "일 = '8'\n",
        "오늘날짜 = 년 + 월 + 일\n",
        "print(오늘날짜)\n",
        "오늘날짜 = 년 + 월.zfill(2) + 일.zfill(2)\n",
        "print(오늘날짜)"
      ],
      "metadata": {
        "colab": {
          "base_uri": "https://localhost:8080/"
        },
        "id": "qHUPYT0vOZWy",
        "outputId": "8723be1d-be19-4e80-b468-ff5715f4da8e"
      },
      "execution_count": null,
      "outputs": [
        {
          "output_type": "stream",
          "name": "stdout",
          "text": [
            "2398\n",
            "230908\n"
          ]
        }
      ]
    },
    {
      "cell_type": "code",
      "source": [
        "# 1.20 translate (method)\n",
        "# 특정 문자 치환\n",
        "\n",
        "# 변환 테이블 생성\n",
        "table = str.maketrans(\"abc\", \"123\")\n",
        "\n",
        "text = \"abcde a b c d e\"\n",
        "result = text.translate(table)\n",
        "print(result)"
      ],
      "metadata": {
        "colab": {
          "base_uri": "https://localhost:8080/"
        },
        "id": "SYe9R4a4Ol4I",
        "outputId": "8033908d-01ca-47e3-847c-21dc3871a4d4"
      },
      "execution_count": null,
      "outputs": [
        {
          "output_type": "stream",
          "name": "stdout",
          "text": [
            "123de 1 2 3 d e\n"
          ]
        }
      ]
    },
    {
      "cell_type": "code",
      "source": [
        "# 특정 문자 제거하기\n",
        "\n",
        "table = str.maketrans('', '', 'de') # 3번 째 인수로 제거할 문자 지정\n",
        "text = \"abcde d e.  de ed e\"\n",
        "result = text.translate(table)\n",
        "print(result)"
      ],
      "metadata": {
        "colab": {
          "base_uri": "https://localhost:8080/"
        },
        "id": "Y3FxByuWR5aE",
        "outputId": "9e86d38a-42dc-4bdf-9ced-ff97afeaa388"
      },
      "execution_count": null,
      "outputs": [
        {
          "output_type": "stream",
          "name": "stdout",
          "text": [
            "abc  .    \n"
          ]
        }
      ]
    },
    {
      "cell_type": "code",
      "source": [
        "# 1.21 이스케이프\n",
        "\n",
        "print(\"Hello\\nWorld!\") # \\n 줄바꿈\n",
        "print(\"Hello\\tWorld!\") # \\t 탭 간격 생김\n",
        "print(\"She said \\\"Hello World\\\"\") # \\\" 큰따옴표 나타냄\n",
        "print('She said, \\'Hello World\\'') # \\' 작은따옴표 나타냄\n",
        "print(\"Backslash: \\\\\") # \\\\ 백슬래시를 나타냄"
      ],
      "metadata": {
        "colab": {
          "base_uri": "https://localhost:8080/"
        },
        "id": "HNayVRB3SVFq",
        "outputId": "d97ebbc2-1173-44c2-fa7b-59d254e2d9c1"
      },
      "execution_count": null,
      "outputs": [
        {
          "output_type": "stream",
          "name": "stdout",
          "text": [
            "Hello\n",
            "World!\n",
            "Hello\tWorld!\n",
            "She said \"Hello World\"\n",
            "She said, 'Hello World'\n",
            "Backslash: \\\n"
          ]
        }
      ]
    },
    {
      "cell_type": "code",
      "source": [],
      "metadata": {
        "id": "Mf1kwhXET2BC"
      },
      "execution_count": null,
      "outputs": []
    }
  ]
}
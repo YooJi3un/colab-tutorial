{
  "nbformat": 4,
  "nbformat_minor": 0,
  "metadata": {
    "colab": {
      "provenance": []
    },
    "kernelspec": {
      "name": "python3",
      "display_name": "Python 3"
    },
    "language_info": {
      "name": "python"
    }
  },
  "cells": [
    {
      "cell_type": "markdown",
      "source": [
        "# 시퀀스 자료형\n",
        "\n",
        "* 리스트(List)\n",
        "* 문자열(String)\n",
        "* 튜플(Tuple)\n",
        "* 범위(range)"
      ],
      "metadata": {
        "id": "-YVdY_M2gKX7"
      }
    },
    {
      "cell_type": "code",
      "execution_count": 3,
      "metadata": {
        "colab": {
          "base_uri": "https://localhost:8080/"
        },
        "id": "P0HNEwoO7DjF",
        "outputId": "185b1a69-845c-408d-d16f-03f491a68219"
      },
      "outputs": [
        {
          "output_type": "stream",
          "name": "stdout",
          "text": [
            "a\n",
            "c\n",
            "e\n",
            "b\n"
          ]
        }
      ],
      "source": [
        "# 인덱싱(Indexing)\n",
        "# 고유한 인덱스를 통해 접근 가능(음수를 사용하면 끝에서부터 역으로)\n",
        "\n",
        "     #01234\n",
        "     #54321 (-를 붙여서 나오게 할 경우)\n",
        "ex = 'abcde'\n",
        "print(ex[0])\n",
        "print(ex[2])\n",
        "print(ex[-1])\n",
        "print(ex[-4])"
      ]
    },
    {
      "cell_type": "code",
      "source": [
        "# 슬라이싱(Slicing)\n",
        "\n",
        "ex = 'abcde'\n",
        "print(ex[1:3]) # 1부터 2까지 출력 (3에서 -1해준 자리)\n",
        "print(range(10)[3]) # 0부터 9까지의 숫자를 생성 후 3번째 요소 출력\n",
        "print(range(100)[::5]) # 0부터 99까지 5간격으로 출력 함 (range(0, 100, 5)와 같음)"
      ],
      "metadata": {
        "colab": {
          "base_uri": "https://localhost:8080/"
        },
        "id": "TRxSEZd17XpH",
        "outputId": "553ab938-7acf-4048-fd38-e54f745073b2"
      },
      "execution_count": 2,
      "outputs": [
        {
          "output_type": "stream",
          "name": "stdout",
          "text": [
            "bc\n",
            "3\n",
            "range(0, 100, 5)\n"
          ]
        }
      ]
    },
    {
      "cell_type": "code",
      "source": [
        "# 특정항목 포함 여부 (Member)\n",
        "\n",
        "ex = 'abcde'\n",
        "print('a' in ex) # ex에 a가 포함되어 있으면 True 출력\n",
        "print('z' in ex) # ex에 z가 포함되어 있지 않으면 False 출력"
      ],
      "metadata": {
        "colab": {
          "base_uri": "https://localhost:8080/"
        },
        "id": "cFoZ3zkc75z6",
        "outputId": "f7d792cb-7708-473f-f780-a4b7a9e93d33"
      },
      "execution_count": 10,
      "outputs": [
        {
          "output_type": "stream",
          "name": "stdout",
          "text": [
            "True\n",
            "False\n"
          ]
        }
      ]
    },
    {
      "cell_type": "code",
      "source": [
        "# 연결 & 반복 (lteration)\n",
        "# + 연산자로 시퀀스 연결 가능, * 연산자를 이용하여 반복 가능\n",
        "\n",
        "ex1 = 'abcde'\n",
        "ex2 = 'f'\n",
        "print(ex1 + ex2)\n",
        "print(ex2 * 3)"
      ],
      "metadata": {
        "colab": {
          "base_uri": "https://localhost:8080/"
        },
        "id": "6aauyFe28RcE",
        "outputId": "14a9f605-eeda-4fce-8005-75000470ebb0"
      },
      "execution_count": 14,
      "outputs": [
        {
          "output_type": "stream",
          "name": "stdout",
          "text": [
            "abcdef\n",
            "fff\n"
          ]
        }
      ]
    },
    {
      "cell_type": "code",
      "source": [
        "# 내장함수\n",
        "ex = 'abcde'\n",
        "print(len(ex)) # 문장의 길이 알려주는\n",
        "print(min(ex))\n",
        "print(max(ex))"
      ],
      "metadata": {
        "colab": {
          "base_uri": "https://localhost:8080/"
        },
        "id": "f1wwTecb9Mfj",
        "outputId": "7fe71a65-4936-4b6d-f431-dfb6a7b5ff4a"
      },
      "execution_count": 16,
      "outputs": [
        {
          "output_type": "stream",
          "name": "stdout",
          "text": [
            "5\n",
            "a\n",
            "e\n"
          ]
        }
      ]
    },
    {
      "cell_type": "markdown",
      "source": [
        "# 패킹과 언패킹\n"
      ],
      "metadata": {
        "id": "Zi9KK9e897q4"
      }
    },
    {
      "cell_type": "code",
      "source": [
        "# 패킹 (packing)\n",
        "# 여러 개의 데이터를 하나의 변수에 담는 과정\n",
        "ex1 = 1, 2, 3, 4, 5\n",
        "print(ex1)\n",
        "\n",
        "# 언패킹 (unpacking)\n",
        "# 패킹된 데이터를 여러 개의 변수로 분배하는 과정\n",
        "a, b, c, d, e = ex1\n",
        "print(a)\n",
        "print(b)\n",
        "print(c)\n",
        "print(d)\n",
        "print(e)"
      ],
      "metadata": {
        "colab": {
          "base_uri": "https://localhost:8080/"
        },
        "id": "E_ZinE3-iR2z",
        "outputId": "b0275861-561b-4a71-a3de-f6b198826866"
      },
      "execution_count": 6,
      "outputs": [
        {
          "output_type": "stream",
          "name": "stdout",
          "text": [
            "(1, 2, 3, 4, 5)\n",
            "1\n",
            "2\n",
            "3\n",
            "4\n",
            "5\n"
          ]
        }
      ]
    },
    {
      "cell_type": "code",
      "source": [
        "# 튜플 패킹\n",
        "packed_tuple = 1, 2, 3, 4\n",
        "print(packed_tuple)\n",
        "type(packed_tuple)"
      ],
      "metadata": {
        "colab": {
          "base_uri": "https://localhost:8080/"
        },
        "id": "d3lVLXo19fkE",
        "outputId": "0867f513-fe21-4da1-99bd-74796c0e37b2"
      },
      "execution_count": 18,
      "outputs": [
        {
          "output_type": "stream",
          "name": "stdout",
          "text": [
            "(1, 2, 3, 4)\n"
          ]
        },
        {
          "output_type": "execute_result",
          "data": {
            "text/plain": [
              "tuple"
            ]
          },
          "metadata": {},
          "execution_count": 18
        }
      ]
    },
    {
      "cell_type": "code",
      "source": [
        "packed_tuple = 1, 2, 3, 4\n",
        "\n",
        "# 튜플 언패킹\n",
        "a, b, c, d = packed_tuple\n",
        "print(a)\n",
        "print(b)\n",
        "print(c)\n",
        "print(d)"
      ],
      "metadata": {
        "colab": {
          "base_uri": "https://localhost:8080/"
        },
        "id": "0kAHJNJg-J7o",
        "outputId": "08cef09c-7a1c-4ff4-ea56-a0d0d2991dea"
      },
      "execution_count": 19,
      "outputs": [
        {
          "output_type": "stream",
          "name": "stdout",
          "text": [
            "1\n",
            "2\n",
            "3\n",
            "4\n"
          ]
        }
      ]
    },
    {
      "cell_type": "code",
      "source": [
        "# 다양한 패킹/언패킹\n",
        "# range는 0부터 n-1까지 숫자를 생성하는 함수\n",
        "\n",
        "z = range(3)\n",
        "print(z)\n",
        "\n",
        "a, b, c = range(3) # 언패킹\n",
        "print(range(3))\n",
        "print(a, b, c)"
      ],
      "metadata": {
        "colab": {
          "base_uri": "https://localhost:8080/"
        },
        "id": "L7NEATRX-t91",
        "outputId": "176888bf-a2a3-46e5-f5ad-ab2a9b1ddbc3"
      },
      "execution_count": 21,
      "outputs": [
        {
          "output_type": "stream",
          "name": "stdout",
          "text": [
            "range(0, 3)\n",
            "range(0, 3)\n",
            "0 1 2\n"
          ]
        }
      ]
    },
    {
      "cell_type": "code",
      "source": [
        "total_sum = 0\n",
        "\n",
        "for i in range(5):\n",
        "    total_sum += i\n",
        "    print(total_sum)\n",
        "print(total_sum)"
      ],
      "metadata": {
        "colab": {
          "base_uri": "https://localhost:8080/"
        },
        "id": "zu4tKypU_TnI",
        "outputId": "9d4be66f-6861-45ad-8744-ed5970212b61"
      },
      "execution_count": 22,
      "outputs": [
        {
          "output_type": "stream",
          "name": "stdout",
          "text": [
            "0\n",
            "1\n",
            "3\n",
            "6\n",
            "10\n",
            "10\n"
          ]
        }
      ]
    },
    {
      "cell_type": "code",
      "source": [
        "# * 를 이용한 언패킹 (자주 볼 친구)\n",
        "\n",
        "first, *middle, last = [1, 2, 3, 4, 5]\n",
        "print(first)\n",
        "print(middle)\n",
        "print(last)"
      ],
      "metadata": {
        "colab": {
          "base_uri": "https://localhost:8080/"
        },
        "id": "0pa7SyXIAsjV",
        "outputId": "a6c0571d-4d0d-44b5-f10c-4a2d2be93081"
      },
      "execution_count": 26,
      "outputs": [
        {
          "output_type": "stream",
          "name": "stdout",
          "text": [
            "1\n",
            "[2, 3, 4]\n",
            "5\n"
          ]
        }
      ]
    },
    {
      "cell_type": "code",
      "source": [],
      "metadata": {
        "id": "MrJTCzVAA3zV"
      },
      "execution_count": null,
      "outputs": []
    }
  ]
}
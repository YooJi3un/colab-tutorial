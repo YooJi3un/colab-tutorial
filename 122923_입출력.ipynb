{
  "nbformat": 4,
  "nbformat_minor": 0,
  "metadata": {
    "colab": {
      "provenance": []
    },
    "kernelspec": {
      "name": "python3",
      "display_name": "Python 3"
    },
    "language_info": {
      "name": "python"
    }
  },
  "cells": [
    {
      "cell_type": "markdown",
      "source": [
        "# 1. 입력 input\n"
      ],
      "metadata": {
        "id": "DEzMakxXLWMM"
      }
    },
    {
      "cell_type": "markdown",
      "source": [
        "## 1.1 input 실습"
      ],
      "metadata": {
        "id": "ziUN5wqbMUCo"
      }
    },
    {
      "cell_type": "code",
      "source": [
        "input('입력해주세요')"
      ],
      "metadata": {
        "colab": {
          "base_uri": "https://localhost:8080/",
          "height": 54
        },
        "id": "28jlltGHL2AY",
        "outputId": "24dfe9e7-3623-43fd-829e-f50b7917864c"
      },
      "execution_count": 1,
      "outputs": [
        {
          "name": "stdout",
          "output_type": "stream",
          "text": [
            "입력해주세요hello\n"
          ]
        },
        {
          "output_type": "execute_result",
          "data": {
            "text/plain": [
              "'hello'"
            ],
            "application/vnd.google.colaboratory.intrinsic+json": {
              "type": "string"
            }
          },
          "metadata": {},
          "execution_count": 1
        }
      ]
    },
    {
      "cell_type": "code",
      "source": [
        "input('입력해주세요') #문자형으로 받기"
      ],
      "metadata": {
        "colab": {
          "base_uri": "https://localhost:8080/",
          "height": 54
        },
        "id": "6A4gACZlL4DI",
        "outputId": "89706a25-379d-471a-d0e2-7865e8a51ca2"
      },
      "execution_count": 3,
      "outputs": [
        {
          "name": "stdout",
          "output_type": "stream",
          "text": [
            "입력해주세요10\n"
          ]
        },
        {
          "output_type": "execute_result",
          "data": {
            "text/plain": [
              "'10'"
            ],
            "application/vnd.google.colaboratory.intrinsic+json": {
              "type": "string"
            }
          },
          "metadata": {},
          "execution_count": 3
        }
      ]
    },
    {
      "cell_type": "code",
      "source": [
        "int(input('입력해주세요')) #정수형으로 받기"
      ],
      "metadata": {
        "colab": {
          "base_uri": "https://localhost:8080/"
        },
        "id": "N3meF-8sMDSP",
        "outputId": "2364642f-3167-4c15-a536-c2d5acff55e7"
      },
      "execution_count": 4,
      "outputs": [
        {
          "name": "stdout",
          "output_type": "stream",
          "text": [
            "입력해주세요10\n"
          ]
        },
        {
          "output_type": "execute_result",
          "data": {
            "text/plain": [
              "10"
            ]
          },
          "metadata": {},
          "execution_count": 4
        }
      ]
    },
    {
      "cell_type": "markdown",
      "source": [
        "## 1.2 input 실습 2\n",
        "\n",
        "input으로 받은 값을 변수에 할당"
      ],
      "metadata": {
        "id": "guh5oxFRMR6t"
      }
    },
    {
      "cell_type": "code",
      "source": [
        "name = input(\"이름을 입력해주세요\")"
      ],
      "metadata": {
        "colab": {
          "base_uri": "https://localhost:8080/"
        },
        "id": "vbpduPMEMc2V",
        "outputId": "0f8dab03-f0a2-42eb-e043-e4206381b7c5"
      },
      "execution_count": 5,
      "outputs": [
        {
          "name": "stdout",
          "output_type": "stream",
          "text": [
            "이름을 입력해주세요유지은\n"
          ]
        }
      ]
    },
    {
      "cell_type": "code",
      "source": [
        "print(\"Hello, \" + name + \"!\")"
      ],
      "metadata": {
        "colab": {
          "base_uri": "https://localhost:8080/"
        },
        "id": "7V3T3gG3MgX1",
        "outputId": "ce92527a-b4cf-4769-8656-e22029cddcda"
      },
      "execution_count": 6,
      "outputs": [
        {
          "output_type": "stream",
          "name": "stdout",
          "text": [
            "Hello, 유지은!\n"
          ]
        }
      ]
    },
    {
      "cell_type": "code",
      "source": [
        "# input을 활용한 덧셈 -  문자열인 경우 (이러한 오류가 생김)\n",
        "a = input(\"첫 번째 숫자를 입력해주세요\")\n",
        "b = input(\"두 번째 숫자를 입력해주세요\")\n",
        "\n",
        "print(\"a + b = \", a+b, \" 입니다. \")"
      ],
      "metadata": {
        "colab": {
          "base_uri": "https://localhost:8080/"
        },
        "id": "8uHVYYoJMliB",
        "outputId": "b1a65a88-987c-42a3-c818-fc908d0480f3"
      },
      "execution_count": 7,
      "outputs": [
        {
          "output_type": "stream",
          "name": "stdout",
          "text": [
            "첫 번째 숫자를 입력해주세요33\n",
            "두 번째 숫자를 입력해주세요45\n",
            "a + b =  3345  입니다. \n"
          ]
        }
      ]
    },
    {
      "cell_type": "code",
      "source": [
        "# input을 활용한 덧셈 -  숫자열인 경우\n",
        "a = int(input(\"첫 번째 숫자를 입력해주세요\"))\n",
        "b = int(input(\"두 번째 숫자를 입력해주세요\"))\n",
        "\n",
        "print(\"a + b = \", a+b, \" 입니다. \")"
      ],
      "metadata": {
        "colab": {
          "base_uri": "https://localhost:8080/"
        },
        "id": "FjEjfqi6NNIz",
        "outputId": "a9e4e41a-0948-4c6a-b0a8-01ac8bba020f"
      },
      "execution_count": 8,
      "outputs": [
        {
          "output_type": "stream",
          "name": "stdout",
          "text": [
            "첫 번째 숫자를 입력해주세요33\n",
            "두 번째 숫자를 입력해주세요45\n",
            "a + b =  78  입니다. \n"
          ]
        }
      ]
    },
    {
      "cell_type": "code",
      "source": [],
      "metadata": {
        "id": "y4XcPgkoNhhg"
      },
      "execution_count": null,
      "outputs": []
    },
    {
      "cell_type": "markdown",
      "source": [
        "# 2. 출력함수 Print"
      ],
      "metadata": {
        "id": "zQ3EXgYONr8p"
      }
    },
    {
      "cell_type": "code",
      "source": [
        "# 1. 여러줄 출력 (print 사용 안하면 마지막 한 줄만 출력)\n",
        "\n",
        "'출력'\n",
        "'출력합니다.'"
      ],
      "metadata": {
        "colab": {
          "base_uri": "https://localhost:8080/",
          "height": 35
        },
        "id": "IjX4U8UfO3xb",
        "outputId": "460df48b-828f-48ff-c614-357481a74d0a"
      },
      "execution_count": 16,
      "outputs": [
        {
          "output_type": "execute_result",
          "data": {
            "text/plain": [
              "'출력합니다.'"
            ],
            "application/vnd.google.colaboratory.intrinsic+json": {
              "type": "string"
            }
          },
          "metadata": {},
          "execution_count": 16
        }
      ]
    },
    {
      "cell_type": "code",
      "source": [
        "# 2. 여러값 출력\n",
        "\n",
        "print(\"hello\", \"world\", \"!\")"
      ],
      "metadata": {
        "colab": {
          "base_uri": "https://localhost:8080/"
        },
        "id": "hZvbauRbPrBo",
        "outputId": "433d4b52-342e-4a86-b13b-fdf62ffa6c72"
      },
      "execution_count": 12,
      "outputs": [
        {
          "output_type": "stream",
          "name": "stdout",
          "text": [
            "hello world !\n"
          ]
        }
      ]
    },
    {
      "cell_type": "markdown",
      "source": [
        "## 2.1 구분자 sep\n",
        "\n",
        "값들 사이의 연결할 때 구분자를 원하는 문자로 지정하여 사용할 수 있음.\n"
      ],
      "metadata": {
        "id": "q7ceFyRwPECI"
      }
    },
    {
      "cell_type": "code",
      "source": [
        "# sep 구분자\n",
        "\n",
        "print(\"hello\", \"world\", \"!\", sep = \"-\")"
      ],
      "metadata": {
        "colab": {
          "base_uri": "https://localhost:8080/"
        },
        "id": "lah8Od0_PVyy",
        "outputId": "b4be6305-5fe4-4259-96fc-10248ef8ff7a"
      },
      "execution_count": 14,
      "outputs": [
        {
          "output_type": "stream",
          "name": "stdout",
          "text": [
            "hello-world-!\n"
          ]
        }
      ]
    },
    {
      "cell_type": "markdown",
      "source": [
        "## 2.2 end\n",
        "\n",
        "뒤에 붙은 거 정할 수 있음"
      ],
      "metadata": {
        "id": "LfCdQskMPa5h"
      }
    },
    {
      "cell_type": "code",
      "source": [
        "# end 구분자\n",
        "\n",
        "print(\"hello\", \"world\", \"!\", end = \"@\")"
      ],
      "metadata": {
        "colab": {
          "base_uri": "https://localhost:8080/"
        },
        "id": "EYE-uo_lQGI9",
        "outputId": "8f69a954-d284-4a0f-ce89-f487d1c6b142"
      },
      "execution_count": 15,
      "outputs": [
        {
          "output_type": "stream",
          "name": "stdout",
          "text": [
            "hello world !@"
          ]
        }
      ]
    },
    {
      "cell_type": "code",
      "source": [],
      "metadata": {
        "id": "WKBKmUfzQLav"
      },
      "execution_count": null,
      "outputs": []
    },
    {
      "cell_type": "markdown",
      "source": [
        "# 3. f-string"
      ],
      "metadata": {
        "id": "r6egPb1cRXWe"
      }
    },
    {
      "cell_type": "code",
      "source": [
        "# f-string (f가 없을때)\n",
        "\n",
        "name = 'yoo'\n",
        "age = 23\n",
        "print('이름은 {name}, 제 나이는 {age} 입니다.')"
      ],
      "metadata": {
        "colab": {
          "base_uri": "https://localhost:8080/"
        },
        "id": "_7liIRwjRbjF",
        "outputId": "19f15739-8167-471d-fa38-cdf215d67096"
      },
      "execution_count": 19,
      "outputs": [
        {
          "output_type": "stream",
          "name": "stdout",
          "text": [
            "이름은 {name}, 제 나이는 {age} 입니다.\n"
          ]
        }
      ]
    },
    {
      "cell_type": "code",
      "source": [
        "# f-string ({}가 없을때)\n",
        "\n",
        "name = 'yoo'\n",
        "age = 23\n",
        "print(f'이름은 name, 제 나이는 age 입니다.')"
      ],
      "metadata": {
        "colab": {
          "base_uri": "https://localhost:8080/"
        },
        "id": "UYVB88x1RiED",
        "outputId": "d2f32490-6ef8-44cf-f3b1-2ba28c4ed7f0"
      },
      "execution_count": 20,
      "outputs": [
        {
          "output_type": "stream",
          "name": "stdout",
          "text": [
            "이름은 name, 제 나이는 age 입니다.\n"
          ]
        }
      ]
    },
    {
      "cell_type": "code",
      "source": [
        "# f-string (제대로 사용)\n",
        "\n",
        "name = 'yoo'\n",
        "age = 23\n",
        "print(f'이름은 {name}, 제 나이는 {age} 입니다.')"
      ],
      "metadata": {
        "colab": {
          "base_uri": "https://localhost:8080/"
        },
        "id": "JZXc-2YeRuCw",
        "outputId": "a15f8f8e-3d0a-4cd3-8f9b-3ea538fb6369"
      },
      "execution_count": 21,
      "outputs": [
        {
          "output_type": "stream",
          "name": "stdout",
          "text": [
            "이름은 yoo, 제 나이는 23 입니다.\n"
          ]
        }
      ]
    },
    {
      "cell_type": "code",
      "source": [
        "# input과 f-string을 이용한 예시\n",
        "\n",
        "name = input(\"이름을 입력해주세요.\")\n",
        "age = int(input(\"나이를 입력해주세요.\"))\n",
        "\n",
        "print(f'이름은 {name}, 제 나이는 {age} 입니다.')"
      ],
      "metadata": {
        "colab": {
          "base_uri": "https://localhost:8080/"
        },
        "id": "I8TRK8j5R5w3",
        "outputId": "5e89f2db-fd40-4916-9470-b2fcb7c7d6c3"
      },
      "execution_count": 23,
      "outputs": [
        {
          "output_type": "stream",
          "name": "stdout",
          "text": [
            "이름을 입력해주세요.yoohan\n",
            "나이를 입력해주세요.23\n",
            "이름은 yoohan, 제 나이는 23 입니다.\n"
          ]
        }
      ]
    },
    {
      "cell_type": "code",
      "source": [],
      "metadata": {
        "id": "5Z0dzpLWSMxB"
      },
      "execution_count": null,
      "outputs": []
    },
    {
      "cell_type": "markdown",
      "source": [
        "# 4. None\n",
        "\n",
        "None은 값이 없는? 할당을 받아도 출력 안함\n",
        "\n",
        "(print쓰면 나타남)"
      ],
      "metadata": {
        "id": "x4CY12_NTOgS"
      }
    },
    {
      "cell_type": "code",
      "source": [
        "# None\n",
        "\n",
        "a = None"
      ],
      "metadata": {
        "id": "v0AeDyKxT3iO"
      },
      "execution_count": 24,
      "outputs": []
    },
    {
      "cell_type": "code",
      "source": [
        "print(a)"
      ],
      "metadata": {
        "colab": {
          "base_uri": "https://localhost:8080/"
        },
        "id": "ZVMRNiMHUEw-",
        "outputId": "c00d7652-7f86-4383-b7ed-46cb0391431f"
      },
      "execution_count": 25,
      "outputs": [
        {
          "output_type": "stream",
          "name": "stdout",
          "text": [
            "None\n"
          ]
        }
      ]
    },
    {
      "cell_type": "code",
      "source": [],
      "metadata": {
        "id": "OvRbsuo1UHLP"
      },
      "execution_count": null,
      "outputs": []
    }
  ]
}
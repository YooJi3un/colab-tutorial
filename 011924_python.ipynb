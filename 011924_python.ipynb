{
  "nbformat": 4,
  "nbformat_minor": 0,
  "metadata": {
    "colab": {
      "provenance": []
    },
    "kernelspec": {
      "name": "python3",
      "display_name": "Python 3"
    },
    "language_info": {
      "name": "python"
    }
  },
  "cells": [
    {
      "cell_type": "markdown",
      "source": [
        "# 문제 1: 이메일 주소 변경하기 (sub 사용)\n",
        "문제: 주어진 문자열에서 모든 이메일 주소를 `user@weniv.co.kr`으로 변경하시오.\n",
        "\n",
        "예시 입력: \"저의 이메일 주소는 kim123@gmail.com입니다. 친구의 이메일 주소는 lee456@gmail.com입니다.\"\n",
        "예시 출력: \"저의 이메일 주소는 user@weniv.co.kr입니다. 친구의 이메일 주소는 user@weniv.co.kr입니다.\"\n",
        "\n",
        "힌트: 이메일 주소를 찾기 위한 정규표현식은 `\\b[A-Za-z0-9._%+-]+@[A-Za-z0-9.-]+\\.[A-Z|a-z]{2,}\\b`를 사용할 수 있습니다.\n",
        "\n",
        "\n",
        "# 문제 2: HTML 태그 제거하기 (sub 사용)\n",
        "문제: 주어진 HTML 문자열에서 모든 HTML 태그를 제거하고 텍스트만 남기시오.\n",
        "\n",
        "예시 입력: \"<p>이것은 <b>예시</b> 문장입니다.</p>\"\n",
        "예시 출력: \"이것은 예시 문장입니다.\"\n",
        "\n",
        "힌트: HTML 태그를 찾기 위한 정규표현식은 `<[^>]+>`를 사용할 수 있습니다."
      ],
      "metadata": {
        "id": "iPdFadg0E_oO"
      }
    },
    {
      "cell_type": "code",
      "execution_count": 1,
      "metadata": {
        "colab": {
          "base_uri": "https://localhost:8080/",
          "height": 35
        },
        "id": "qtGjHP7YDsRN",
        "outputId": "88fafc17-1707-46ee-e1d6-fddb3f78dee0"
      },
      "outputs": [
        {
          "output_type": "execute_result",
          "data": {
            "text/plain": [
              "'user@weniv.co.kr'"
            ],
            "application/vnd.google.colaboratory.intrinsic+json": {
              "type": "string"
            }
          },
          "metadata": {},
          "execution_count": 1
        }
      ],
      "source": [
        "# 문제 1 풀이\n",
        "def solution(url):\n",
        "    return url.split('@')[0] + '@weniv.co.kr'\n",
        "\n",
        "solution('user@weniv.co.kr')"
      ]
    },
    {
      "cell_type": "code",
      "source": [
        "# 변경된 문제의 해답\n",
        "import re\n",
        "\n",
        "def chagedomain(url):\n",
        "    return url.split('@')[0] + '@weniv.co.kr'\n",
        "\n",
        "# 콤마는 의도적으로 넣지 않은 것입니다.\n",
        "findpattern = re.findall(r\"[A-Za-z0-9._%+-]+@[A-Za-z0-9.-]+\\.[A-Z|a-z]{2,}\",\n",
        "                         \"저의 이메일 주소는 kim123@gmail.com입니다.\"\n",
        "                         \"친구의 이메일 주소는 lee456@gmail.com입니다.\")\n",
        "\n",
        "for url in findpattern:\n",
        "    print(chagedomain(url))"
      ],
      "metadata": {
        "colab": {
          "base_uri": "https://localhost:8080/"
        },
        "id": "oP1ad6qCFkre",
        "outputId": "9449180c-5c9d-4195-8300-e61357c2268b"
      },
      "execution_count": 3,
      "outputs": [
        {
          "output_type": "stream",
          "name": "stdout",
          "text": [
            "kim123@weniv.co.kr\n",
            "lee456@weniv.co.kr\n"
          ]
        }
      ]
    },
    {
      "cell_type": "markdown",
      "source": [
        "# 문제 풀이 20문제(프로그래머스, pyalgo)"
      ],
      "metadata": {
        "id": "lxNbJVbNLp3l"
      }
    },
    {
      "cell_type": "code",
      "source": [
        "# 알고리즘 문제풀기 전략\n",
        "\n",
        "# 듣기\n",
        "# 예제\n",
        "# 무식하게 풀기 (v)\n",
        "# 최적화\n",
        "# 검토하기\n",
        "# 구현하기\n",
        "# 테스트"
      ],
      "metadata": {
        "id": "e3kKjh4AMHjv"
      },
      "execution_count": null,
      "outputs": []
    },
    {
      "cell_type": "code",
      "source": [
        "def solution(data):\n",
        "    return\n",
        "\n",
        "solution"
      ],
      "metadata": {
        "id": "nNEjjkOJGqHE"
      },
      "execution_count": null,
      "outputs": []
    },
    {
      "cell_type": "code",
      "source": [
        "# 1: https://school.programmers.co.kr/learn/courses/30/lessons/120824 (홀짝 찾기)\n",
        "\n",
        "def solution(data):\n",
        "    홀수 = [i % 2 != 0 for i in data]\n",
        "    짝수 = [i % 2 == 0 for i in data]\n",
        "    print(홀수, 짝수)\n",
        "    return [sum(짝수), sum(홀수)]"
      ],
      "metadata": {
        "id": "Z6sCX1XkL6sw"
      },
      "execution_count": 8,
      "outputs": []
    },
    {
      "cell_type": "code",
      "source": [
        "# 좋은 풀이는 아님! (data 가변 최대치를 봄)\n",
        "\n",
        "def solution(data):\n",
        "    짝수 = [i % 2 == 0 for i in data]\n",
        "    return [sum(짝수), len(data) - sum(짝수)] # sum이 순회"
      ],
      "metadata": {
        "id": "FqyfKDUKRt2N"
      },
      "execution_count": null,
      "outputs": []
    },
    {
      "cell_type": "code",
      "source": [
        "# 좋은 풀이! (근데 좀 어려운)\n",
        "\n",
        "def solution(num_list):\n",
        "    answer = [0, 0]\n",
        "    for i in num_list:\n",
        "        answer[i % 2] += 1\n",
        "    return answer"
      ],
      "metadata": {
        "id": "1PpBHsuTMjdh"
      },
      "execution_count": null,
      "outputs": []
    },
    {
      "cell_type": "code",
      "source": [
        "# 2: https://school.programmers.co.kr/learn/courses/30/lessons/120585 (키 큰 사람 찾기)\n",
        "\n",
        "# 언패킹 할 수 있는건 언패킹 하기\n",
        "def solution(data):\n",
        "    array, height = data\n",
        "    pass\n",
        "\n",
        "solution([149, 180, 192, 170], 167)"
      ],
      "metadata": {
        "id": "iTSLVEVsSVp_"
      },
      "execution_count": null,
      "outputs": []
    },
    {
      "cell_type": "code",
      "source": [
        "# 좀 읽기 힘든 풀이\n",
        "\n",
        "def solution(array, height):\n",
        "    count = 0\n",
        "    for i in array:\n",
        "        if i > height:\n",
        "            count += 1\n",
        "    return count\n",
        "\n",
        "solution([149, 180, 192, 170], 167)"
      ],
      "metadata": {
        "id": "EJvqgc5pTStm"
      },
      "execution_count": null,
      "outputs": []
    },
    {
      "cell_type": "code",
      "source": [
        "# filter는 len가 없음\n",
        "\n",
        "def solution(array, height):\n",
        "    return len(list(filter(lambda x: x > height, array)))\n",
        "\n",
        "solution([149, 180, 192, 170], 167)"
      ],
      "metadata": {
        "colab": {
          "base_uri": "https://localhost:8080/"
        },
        "id": "5t3Z76n8TqDu",
        "outputId": "f3eb0ebf-8827-4d7f-8ea7-7b743cf2a33d"
      },
      "execution_count": 10,
      "outputs": [
        {
          "output_type": "execute_result",
          "data": {
            "text/plain": [
              "3"
            ]
          },
          "metadata": {},
          "execution_count": 10
        }
      ]
    },
    {
      "cell_type": "code",
      "source": [
        "def solution(array, height):\n",
        "    return sum(map(lambda x: x > height, array))\n",
        "\n",
        "solution([149, 180, 192, 170], 167)"
      ],
      "metadata": {
        "colab": {
          "base_uri": "https://localhost:8080/"
        },
        "id": "z_fjEyOXUC1D",
        "outputId": "2b86033f-dba0-42c4-f5af-f119c4320db0"
      },
      "execution_count": 11,
      "outputs": [
        {
          "output_type": "execute_result",
          "data": {
            "text/plain": [
              "3"
            ]
          },
          "metadata": {},
          "execution_count": 11
        }
      ]
    },
    {
      "cell_type": "code",
      "source": [
        "def solution(array, height):\n",
        "    return sum([i > height for i in array])\n",
        "\n",
        "solution([149, 180, 192, 170], 167)"
      ],
      "metadata": {
        "colab": {
          "base_uri": "https://localhost:8080/"
        },
        "id": "JqZewt4BVKbH",
        "outputId": "9b945405-e6b8-4aa3-fa0f-43dfa51301c0"
      },
      "execution_count": 12,
      "outputs": [
        {
          "output_type": "execute_result",
          "data": {
            "text/plain": [
              "3"
            ]
          },
          "metadata": {},
          "execution_count": 12
        }
      ]
    },
    {
      "cell_type": "code",
      "source": [
        "# 3: https://school.programmers.co.kr/learn/courses/30/lessons/120851\n",
        "\n",
        "def solution(my_string):\n",
        "    result = 0\n",
        "    for i in my_string:\n",
        "        if i.isdigit():\n",
        "            result += int(i)\n",
        "\n",
        "    return result\n",
        "\n",
        "solution(\"aAb1B2cC34o0p\")"
      ],
      "metadata": {
        "colab": {
          "base_uri": "https://localhost:8080/"
        },
        "id": "DIwf2U-nVjfL",
        "outputId": "fc7ab3e1-d41d-4819-cbb4-4f031bbcf80a"
      },
      "execution_count": 14,
      "outputs": [
        {
          "output_type": "execute_result",
          "data": {
            "text/plain": [
              "10"
            ]
          },
          "metadata": {},
          "execution_count": 14
        }
      ]
    },
    {
      "cell_type": "code",
      "source": [
        "# 효율적이지는 않음\n",
        "\n",
        "def solution(my_string):\n",
        "    return list(filter(lambda x: x.isdigit(), list(my_string)))\n",
        "\n",
        "solution(\"aAb1B2cC34o0p\")"
      ],
      "metadata": {
        "colab": {
          "base_uri": "https://localhost:8080/"
        },
        "id": "NofLbZLVWpIX",
        "outputId": "95b31c5a-984f-4687-a0e2-68f9b969270f"
      },
      "execution_count": 17,
      "outputs": [
        {
          "output_type": "execute_result",
          "data": {
            "text/plain": [
              "['1', '2', '3', '4', '0']"
            ]
          },
          "metadata": {},
          "execution_count": 17
        }
      ]
    },
    {
      "cell_type": "code",
      "source": [
        "def solution(my_string):\n",
        "    return list(filter(str.isdigit, my_string))\n",
        "\n",
        "solution(\"aAb1B2cC34o0p\")"
      ],
      "metadata": {
        "colab": {
          "base_uri": "https://localhost:8080/"
        },
        "id": "_I_NP0-PXKnA",
        "outputId": "8c6d4f18-ebd5-4dcf-8259-b138f62141e3"
      },
      "execution_count": 21,
      "outputs": [
        {
          "output_type": "execute_result",
          "data": {
            "text/plain": [
              "['1', '2', '3', '4', '0']"
            ]
          },
          "metadata": {},
          "execution_count": 21
        }
      ]
    },
    {
      "cell_type": "code",
      "source": [
        "import re\n",
        "\n",
        "re.findall(r'[0-9]', \"aAb1B2cC34o0p\")"
      ],
      "metadata": {
        "colab": {
          "base_uri": "https://localhost:8080/"
        },
        "id": "stJs3Hj5XTqc",
        "outputId": "5c20cc58-62c3-4f7b-f181-7ac00de17dd4"
      },
      "execution_count": 23,
      "outputs": [
        {
          "output_type": "execute_result",
          "data": {
            "text/plain": [
              "['1', '2', '3', '4', '0']"
            ]
          },
          "metadata": {},
          "execution_count": 23
        }
      ]
    },
    {
      "cell_type": "code",
      "source": [
        "import re\n",
        "\n",
        "def solution(s):\n",
        "    return sum(map(int, re.findall(r'[0-9]', s)))\n",
        "\n",
        "solution(\"aAb1B2cC34o0p\")"
      ],
      "metadata": {
        "colab": {
          "base_uri": "https://localhost:8080/"
        },
        "id": "g8OrvvLzdJCK",
        "outputId": "1a2d172d-3187-4677-e208-06d7fbf53f58"
      },
      "execution_count": 25,
      "outputs": [
        {
          "output_type": "execute_result",
          "data": {
            "text/plain": [
              "10"
            ]
          },
          "metadata": {},
          "execution_count": 25
        }
      ]
    },
    {
      "cell_type": "code",
      "source": [
        "import re\n",
        "\n",
        "def solution(s):\n",
        "    return sum(map(int,(re.sub(r'[a-zA-Z]', '', s))))\n",
        "\n",
        "solution(\"aAb1B2cC34o0p\")"
      ],
      "metadata": {
        "colab": {
          "base_uri": "https://localhost:8080/"
        },
        "id": "UiwV5k_ndhxW",
        "outputId": "047f4697-dcaa-4098-f105-ee1b67f15dec"
      },
      "execution_count": 28,
      "outputs": [
        {
          "output_type": "execute_result",
          "data": {
            "text/plain": [
              "10"
            ]
          },
          "metadata": {},
          "execution_count": 28
        }
      ]
    },
    {
      "cell_type": "code",
      "source": [
        "# 4: https://school.programmers.co.kr/learn/courses/30/lessons/120892 (암호 해독)\n",
        "\n",
        "def solution(cipher, code):\n",
        "    return cipher[code-1::code]\n",
        "\n",
        "solution(\"dfjardstddetckdaccccdegk\", 4)"
      ],
      "metadata": {
        "colab": {
          "base_uri": "https://localhost:8080/",
          "height": 35
        },
        "id": "0G_K35lhd9_L",
        "outputId": "a8a83a67-24b0-4b56-91ca-83675b37f9ba"
      },
      "execution_count": 31,
      "outputs": [
        {
          "output_type": "execute_result",
          "data": {
            "text/plain": [
              "'attack'"
            ],
            "application/vnd.google.colaboratory.intrinsic+json": {
              "type": "string"
            }
          },
          "metadata": {},
          "execution_count": 31
        }
      ]
    },
    {
      "cell_type": "code",
      "source": [
        "def solution(cipher, code):\n",
        "    count = 1\n",
        "    for i in cipher:\n",
        "        if count == code:\n",
        "            print(i)\n",
        "            count = 0\n",
        "        count += 1\n",
        "\n",
        "solution(\"dfjardstddetckdaccccdegk\", 4)"
      ],
      "metadata": {
        "colab": {
          "base_uri": "https://localhost:8080/"
        },
        "id": "ZgB1teTSfK8d",
        "outputId": "b4af7320-89f7-4bbd-fa7a-16eaf3c0d1ef"
      },
      "execution_count": 34,
      "outputs": [
        {
          "output_type": "stream",
          "name": "stdout",
          "text": [
            "a\n",
            "t\n",
            "t\n",
            "a\n",
            "c\n",
            "k\n"
          ]
        }
      ]
    },
    {
      "cell_type": "code",
      "source": [
        "def solution(cipher, code):\n",
        "    count = 1\n",
        "    for i, j in enumerate(cipher, 1):\n",
        "        if i % code == 0:\n",
        "            print(j)\n",
        "\n",
        "solution(\"dfjardstddetckdaccccdegk\", 4)"
      ],
      "metadata": {
        "colab": {
          "base_uri": "https://localhost:8080/"
        },
        "id": "i7P5prPvf3BJ",
        "outputId": "07d81f8c-4b86-49f9-fd31-49d16613a0e8"
      },
      "execution_count": 36,
      "outputs": [
        {
          "output_type": "stream",
          "name": "stdout",
          "text": [
            "a\n",
            "t\n",
            "t\n",
            "a\n",
            "c\n",
            "k\n"
          ]
        }
      ]
    },
    {
      "cell_type": "code",
      "source": [
        "# 5: https://school.programmers.co.kr/learn/courses/30/lessons/120891 (3,6,9, 게임)\n",
        "\n",
        "def solution(order):\n",
        "    order =str(order)\n",
        "    return order.count('3') + order.count('6') + order.count('9')\n",
        "\n",
        "solution('29423')"
      ],
      "metadata": {
        "colab": {
          "base_uri": "https://localhost:8080/"
        },
        "id": "a_EeGtkFgcWj",
        "outputId": "5feaa4c7-5753-46f4-e4d1-2bc4c9a621a7"
      },
      "execution_count": 37,
      "outputs": [
        {
          "output_type": "execute_result",
          "data": {
            "text/plain": [
              "2"
            ]
          },
          "metadata": {},
          "execution_count": 37
        }
      ]
    },
    {
      "cell_type": "code",
      "source": [
        "import re\n",
        "\n",
        "def solution(order):\n",
        "    order =str(order)\n",
        "    return len(list(re.findall(r'[369]',order)))\n",
        "\n",
        "solution('29423')"
      ],
      "metadata": {
        "colab": {
          "base_uri": "https://localhost:8080/"
        },
        "id": "Hd9324IrjjtR",
        "outputId": "0d5507bc-87ff-409f-c646-c09ce123fe6f"
      },
      "execution_count": 38,
      "outputs": [
        {
          "output_type": "execute_result",
          "data": {
            "text/plain": [
              "2"
            ]
          },
          "metadata": {},
          "execution_count": 38
        }
      ]
    },
    {
      "cell_type": "code",
      "source": [
        "# 6: https://school.programmers.co.kr/learn/courses/30/lessons/120888 (중복 문자 제거)\n",
        "\n",
        "# 중복 제거를 했지만 순서가?\n",
        "set(\"people\")"
      ],
      "metadata": {
        "colab": {
          "base_uri": "https://localhost:8080/"
        },
        "id": "YXTGEIl2kD5Q",
        "outputId": "da1f63dc-8869-46cc-d7b3-a4c0da74cc51"
      },
      "execution_count": 39,
      "outputs": [
        {
          "output_type": "execute_result",
          "data": {
            "text/plain": [
              "{'e', 'l', 'o', 'p'}"
            ]
          },
          "metadata": {},
          "execution_count": 39
        }
      ]
    },
    {
      "cell_type": "code",
      "source": [
        "def solution(s):\n",
        "    answer = ''\n",
        "    for i in s:\n",
        "        if i not in answer:\n",
        "            answer += i\n",
        "    print(answer)\n",
        "\n",
        "solution('people')"
      ],
      "metadata": {
        "colab": {
          "base_uri": "https://localhost:8080/"
        },
        "id": "Lj0AigYOlApA",
        "outputId": "e5bce730-191c-4bcc-ab2b-4e16eb7598a9"
      },
      "execution_count": 41,
      "outputs": [
        {
          "output_type": "stream",
          "name": "stdout",
          "text": [
            "peol\n"
          ]
        }
      ]
    },
    {
      "cell_type": "code",
      "source": [
        "# 완전 좋은 풀이\n",
        "\n",
        "def solution(my_string):\n",
        "    return ''.join(dict.fromkeys(my_string)) # 딕셔너리가 키 중복이 안되는 것을 사용\n",
        "\n",
        "solution('people')"
      ],
      "metadata": {
        "colab": {
          "base_uri": "https://localhost:8080/",
          "height": 35
        },
        "id": "UD3o_conlmQD",
        "outputId": "a2c03bd0-9855-40fa-b38d-b0bc787314fc"
      },
      "execution_count": 43,
      "outputs": [
        {
          "output_type": "execute_result",
          "data": {
            "text/plain": [
              "'peol'"
            ],
            "application/vnd.google.colaboratory.intrinsic+json": {
              "type": "string"
            }
          },
          "metadata": {},
          "execution_count": 43
        }
      ]
    },
    {
      "cell_type": "code",
      "source": [
        "# 7: https://school.programmers.co.kr/learn/courses/30/lessons/120886\n",
        "\n",
        "def solution(before, after):\n",
        "    if len(before) != len(after): # 예외 처리는 앞에서 반드시 해주어야 함\n",
        "        return 0\n",
        "    return 1 if sorted(before) == sorted(after) else 0\n",
        "\n",
        "solution('olleh', 'hello')"
      ],
      "metadata": {
        "id": "O4zJOscWmAxw"
      },
      "execution_count": null,
      "outputs": []
    },
    {
      "cell_type": "code",
      "source": [
        "import collections\n",
        "\n",
        "# collections.Counter(\"olleh\") == collections.Counter(\"hello\")\n",
        "collections.Counter(\"olleh\")"
      ],
      "metadata": {
        "colab": {
          "base_uri": "https://localhost:8080/"
        },
        "id": "l2xtUGQzoE7z",
        "outputId": "eacf1fb4-a12c-49c9-ce8b-7076058350b6"
      },
      "execution_count": 45,
      "outputs": [
        {
          "output_type": "execute_result",
          "data": {
            "text/plain": [
              "Counter({'o': 1, 'l': 2, 'e': 1, 'h': 1})"
            ]
          },
          "metadata": {},
          "execution_count": 45
        }
      ]
    },
    {
      "cell_type": "code",
      "source": [
        "def solution(before, after):\n",
        "    a = list(after)\n",
        "    for i in before:\n",
        "        if i in a:\n",
        "            a.remove(i)\n",
        "        else:\n",
        "            return 0\n",
        "    if a:\n",
        "        return 0\n",
        "    return 1\n",
        "\n",
        "solution(\"olleh\", \"hello\")"
      ],
      "metadata": {
        "colab": {
          "base_uri": "https://localhost:8080/"
        },
        "id": "whUY5g49wInF",
        "outputId": "f315111c-e7ed-4703-d823-a6458cd655a0"
      },
      "execution_count": 46,
      "outputs": [
        {
          "output_type": "execute_result",
          "data": {
            "text/plain": [
              "1"
            ]
          },
          "metadata": {},
          "execution_count": 46
        }
      ]
    },
    {
      "cell_type": "code",
      "source": [
        "# 회문\n",
        "\n",
        "# 'hello' => 'elloh' => 'llohe'\n",
        "# 'hello' => 'ohell' => 'lohel'\n",
        "# collections.deque를 사용해서 풀면 쉽게 풀립니다.\n",
        "\n",
        "# 문제1 'hello'를 앞뒤로 이동시켜 'llohe'를 만들 수 있나요?\n",
        "# 'hellohello'\n",
        "\n",
        "# 문제2 몇칸 이동했나요?\n",
        "# 'hellohello'.index('llohe')"
      ],
      "metadata": {
        "id": "2S5b_BNzxRhL"
      },
      "execution_count": null,
      "outputs": []
    },
    {
      "cell_type": "code",
      "source": [
        "# 8: https://school.programmers.co.kr/learn/courses/30/lessons/120871 (저주의 숫자)\n",
        "\n",
        "# 십진수    3숫자마을\n",
        "# 1         1\n",
        "# 2         2\n",
        "# 3         4\n",
        "# 4         5\n",
        "# 5         7\n",
        "# 6         8\n",
        "# 7         10\n",
        "# 8         11\n",
        "# 9         14\n",
        "# 10        16\n",
        "\n",
        "# filter('3이 들어간 숫자 없애기', filter('3의 배수 없애기', [1, 2, 3, 4, 5, 6, 7, 8, 9, 10]))\n",
        "\n",
        "def solution(num):\n",
        "    return list(filter(lambda x: (x % 3 != 0) and ('3' not in str(x)), range(10000)))[num-1]\n",
        "\n",
        "solution(15)"
      ],
      "metadata": {
        "colab": {
          "base_uri": "https://localhost:8080/"
        },
        "id": "L36UHGhC0jzH",
        "outputId": "8ebefeeb-0537-48b6-eb59-02c79853f571"
      },
      "execution_count": 48,
      "outputs": [
        {
          "output_type": "execute_result",
          "data": {
            "text/plain": [
              "25"
            ]
          },
          "metadata": {},
          "execution_count": 48
        }
      ]
    },
    {
      "cell_type": "code",
      "source": [
        "def solution(num):\n",
        "    l = []\n",
        "    for i in range(1000):\n",
        "        if i % 3 != 0:\n",
        "            l.append(i)\n",
        "        elif '3' not in str(i):\n",
        "            l.append(i)\n",
        "    print(l)\n",
        "\n",
        "solution(15)"
      ],
      "metadata": {
        "id": "Pf2pSa-20sax"
      },
      "execution_count": null,
      "outputs": []
    },
    {
      "cell_type": "code",
      "source": [
        "# 9: https://school.programmers.co.kr/learn/courses/30/lessons/120835 (우선 순위)\n",
        "\n",
        "def solution(emergency):\n",
        "    pass\n",
        "\n",
        "solution([3, 76, 24])"
      ],
      "metadata": {
        "id": "2rAUPw4J1-Fk"
      },
      "execution_count": null,
      "outputs": []
    },
    {
      "cell_type": "code",
      "source": [
        "emergency = [3, 76, 24]\n",
        "\n",
        "sorted_emergency = sorted(emergency, reverse=True)\n",
        "sorted_emergency\n",
        "\n",
        "[sorted_emergency.index(i) + 1 for i in emergency]"
      ],
      "metadata": {
        "colab": {
          "base_uri": "https://localhost:8080/"
        },
        "id": "-LryRtBFIg4H",
        "outputId": "f71a72d3-93bc-45ee-f71a-d4f9a8b5ed0f"
      },
      "execution_count": 53,
      "outputs": [
        {
          "output_type": "execute_result",
          "data": {
            "text/plain": [
              "[3, 1, 2]"
            ]
          },
          "metadata": {},
          "execution_count": 53
        }
      ]
    },
    {
      "cell_type": "code",
      "source": [
        "# 10: https://school.programmers.co.kr/learn/courses/30/lessons/120890 (가까운 수)\n",
        "\n",
        "l = [3, 10, 28]\n",
        "sorted(l, key=lambda x: abs(x - 20))[0]\n"
      ],
      "metadata": {
        "colab": {
          "base_uri": "https://localhost:8080/"
        },
        "id": "XIfRE07lJgWy",
        "outputId": "99d798f6-a57c-46e9-d534-dfce6b79accf"
      },
      "execution_count": 54,
      "outputs": [
        {
          "output_type": "execute_result",
          "data": {
            "text/plain": [
              "28"
            ]
          },
          "metadata": {},
          "execution_count": 54
        }
      ]
    },
    {
      "cell_type": "code",
      "source": [
        "def solution(array, n):\n",
        "    return sorted(array, key=lambda x:(abs(x-n), x-n)[0])"
      ],
      "metadata": {
        "id": "V9UzjKR5MzL8"
      },
      "execution_count": 55,
      "outputs": []
    },
    {
      "cell_type": "code",
      "source": [
        "# [3, 10, 28, 30, 12] => [17, 10, 8, 10, 8]\n",
        "# [3, 10, 28, 30, 12] => [(17, 3), (10, 10), (8, 28), (10, 30), (8, 12)]\n",
        "# 원하는 숫자: 20\n",
        "# result: 28\n",
        "\n",
        "array = [3, 10, 28, 30, 12]\n",
        "n = 20\n",
        "\n",
        "28 - 20 == 8\n",
        "12 - 20 == -8\n",
        "\n",
        "20 - 28 == -8\n",
        "20 - 12 == 8\n",
        "\n",
        "sorted(array, key=lambda x:(abs(x-n), x))[0]\n",
        "sorted(array, key=lambda x:(abs(x-n), n-x))[0] # 팁, n-x이거나 x-n 2개 중에 하나입니다."
      ],
      "metadata": {
        "colab": {
          "base_uri": "https://localhost:8080/"
        },
        "id": "T_s22RNqNIF2",
        "outputId": "066976d0-402d-4d61-f273-9149c34ca781"
      },
      "execution_count": 56,
      "outputs": [
        {
          "output_type": "execute_result",
          "data": {
            "text/plain": [
              "28"
            ]
          },
          "metadata": {},
          "execution_count": 56
        }
      ]
    },
    {
      "cell_type": "code",
      "source": [
        "# 11: https://school.programmers.co.kr/learn/courses/30/lessons/120887 (k의 개수)\n",
        "\n",
        "# i    j    k\n",
        "# 1    13    1\n",
        "\n",
        "i = 1\n",
        "j = 13\n",
        "k = 1\n",
        "\n",
        "str(list(range(i, j+1)))\n",
        "'[1, 11, 13]'.count('1')\n",
        "\n",
        "str(list(range(i, j+1))).count(str(k))"
      ],
      "metadata": {
        "colab": {
          "base_uri": "https://localhost:8080/"
        },
        "id": "Emy6ermyQaqK",
        "outputId": "e3793073-2e09-4680-d98b-ef55f261c795"
      },
      "execution_count": 57,
      "outputs": [
        {
          "output_type": "execute_result",
          "data": {
            "text/plain": [
              "6"
            ]
          },
          "metadata": {},
          "execution_count": 57
        }
      ]
    },
    {
      "cell_type": "code",
      "source": [
        "a = 10\n",
        "b = 20\n",
        "\n",
        "# swap\n",
        "\n",
        "temp = a\n",
        "a = b\n",
        "b = temp\n",
        "\n",
        "# python에서 사용하는 swap\n",
        "\n",
        "a = 10\n",
        "b = 20\n",
        "a, b = b, a\n",
        "a, b"
      ],
      "metadata": {
        "colab": {
          "base_uri": "https://localhost:8080/"
        },
        "id": "jABxGbu2RLK6",
        "outputId": "eb965dc8-07ca-4599-927a-3c7bc33dd2b2"
      },
      "execution_count": 58,
      "outputs": [
        {
          "output_type": "execute_result",
          "data": {
            "text/plain": [
              "(20, 10)"
            ]
          },
          "metadata": {},
          "execution_count": 58
        }
      ]
    },
    {
      "cell_type": "code",
      "source": [
        "def solution(i, j, k):\n",
        "    return str(list(range(i, j+1))).count(str(k))"
      ],
      "metadata": {
        "id": "Rqg9JMSgU8dv"
      },
      "execution_count": null,
      "outputs": []
    },
    {
      "cell_type": "code",
      "source": [
        "i = 1\n",
        "j = 13\n",
        "k = 1\n",
        "\n",
        "count = 0\n",
        "for temp in range(i, j):\n",
        "    count += str(temp).count(str(k))\n",
        "\n",
        "count"
      ],
      "metadata": {
        "id": "D6GbV-qvViuc"
      },
      "execution_count": null,
      "outputs": []
    },
    {
      "cell_type": "code",
      "source": [
        "# 에라토스테스트의 체 => 소수판별 => 이것을 알고리즘 문제로 내는 것은 저는 반대\n",
        "소수 = [True] * 120\n",
        "소수[0] = 소수[1] = False\n",
        "\n",
        "for i in range(4, 120, 2):\n",
        "    소수[i] = False\n",
        "\n",
        "for i in range(6, 120, 3):\n",
        "    소수[i] = False"
      ],
      "metadata": {
        "id": "4KlcmdjiYb19"
      },
      "execution_count": null,
      "outputs": []
    },
    {
      "cell_type": "code",
      "source": [
        "# 행렬의 연산과 같은 것은 np를 사용하시면 쉽고 빠르게 풀 수 있습니다.\n",
        "import numpy as np\n",
        "\n",
        "x = np.array([1, 2, 3])\n",
        "x * 2"
      ],
      "metadata": {
        "id": "8pQj3_xyYcXP"
      },
      "execution_count": null,
      "outputs": []
    },
    {
      "cell_type": "code",
      "source": [
        "s = [[1, 3, 5], [7, 9, 11], [13, 15, 17]]\n",
        "s = np.array(s)\n",
        "행, 렬 = np.where(s == 7)\n",
        "행"
      ],
      "metadata": {
        "id": "UqcwmAEEdc-4"
      },
      "execution_count": null,
      "outputs": []
    },
    {
      "cell_type": "code",
      "source": [
        "# 지뢰찾기\n",
        "x = [[0, 1, 0, 0],\n",
        "     [0, 1, 0, 0],\n",
        "     [0, 0, 0, 1]]\n",
        "\n",
        "x = np.array(x)\n",
        "np.where(x == 1)"
      ],
      "metadata": {
        "id": "d9Y3qe7odenV"
      },
      "execution_count": null,
      "outputs": []
    },
    {
      "cell_type": "code",
      "source": [
        "x = [[0, 1, 0, 0],\n",
        "     [0, 1, 0, 0],\n",
        "     [0, 0, 0, 1]]\n",
        "\n",
        "s = 0\n",
        "for i in x:\n",
        "    s += i.count(1)\n",
        "\n",
        "s"
      ],
      "metadata": {
        "id": "i1KaVDz5dgK3"
      },
      "execution_count": null,
      "outputs": []
    },
    {
      "cell_type": "code",
      "source": [
        "x = [[0, 1, 0, 0],\n",
        "     [0, 1, 0, 0],\n",
        "     [0, 0, 0, 1]]\n",
        "\n",
        "x = np.array(x)\n",
        "x == 1"
      ],
      "metadata": {
        "id": "9ODkQ7K9eWDT"
      },
      "execution_count": null,
      "outputs": []
    },
    {
      "cell_type": "code",
      "source": [
        "x = [[0, 5, 2, 0],\n",
        "     [0, 7, 0, 6],\n",
        "     [0, 1, 3, 5]]\n",
        "\n",
        "x = np.array(x)\n",
        "x > 3"
      ],
      "metadata": {
        "id": "ZJudWeE9eXOk"
      },
      "execution_count": null,
      "outputs": []
    }
  ]
}
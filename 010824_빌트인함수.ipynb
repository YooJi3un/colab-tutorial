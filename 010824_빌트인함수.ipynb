{
  "nbformat": 4,
  "nbformat_minor": 0,
  "metadata": {
    "colab": {
      "provenance": []
    },
    "kernelspec": {
      "name": "python3",
      "display_name": "Python 3"
    },
    "language_info": {
      "name": "python"
    }
  },
  "cells": [
    {
      "cell_type": "code",
      "execution_count": null,
      "metadata": {
        "id": "S9UZ18l4q_B0"
      },
      "outputs": [],
      "source": [
        "# Built in function\n",
        "\n",
        "'''\n",
        "# 요소 전체의 True, False 판별\n",
        "all\n",
        "any\n",
        "\n",
        "# 숫자를 문자로 바꾸거나 문자를 숫자로 바꾸는 함수\n",
        "chr\n",
        "ord\n",
        "\n",
        "# 함수와 순회할 수 있는 객체의 연산\n",
        "map\n",
        "filter\n",
        "\n",
        "# 순회할 수 있는 객체의 묶음\n",
        "zip\n",
        "\n",
        "# 형식 변환\n",
        "format\n",
        "\n",
        "# 길이 반환\n",
        "len\n",
        "\n",
        "# 큰 값, 작은 값, 다 더한 값\n",
        "max\n",
        "min\n",
        "sum\n",
        "\n",
        "# 문자열, 대표 문자열, 문자열 출력\n",
        "str\n",
        "repr\n",
        "print\n",
        "\n",
        "# 순회할 수 있는 객체\n",
        "enumerate\n",
        "range\n",
        "\n",
        "# 역순과 정렬\n",
        "reversed\n",
        "sorted\n",
        "'''"
      ]
    },
    {
      "cell_type": "code",
      "source": [
        "# all\n",
        "# 모두 다 True면 True 반환\n",
        "\n",
        "all([True, True, True]) # True 출력\n",
        "all([True, False, True]) # False 출력\n",
        "all([1, 0, 1, 0]) # False 출력\n",
        "all([1, 100, 10, -1]) # False 출력\n",
        "all([1, 1, 1, 1]) # True 출력"
      ],
      "metadata": {
        "colab": {
          "base_uri": "https://localhost:8080/"
        },
        "id": "divYrMBGrjJH",
        "outputId": "ff957cd8-8094-4a5e-db5c-e705f6ae3bd2"
      },
      "execution_count": null,
      "outputs": [
        {
          "output_type": "execute_result",
          "data": {
            "text/plain": [
              "True"
            ]
          },
          "metadata": {},
          "execution_count": 2
        }
      ]
    },
    {
      "cell_type": "code",
      "source": [
        "# any\n",
        "# 하나라도 True면 True\n",
        "\n",
        "any(True, False, False) # True 출력\n",
        "any(False, False, False) # False 출력"
      ],
      "metadata": {
        "id": "q0MM6hzKr7uo"
      },
      "execution_count": null,
      "outputs": []
    },
    {
      "cell_type": "code",
      "source": [
        "# map\n",
        "# 모든 요소의 특정 함수를 적용한 결과를\n",
        "# map 객체 형태로 반환하는 함수\n",
        "\n",
        "# 방법1\n",
        "def 제곱(x):\n",
        "    return x ** 2\n",
        "list(map(제곱, [1, 2, 3, 4]))\n",
        "\n",
        "# 방법2\n",
        "list(map(lambda x : x ** 2, [1, 2, 3, 4]))"
      ],
      "metadata": {
        "colab": {
          "base_uri": "https://localhost:8080/"
        },
        "id": "EBXs6qnssaVl",
        "outputId": "19ebd61b-0c62-4a4d-97b6-a9034475bde7"
      },
      "execution_count": null,
      "outputs": [
        {
          "output_type": "execute_result",
          "data": {
            "text/plain": [
              "[1, 4, 9, 16]"
            ]
          },
          "metadata": {},
          "execution_count": 3
        }
      ]
    },
    {
      "cell_type": "code",
      "source": [
        "# filter\n",
        "# 순회할 수 있는 객체의 요소 중 특정 조건을 만족하는 요소만 선택하여 반환\n",
        "# 반환 값은 filter 객체 형태로 제공\n",
        "\n",
        "# 0부터 99까지의 숫자 중에 50보다 큰 숫자를 선택하여 리스트로 반환\n",
        "list(filter(lambda x : x > 50, range(100)))"
      ],
      "metadata": {
        "colab": {
          "base_uri": "https://localhost:8080/"
        },
        "id": "-Qr9Gq38InpG",
        "outputId": "8fd3e0fa-6bfd-49c5-dc09-15307e929bc0"
      },
      "execution_count": 1,
      "outputs": [
        {
          "output_type": "execute_result",
          "data": {
            "text/plain": [
              "[51,\n",
              " 52,\n",
              " 53,\n",
              " 54,\n",
              " 55,\n",
              " 56,\n",
              " 57,\n",
              " 58,\n",
              " 59,\n",
              " 60,\n",
              " 61,\n",
              " 62,\n",
              " 63,\n",
              " 64,\n",
              " 65,\n",
              " 66,\n",
              " 67,\n",
              " 68,\n",
              " 69,\n",
              " 70,\n",
              " 71,\n",
              " 72,\n",
              " 73,\n",
              " 74,\n",
              " 75,\n",
              " 76,\n",
              " 77,\n",
              " 78,\n",
              " 79,\n",
              " 80,\n",
              " 81,\n",
              " 82,\n",
              " 83,\n",
              " 84,\n",
              " 85,\n",
              " 86,\n",
              " 87,\n",
              " 88,\n",
              " 89,\n",
              " 90,\n",
              " 91,\n",
              " 92,\n",
              " 93,\n",
              " 94,\n",
              " 95,\n",
              " 96,\n",
              " 97,\n",
              " 98,\n",
              " 99]"
            ]
          },
          "metadata": {},
          "execution_count": 1
        }
      ]
    },
    {
      "cell_type": "code",
      "source": [
        "# zip\n",
        "# 여러 개의 순회 할 수 있는 객체의 요소를 묶어서 반환\n",
        "# 직접 순회하기 전까지는 메모리 주소로만 반환\n",
        "\n",
        "list(zip('ab', '12'))"
      ],
      "metadata": {
        "colab": {
          "base_uri": "https://localhost:8080/"
        },
        "id": "4ju2Eh9gtAnU",
        "outputId": "e3d25fd3-7669-4556-b5c7-c4e0d42d2387"
      },
      "execution_count": null,
      "outputs": [
        {
          "output_type": "execute_result",
          "data": {
            "text/plain": [
              "[('a', '1'), ('b', '2')]"
            ]
          },
          "metadata": {},
          "execution_count": 4
        }
      ]
    },
    {
      "cell_type": "code",
      "source": [
        "# 길이가 다르면 가장 짧은 것을 기준으로 출력함\n",
        "list(zip('abc', '1234567', [10, 20, 30]))"
      ],
      "metadata": {
        "colab": {
          "base_uri": "https://localhost:8080/"
        },
        "id": "CKEvqxaAuRYe",
        "outputId": "45a21f8e-c37f-4868-a434-fd6f97c4a8fa"
      },
      "execution_count": null,
      "outputs": [
        {
          "output_type": "execute_result",
          "data": {
            "text/plain": [
              "[('a', '1', 10), ('b', '2', 20), ('c', '3', 30)]"
            ]
          },
          "metadata": {},
          "execution_count": 5
        }
      ]
    },
    {
      "cell_type": "code",
      "source": [
        "# format\n",
        "# 특정 값을 지정한 형식으로 반환하여 문자열로 반환\n",
        "# 서식 지정자를 설정하지 않으면 str()한 것과 동일한 결과\n",
        "\n",
        "# format(값, '서식 지정자(format_spec)') 형태\n",
        "\n",
        "print(format(123.4567, '.2f')) # 소수점 2자리까지만 출력\n",
        "print(format('hello', '^9')) # 9 자리에 중앙정렬(^)"
      ],
      "metadata": {
        "colab": {
          "base_uri": "https://localhost:8080/"
        },
        "id": "lxOEqqcOJCJ1",
        "outputId": "e5e92240-9592-4e7b-8636-cf974447b328"
      },
      "execution_count": 4,
      "outputs": [
        {
          "output_type": "stream",
          "name": "stdout",
          "text": [
            "123.46\n",
            "  hello  \n"
          ]
        }
      ]
    },
    {
      "cell_type": "code",
      "source": [
        "# len\n",
        "# 시퀀스 또는 컬렉션의 길이(요소의 개수)를 반환\n",
        "\n",
        "# len (길이를 계산하려는 객체)\n",
        "\n",
        "len('hello world')"
      ],
      "metadata": {
        "colab": {
          "base_uri": "https://localhost:8080/"
        },
        "id": "XrrF4v3tJqSO",
        "outputId": "8e8d5b60-6f4d-4c1e-f4c0-127865fcf1bc"
      },
      "execution_count": 5,
      "outputs": [
        {
          "output_type": "execute_result",
          "data": {
            "text/plain": [
              "11"
            ]
          },
          "metadata": {},
          "execution_count": 5
        }
      ]
    },
    {
      "cell_type": "code",
      "source": [
        "# max\n",
        "# 순회할 수 있는 객체의 최댓값을 반환\n",
        "\n",
        "# max(순회할 수 있는 객체, 함수(key), 초기값(default))\n",
        "\n",
        "max([1, 2, 3, 4, 5]) # 순회를 돌면서 가장 큰 값인 5 출력\n",
        "max([(1, 2), (3, 101), (1, 20), (3, 100)]) # 튜플의 가장 처음값 -> 그후 뒤의 값 비교\n",
        "max(['hello', 'world', 'world1']) # 유니코드를 비교"
      ],
      "metadata": {
        "id": "WA4EauXXJ8-O"
      },
      "execution_count": null,
      "outputs": []
    },
    {
      "cell_type": "code",
      "source": [
        "# min\n",
        "# 순회할 수 있는 가장 작은 값을 찾아 반환\n",
        "\n",
        "# min(순회할 수 있는 객체, 함수(key), 초기값(default))\n",
        "\n",
        "min([1, 2, 3, 4, 5]) # 순회를 돌면서 가장 작은 값인 1 출력\n",
        "min([], default=0) # 기본값 0 설정해둠"
      ],
      "metadata": {
        "id": "Rsos7OB9KxlF"
      },
      "execution_count": 6,
      "outputs": []
    },
    {
      "cell_type": "code",
      "source": [
        "# sum\n",
        "# 순회 가능한 객체를 받아 모든 요소의 합을 계산하여 반환\n",
        "\n",
        "# sum(iterable, start=0)\n",
        "\n",
        "sum([1, 2, 3, 4, 5]) # 다 더해서 15라는 값 출력\n",
        "sum([1, 2, 3], 10) # 다 더해서 16이라는 값 출력"
      ],
      "metadata": {
        "colab": {
          "base_uri": "https://localhost:8080/"
        },
        "id": "zEFIaxN6LND1",
        "outputId": "806f764e-a1f1-46ed-f96e-2c9468b364aa"
      },
      "execution_count": 7,
      "outputs": [
        {
          "output_type": "execute_result",
          "data": {
            "text/plain": [
              "16"
            ]
          },
          "metadata": {},
          "execution_count": 7
        }
      ]
    },
    {
      "cell_type": "code",
      "source": [
        "# print\n",
        "# 객체를 문자열 형태로 출력하는 기능\n",
        "\n",
        "class Charactor:\n",
        "    def __repr__(self):\n",
        "        return 'hello'\n",
        "    def __str__(self):\n",
        "        return 'world'\n",
        "\n",
        "hero = Charactor()\n",
        "print(hero)\n",
        "hero\n",
        "\n",
        "\n",
        "# repr\n",
        "# 객체의 공식 문자열 표현을 가져옴\n",
        "\n",
        "repr(hero) # (__repr__ 메서드 호출로 인해) 출력 : hello"
      ],
      "metadata": {
        "colab": {
          "base_uri": "https://localhost:8080/",
          "height": 54
        },
        "id": "ifpCCSHzLksO",
        "outputId": "a87defa6-8d5b-40a4-de43-9bb62bd8b358"
      },
      "execution_count": 8,
      "outputs": [
        {
          "output_type": "stream",
          "name": "stdout",
          "text": [
            "world\n"
          ]
        },
        {
          "output_type": "execute_result",
          "data": {
            "text/plain": [
              "'hello'"
            ],
            "application/vnd.google.colaboratory.intrinsic+json": {
              "type": "string"
            }
          },
          "metadata": {},
          "execution_count": 8
        }
      ]
    },
    {
      "cell_type": "code",
      "source": [
        "# range\n",
        "# 순회할 수 있는 숫자 객체를 만들어주는 함수\n",
        "\n",
        "# range(start, stop, step)\n",
        "\n",
        "range(1, 10, 2)\n",
        "list(range(1, 10, 2))\n",
        "\n",
        "# 1이 아닌 0부터 시작이고 끝값은 마지막 값 -1 한 값"
      ],
      "metadata": {
        "colab": {
          "base_uri": "https://localhost:8080/"
        },
        "id": "uONjHQIDL4fA",
        "outputId": "81323a2d-8767-4b87-e8d1-fea6fbc7189c"
      },
      "execution_count": 9,
      "outputs": [
        {
          "output_type": "execute_result",
          "data": {
            "text/plain": [
              "[1, 3, 5, 7, 9]"
            ]
          },
          "metadata": {},
          "execution_count": 9
        }
      ]
    },
    {
      "cell_type": "code",
      "source": [
        "# enumerate\n",
        "# index를 자동으로 생성할때 자주 사용\n",
        "\n",
        "values = ['a', 'b', 'c', 'd']\n",
        "print(list(enumerate(values)))\n",
        "print(list(enumerate(values, 1)))\n",
        "print(list(enumerate(values, 100)))"
      ],
      "metadata": {
        "colab": {
          "base_uri": "https://localhost:8080/"
        },
        "id": "Pcj7JI3pvHUD",
        "outputId": "0d9e2b30-0186-420f-b2f9-ceb2ca723c93"
      },
      "execution_count": null,
      "outputs": [
        {
          "output_type": "stream",
          "name": "stdout",
          "text": [
            "[(0, 'a'), (1, 'b'), (2, 'c'), (3, 'd')]\n",
            "[(1, 'a'), (2, 'b'), (3, 'c'), (4, 'd')]\n",
            "[(100, 'a'), (101, 'b'), (102, 'c'), (103, 'd')]\n"
          ]
        }
      ]
    },
    {
      "cell_type": "code",
      "source": [
        "# sortred, reverse\n",
        "# 시퀀스를 정렬하여 새로운 리스트를 반환\n",
        "# reverse 및 key 아규먼트를 전달하여 정렬 방법을 원하는대로 변경 가능\n",
        "\n",
        "sorted([1, 2, 100, 200, 3, 4, 10, 20]) # 오름차순으로 정렬\n",
        "sorted([1, 2, 100, 200, 3, 4, 10, 20], reverse = True) # 내림차순으로 정렬\n",
        "list(reversed([1, 2, 100, 200, 3, 4, 10, 20])) # reversed는 역순으로 정렬(역 정렬 x)\n",
        "\n",
        "sorted(['hello', 'l', 'hllo', 'hel', 'heo', 'a']) # 유니코드로 정렬?\n",
        "sorted(['hello', 'l', 'hllo', 'hel', 'heo', 'a'], key = len) # 문자열 길이대로 정렬\n",
        "\n",
        "\n",
        "# sorted와 reversed는 원본을 수정하지 않음"
      ],
      "metadata": {
        "id": "G4YeofOWwvig",
        "colab": {
          "base_uri": "https://localhost:8080/"
        },
        "outputId": "68ba2b72-fb4a-4fe2-bdf8-c976e6c98127"
      },
      "execution_count": 12,
      "outputs": [
        {
          "output_type": "execute_result",
          "data": {
            "text/plain": [
              "['l', 'a', 'hel', 'heo', 'hllo', 'hello']"
            ]
          },
          "metadata": {},
          "execution_count": 12
        }
      ]
    },
    {
      "cell_type": "code",
      "source": [],
      "metadata": {
        "id": "8rerongXNmGt"
      },
      "execution_count": null,
      "outputs": []
    }
  ]
}
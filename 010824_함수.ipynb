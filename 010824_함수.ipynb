{
  "nbformat": 4,
  "nbformat_minor": 0,
  "metadata": {
    "colab": {
      "provenance": []
    },
    "kernelspec": {
      "name": "python3",
      "display_name": "Python 3"
    },
    "language_info": {
      "name": "python"
    }
  },
  "cells": [
    {
      "cell_type": "code",
      "execution_count": null,
      "metadata": {
        "colab": {
          "base_uri": "https://localhost:8080/"
        },
        "id": "HsF4SEzAqqwM",
        "outputId": "56735dda-db41-4792-e146-c8c706c6e13e"
      },
      "outputs": [
        {
          "output_type": "stream",
          "name": "stdout",
          "text": [
            "1\n",
            "2\n",
            "3\n"
          ]
        }
      ],
      "source": [
        "# 함수 만들어 보기\n",
        "\n",
        "def my_function(): # 함수의 정의\n",
        "    print('1') # 함수의 본문\n",
        "    print('2')\n",
        "    print('3')\n",
        "# 함수의 실행\n",
        "my_function() # 실행을 할때에는 def 와 :는 필요없음!"
      ]
    },
    {
      "cell_type": "code",
      "source": [
        "# 함수의 기본 구조\n",
        "\n",
        "def function(x,y):\n",
        "    z = x + y\n",
        "    return z\n",
        "print(f'function (10, 9) = ', {function(10, 9)})"
      ],
      "metadata": {
        "colab": {
          "base_uri": "https://localhost:8080/"
        },
        "id": "mt7NfFXHtNkp",
        "outputId": "3fc919af-4e84-4911-aaed-fab45bf88d91"
      },
      "execution_count": null,
      "outputs": [
        {
          "output_type": "stream",
          "name": "stdout",
          "text": [
            "function (10, 9) =  {19}\n"
          ]
        }
      ]
    },
    {
      "cell_type": "code",
      "source": [
        "def function(x, y): # x, y 는 function에 사용할 변수, 매개변수\n",
        "    pass # 아무것도 넣지 않으면 오류 남! pass로 임시 값을 넣어줌\n",
        "\n",
        "def function1():\n",
        "    return \"hello\" # return은 값을 반환\n",
        "\n",
        "def function2(x, y)\n",
        "    return x + y"
      ],
      "metadata": {
        "id": "-gBS3B4v2fdJ"
      },
      "execution_count": null,
      "outputs": []
    },
    {
      "cell_type": "code",
      "source": [
        "def function_name(x, y):\n",
        "    z = x + y\n",
        "    return z\n",
        "# 1. return 함수 내에 지정하지 않을 때\n",
        "\n",
        "# 2. print()문을 사용하지 않을 때\n",
        "function_name(8, 9)"
      ],
      "metadata": {
        "colab": {
          "base_uri": "https://localhost:8080/"
        },
        "id": "nSWArl7j7S3Y",
        "outputId": "d8f8c9e6-e6b9-4609-acf1-7e2e05726ffc"
      },
      "execution_count": null,
      "outputs": [
        {
          "output_type": "execute_result",
          "data": {
            "text/plain": [
              "17"
            ]
          },
          "metadata": {},
          "execution_count": 14
        }
      ]
    },
    {
      "cell_type": "code",
      "source": [
        "def f():\n",
        "    print(1/0) # 원래는 오류가 나야하는데 호출하는 함수가 없어서 오류 안남\n",
        "\n",
        "print('hello')"
      ],
      "metadata": {
        "colab": {
          "base_uri": "https://localhost:8080/"
        },
        "id": "GmoumUeg7sz1",
        "outputId": "f8d950f9-97f4-401e-bd3d-982ae79aea94"
      },
      "execution_count": null,
      "outputs": [
        {
          "output_type": "stream",
          "name": "stdout",
          "text": [
            "hello\n"
          ]
        }
      ]
    },
    {
      "cell_type": "code",
      "source": [
        "# 입력 매개변수가 없고 반환값도 없는 함수\n",
        "def simple_function():\n",
        "    print('hello world')\n",
        "\n",
        "# 함수 호출\n",
        "print(simple_function())"
      ],
      "metadata": {
        "colab": {
          "base_uri": "https://localhost:8080/"
        },
        "id": "t8Q0X99J8Y8y",
        "outputId": "d435ab38-344e-4960-8957-69cda2cf48db"
      },
      "execution_count": null,
      "outputs": [
        {
          "output_type": "stream",
          "name": "stdout",
          "text": [
            "hello world\n",
            "None\n"
          ]
        }
      ]
    },
    {
      "cell_type": "code",
      "source": [
        "# 파라미터가 없고 반환 값은 있는 함수\n",
        "\n",
        "def give_me_five(): # give_me_five 라는 함수 선언 (파라미터가 선언되어 있지 않음)\n",
        "    return 5 # 5 라는 값을 반환\n",
        "\n",
        "result = give_me_five() # 함수 호출 (아규먼트 없음)\n",
        "print(result)\n",
        "\n",
        "# 값을 받지 않아도 return에서 받은 값 출력 (result = 5 랑 비슷한 느낌)"
      ],
      "metadata": {
        "colab": {
          "base_uri": "https://localhost:8080/"
        },
        "id": "Fmi0FyIw84eH",
        "outputId": "be0978a0-b854-4f06-9181-2c52600f2daf"
      },
      "execution_count": null,
      "outputs": [
        {
          "output_type": "stream",
          "name": "stdout",
          "text": [
            "5\n"
          ]
        }
      ]
    },
    {
      "cell_type": "code",
      "source": [
        "# 입력 매개변수가 있고 반환 값이 없는 함수 (완전 중요)\n",
        "\n",
        "def greeting(name):\n",
        "    print(f'hello, {name}!') # name을 사용하여 메세지 출력\n",
        "# 반환 값이 없음\n",
        "# 함수 호출 ('Licat'이라는 아규먼트 파라미터로 전달)\n",
        "print(greeting('Licat'))"
      ],
      "metadata": {
        "colab": {
          "base_uri": "https://localhost:8080/"
        },
        "id": "PaSO1COO-LBb",
        "outputId": "532a75e9-c7f2-4888-8de4-763fb84a25de"
      },
      "execution_count": null,
      "outputs": [
        {
          "output_type": "stream",
          "name": "stdout",
          "text": [
            "hello, Licat!\n",
            "None\n"
          ]
        }
      ]
    },
    {
      "cell_type": "code",
      "source": [
        "# 입력 매개변수가 있고, 반환 값이 있는 함수\n",
        "\n",
        "def add_numbers(x, y):\n",
        "    sum = x + y # x + y 값을 결과를 sum이라는 병수에 저장\n",
        "    return sum # sum 변수의 값 반환\n",
        "\n",
        "# 함수 호출\n",
        "result = add_numbers(5, 3) # 함수를 호출하여 5와 3 아규먼트를 파라미터로 전달\n",
        "print(result)"
      ],
      "metadata": {
        "colab": {
          "base_uri": "https://localhost:8080/"
        },
        "id": "Kz2nEb4eCYdV",
        "outputId": "fa295919-1911-456c-bc82-3ca0b4c39a80"
      },
      "execution_count": null,
      "outputs": [
        {
          "output_type": "stream",
          "name": "stdout",
          "text": [
            "8\n"
          ]
        }
      ]
    },
    {
      "cell_type": "code",
      "source": [
        "# 파라미터의 기본 사용\n",
        "# 함수를 정의할 때 사용되는 변수\n",
        "\n",
        "def f(a, b, c):\n",
        "    print(a, b, c)\n",
        "\n",
        "f(100, 200, 300)\n",
        "f(a = 100, b = 200, c = 300)\n",
        "f(c = 300, a = 100, b = 200)"
      ],
      "metadata": {
        "colab": {
          "base_uri": "https://localhost:8080/"
        },
        "id": "vMy_GHNQE533",
        "outputId": "54cc0322-328d-45c3-d1f4-6cff4e280af6"
      },
      "execution_count": null,
      "outputs": [
        {
          "output_type": "stream",
          "name": "stdout",
          "text": [
            "100 200 300\n",
            "100 200 300\n",
            "100 200 300\n"
          ]
        }
      ]
    },
    {
      "cell_type": "code",
      "source": [
        "# 기본값을 가진 파라미터\n",
        "\n",
        "def f(a = 10, b = 20, c = 30):\n",
        "    print(a, b, c)\n",
        "\n",
        "f()\n",
        "f(100, 10)\n",
        "f(a = 100, b = 200, c = 300)\n",
        "f(c = 300, a = 100, b = 200)"
      ],
      "metadata": {
        "colab": {
          "base_uri": "https://localhost:8080/"
        },
        "id": "p_IFeh7rHwDt",
        "outputId": "df40c87c-a53f-4dd6-9469-2a2f68ab6ead"
      },
      "execution_count": null,
      "outputs": [
        {
          "output_type": "stream",
          "name": "stdout",
          "text": [
            "10 20 30\n",
            "100 10 30\n",
            "100 200 300\n",
            "100 200 300\n"
          ]
        }
      ]
    },
    {
      "cell_type": "code",
      "source": [
        "# 일부 파라미터만 기본값을 가지는 경우 (잘못된 예시)\n",
        "\n",
        "def f(a = 10, b = 20, c):\n",
        "    print(a, b, c)\n",
        "\n",
        "# python에서는 마지막에 값을 지정 안해주면 오류남"
      ],
      "metadata": {
        "colab": {
          "base_uri": "https://localhost:8080/",
          "height": 147
        },
        "id": "1FaiQgevIz-X",
        "outputId": "b005fa54-37ef-4ef7-c6bc-5b265e7f3145"
      },
      "execution_count": null,
      "outputs": [
        {
          "output_type": "error",
          "ename": "SyntaxError",
          "evalue": "non-default argument follows default argument (<ipython-input-27-da5eddc74a5b>, line 3)",
          "traceback": [
            "\u001b[0;36m  File \u001b[0;32m\"<ipython-input-27-da5eddc74a5b>\"\u001b[0;36m, line \u001b[0;32m3\u001b[0m\n\u001b[0;31m    def f(a = 10, b = 20, c):\u001b[0m\n\u001b[0m                          ^\u001b[0m\n\u001b[0;31mSyntaxError\u001b[0m\u001b[0;31m:\u001b[0m non-default argument follows default argument\n"
          ]
        }
      ]
    },
    {
      "cell_type": "code",
      "source": [
        "# 일부 파라미터만 기본값을 가지는 경우 (올바른 예)\n",
        "\n",
        "def f(a, b = 20, c = 30):\n",
        "    print(a, b, c)\n",
        "\n",
        "f(100, 10)\n",
        "f(a = 100, b = 200, c = 300)\n",
        "f(c = 300, a = 100, b = 200)\n",
        "# f()처럼 아무것도 없거나\n",
        "# f(c = 300)처럼 하나만 지정해주면 오류남"
      ],
      "metadata": {
        "colab": {
          "base_uri": "https://localhost:8080/"
        },
        "id": "MUKsA1tjJolo",
        "outputId": "657bbb78-d44d-4bbe-d13d-9030f2dd2ab5"
      },
      "execution_count": null,
      "outputs": [
        {
          "output_type": "stream",
          "name": "stdout",
          "text": [
            "100 10 30\n",
            "100 200 300\n",
            "100 200 300\n"
          ]
        }
      ]
    },
    {
      "cell_type": "code",
      "source": [
        "# 아규먼트(Argument)\n",
        "# 함수를 호출할 때 전달하는 실제 값\n",
        "\n",
        "result = my_function(5, 3)"
      ],
      "metadata": {
        "id": "o7fyWX4AIKQb"
      },
      "execution_count": null,
      "outputs": []
    },
    {
      "cell_type": "code",
      "source": [
        "# 컨밴션 자료형을 아규먼트로 넣었을 때\n",
        "\n",
        "def add_element(my_list):\n",
        "    my_list.append(1)\n",
        "\n",
        "a = [2, 3, 4]\n",
        "add_element(a)\n",
        "print(a)"
      ],
      "metadata": {
        "colab": {
          "base_uri": "https://localhost:8080/"
        },
        "id": "jOMRsnmIJ-T9",
        "outputId": "e3b67be9-8fe6-4c0f-cd55-9b9c969fa8dc"
      },
      "execution_count": null,
      "outputs": [
        {
          "output_type": "stream",
          "name": "stdout",
          "text": [
            "[2, 3, 4, 1]\n"
          ]
        }
      ]
    },
    {
      "cell_type": "code",
      "source": [
        "# 권장되지 않는 기본값\n",
        "\n",
        "def append_to_list(value, lst=[]):\n",
        "    lst.append(value)\n",
        "    return lst # 예상치 못한 결과가 발생할 수 있음\n",
        "\n",
        "'''\n",
        "# 권장 방법\n",
        "def append_to_list(value, lst=None):\n",
        "    if lst is None:\n",
        "        lst = []\n",
        "    lst.append(value)\n",
        "    return lst\n",
        "'''"
      ],
      "metadata": {
        "id": "__N1ZY8iK7jE"
      },
      "execution_count": null,
      "outputs": []
    },
    {
      "cell_type": "code",
      "source": [
        "append_to_list(1)"
      ],
      "metadata": {
        "colab": {
          "base_uri": "https://localhost:8080/"
        },
        "id": "IIr8EhyJffZ-",
        "outputId": "91bc7649-ff45-4814-f11d-74be67b547b2"
      },
      "execution_count": null,
      "outputs": [
        {
          "output_type": "execute_result",
          "data": {
            "text/plain": [
              "[1]"
            ]
          },
          "metadata": {},
          "execution_count": 34
        }
      ]
    },
    {
      "cell_type": "code",
      "source": [
        "append_to_list(2) # [1,2]라는 출력을 하지만 [2]가 나올것으로 예상할 수도 있음"
      ],
      "metadata": {
        "colab": {
          "base_uri": "https://localhost:8080/"
        },
        "id": "gL4VrfGqfiGl",
        "outputId": "1a31ad63-0006-4825-d6d4-eece6c8c7f54"
      },
      "execution_count": null,
      "outputs": [
        {
          "output_type": "execute_result",
          "data": {
            "text/plain": [
              "[1, 2]"
            ]
          },
          "metadata": {},
          "execution_count": 35
        }
      ]
    }
  ]
}
{
  "nbformat": 4,
  "nbformat_minor": 0,
  "metadata": {
    "colab": {
      "provenance": []
    },
    "kernelspec": {
      "name": "python3",
      "display_name": "Python 3"
    },
    "language_info": {
      "name": "python"
    }
  },
  "cells": [
    {
      "cell_type": "code",
      "execution_count": null,
      "metadata": {
        "id": "iSy0QEihaE5h",
        "colab": {
          "base_uri": "https://localhost:8080/"
        },
        "outputId": "573896b1-6687-413f-eb4b-1238d9c6551c"
      },
      "outputs": [
        {
          "output_type": "stream",
          "name": "stdout",
          "text": [
            "hello, python!\n"
          ]
        }
      ],
      "source": [
        "# 메서드 채이닝 (method Chaning)\n",
        "# 연속으로 메서드를 호출하는 것을 말한다.\n",
        "\n",
        "sentence = '  Hello, World!  '\n",
        "result = sentence.strip().lower().replace('world', 'python')\n",
        "# 1번 스탭 : sentence.strip() == 'Hello, World!'\n",
        "# 2번 스탭 : 'Hello, World!'.lower() == 'hello, world!'\n",
        "# 3번 스탭 : 'hello, world!'.replace('world', 'python')\n",
        "print(result)"
      ]
    },
    {
      "cell_type": "markdown",
      "source": [
        "```\n",
        "다만 채이닝을 너무 많이하면 오류가 날 수 있고.\n",
        "여러 개의 문자를 치환하거나 삭제할 경우 문자열 메서드인 translate를 사용하여 준다.\n",
        "```"
      ],
      "metadata": {
        "id": "2dEnp9gKVNs0"
      }
    },
    {
      "cell_type": "code",
      "source": [],
      "metadata": {
        "id": "GC2QaRr6VDJK"
      },
      "execution_count": null,
      "outputs": []
    }
  ]
}
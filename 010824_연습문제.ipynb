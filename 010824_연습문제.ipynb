{
  "nbformat": 4,
  "nbformat_minor": 0,
  "metadata": {
    "colab": {
      "provenance": []
    },
    "kernelspec": {
      "name": "python3",
      "display_name": "Python 3"
    },
    "language_info": {
      "name": "python"
    }
  },
  "cells": [
    {
      "cell_type": "code",
      "execution_count": 2,
      "metadata": {
        "colab": {
          "base_uri": "https://localhost:8080/",
          "height": 90
        },
        "id": "dSsmY_F5yV2y",
        "outputId": "cfaa825c-9f99-4587-cab1-fb974b655326"
      },
      "outputs": [
        {
          "output_type": "stream",
          "name": "stdout",
          "text": [
            "I\n",
            "love\n",
            "python\n"
          ]
        },
        {
          "output_type": "execute_result",
          "data": {
            "text/plain": [
              "'\\nl\\nlove\\npython\\n'"
            ],
            "application/vnd.google.colaboratory.intrinsic+json": {
              "type": "string"
            }
          },
          "metadata": {},
          "execution_count": 2
        }
      ],
      "source": [
        "# 연습문제 1\n",
        "\n",
        "'''\n",
        "다음 코드를 실행하면 출력되는 값을 순서대로 작성\n",
        "'''\n",
        "a = 'pithon'\n",
        "\n",
        "def 함수1():\n",
        "    def 함수2():\n",
        "        print('love')\n",
        "\n",
        "    print('I') # 1번\n",
        "    함수2() # 2번\n",
        "    return \"python\" # 3번\n",
        "\n",
        "\n",
        "a = 함수1()\n",
        "print(a)\n",
        "\n",
        "'''\n",
        "결과:\n",
        "l\n",
        "love\n",
        "python\n",
        "\n",
        "근데 왜 pithon은 실행이 안나오는거지?\n",
        "a가 pithon이였다가 함수1이 됨!\n",
        "'''"
      ]
    },
    {
      "cell_type": "code",
      "source": [
        "# 연습문제 2\n",
        "\n",
        "'''\n",
        "함수를 이용하여 계산기 프로그램을 만들어라.\n",
        "'''\n",
        "\n",
        "def plus(num1, num2):\n",
        "\treturn num1 + num2 # 숫자1 + 숫자2 값 반환\n",
        "\n",
        "def minus(num1, num2):\n",
        "\treturn num1 - num2 # 숫자1 -  숫자2 값 반환\n",
        "\n",
        "def multiply(num1, num2):\n",
        "\treturn num1 * num2 # 숫자1 *  숫자2 값 반환\n",
        "\n",
        "def divide(num1, num2):\n",
        "\treturn num1 / num2 # 숫자1 /  숫자2 값 반환\n",
        "\n",
        "print(f'plus : {plus(10, 5)}')\n",
        "print(f'minus : {minus(10, 5)}')\n",
        "print(f'multiply : {multiply(10, 5)}')\n",
        "print(f'divide : {divide(10, 5)}')"
      ],
      "metadata": {
        "colab": {
          "base_uri": "https://localhost:8080/"
        },
        "id": "PWqDd_LDyu2-",
        "outputId": "d82d3fab-46cd-49e4-84ff-4ade363b0cdc"
      },
      "execution_count": 4,
      "outputs": [
        {
          "output_type": "stream",
          "name": "stdout",
          "text": [
            "plus : 15\n",
            "minus : 5\n",
            "multiply : 50\n",
            "divide : 2.0\n"
          ]
        }
      ]
    },
    {
      "cell_type": "code",
      "source": [
        "# 연습문제 3\n",
        "\n",
        "'''\n",
        "a와 b를 더한 값과 a와 b를 뺀 값을 곱하는 함수를 만들어라\n",
        "아래와 같은 값이 있다면 (2 + 3) * (2 - 3) = -5 출력\n",
        "'''\n",
        "\n",
        "def no3(num1, num2):\n",
        "    return (num1 + num2) * (num1 - num2)\n",
        "\n",
        "print(f'결과 : {no3(2, 3)}')"
      ],
      "metadata": {
        "colab": {
          "base_uri": "https://localhost:8080/"
        },
        "id": "LafLDXFD0Qss",
        "outputId": "102d4076-0a5f-4b77-8c2d-b3cee897ec55"
      },
      "execution_count": 6,
      "outputs": [
        {
          "output_type": "stream",
          "name": "stdout",
          "text": [
            "결과 : -5\n"
          ]
        }
      ]
    },
    {
      "cell_type": "code",
      "source": [
        "# 연습문제 4\n",
        "\n",
        "'''\n",
        "x의 n제곱을 구하는 함수를 만들어라.\n",
        "재귀함수를 이용하여 만들어야하며, x은 0이 아님 (x, n > 1)\n",
        "'''\n",
        "\n",
        "def x(num1, num2):\n",
        "    return (num1 ** num2)\n",
        "\n",
        "print(f'결과 : {x(10, 3)}')"
      ],
      "metadata": {
        "colab": {
          "base_uri": "https://localhost:8080/"
        },
        "id": "AJkZlQBkAroQ",
        "outputId": "69951a03-c2e7-4fd1-84a0-18aa77883d97"
      },
      "execution_count": 10,
      "outputs": [
        {
          "output_type": "stream",
          "name": "stdout",
          "text": [
            "결과 : 1000\n"
          ]
        }
      ]
    },
    {
      "cell_type": "code",
      "source": [
        "# 연습문제 5\n",
        "\n",
        "'''\n",
        "이 데이터에서 licat을 출력\n",
        "단, 직접 접근 x, data[1]로 접근하는 것 x\n",
        "'''\n",
        "\n",
        "data = [['weniv CTO binky', 2],\n",
        "        ['weniv CEO licat', 1],\n",
        "        ['weniv COO mura', 2],]\n",
        "\n",
        "# 정답1\n",
        "s = sorted(data, key=lambda x:x[1])[0][0]\n",
        "s[s.find('licat'):]\n",
        "\n",
        "# 정답2\n",
        "s = str(list(data))\n",
        "s[s.find('licat'):s.find('licat') + 5]"
      ],
      "metadata": {
        "colab": {
          "base_uri": "https://localhost:8080/",
          "height": 35
        },
        "id": "Ug6i07rHBOGF",
        "outputId": "c5365e56-8f8d-44a8-fc11-7d995da74232"
      },
      "execution_count": 12,
      "outputs": [
        {
          "output_type": "execute_result",
          "data": {
            "text/plain": [
              "'licat'"
            ],
            "application/vnd.google.colaboratory.intrinsic+json": {
              "type": "string"
            }
          },
          "metadata": {},
          "execution_count": 12
        }
      ]
    },
    {
      "cell_type": "code",
      "source": [
        "# 연습문제 6\n",
        "\n",
        "'''\n",
        "다음 함수 is_palindrome를 완성하시오\n",
        "이 함수는 하나의 문자열을 인자로 받아,\n",
        "해당 문자열이 앞으로 읽으나 뒤로 읽으나\n",
        "같은 단어이면 True를, 아니면 False를 반환\n",
        "'''\n",
        "\n",
        "def is_palindrome(s):\n",
        "    if list(reversed(s)) == list(s):\n",
        "      return True\n",
        "    return False\n",
        "\n",
        "print(is_palindrome('level'))\n",
        "print(is_palindrome('world'))"
      ],
      "metadata": {
        "colab": {
          "base_uri": "https://localhost:8080/"
        },
        "id": "WhDnxnC4F0bn",
        "outputId": "27c966b7-c7d5-4b58-fa2a-2a8b34fee8e2"
      },
      "execution_count": 16,
      "outputs": [
        {
          "output_type": "stream",
          "name": "stdout",
          "text": [
            "True\n",
            "False\n"
          ]
        }
      ]
    },
    {
      "cell_type": "code",
      "source": [
        "# 연습문제 7\n",
        "\n",
        "'''\n",
        "리스트 numbers가 주어졌을 때,\n",
        "이 리스트 내의 모든 짝수를 제거하는 코드 작성\n",
        "'''\n",
        "\n",
        "numbers = [2, 3, 4, 5, 6, 7, 8, 9, 10]\n",
        "\n",
        "numbers = list(filter(lambda x:x%2==1,numbers))\n",
        "\n",
        "print(numbers)  # 결과: [3, 5, 7, 9]"
      ],
      "metadata": {
        "colab": {
          "base_uri": "https://localhost:8080/"
        },
        "id": "ONpf19v1GKlb",
        "outputId": "443ac795-bd6f-4ab9-bbff-2479471e7f15"
      },
      "execution_count": 17,
      "outputs": [
        {
          "output_type": "stream",
          "name": "stdout",
          "text": [
            "[3, 5, 7, 9]\n"
          ]
        }
      ]
    },
    {
      "cell_type": "code",
      "source": [
        "# 연습문제 5, 6, 7 다시 풀어보기"
      ],
      "metadata": {
        "id": "eVAaCxzwHWYR"
      },
      "execution_count": null,
      "outputs": []
    }
  ]
}
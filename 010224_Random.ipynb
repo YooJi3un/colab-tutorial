{
  "nbformat": 4,
  "nbformat_minor": 0,
  "metadata": {
    "colab": {
      "provenance": []
    },
    "kernelspec": {
      "name": "python3",
      "display_name": "Python 3"
    },
    "language_info": {
      "name": "python"
    }
  },
  "cells": [
    {
      "cell_type": "markdown",
      "source": [
        "# 1. Randrange() 함수\n",
        "\n",
        "*** randrange(start, stop,  [step])***\n",
        "\n",
        "- **`start`**: 범위의 시작값입니다. 이 값은 범위에 포함됩니다. 만약 **`start`**가 생략되면, 기본값은 0이 됩니다.\n",
        "- **`stop`**: 범위의 끝값입니다. 이 값은 범위에 포함되지 않으며, 함수는 **`stop - 1`**까지의 수 중에서 무작위로 선택합니다.\n",
        "- **`step`**: 선택적 매개변수로, 숫자 간의 간격을 지정합니다. 예를 들어, **`step`**이 2이면 함수는 두 숫자 간격으로 무작위 수를 선택합니다."
      ],
      "metadata": {
        "id": "TigqbnbO0vph"
      }
    },
    {
      "cell_type": "code",
      "source": [
        "# 1. 기본 사용법\n",
        "\n",
        "import random\n",
        "\n",
        "# 0~9까지의 임의의 숫자를 선택하는 코드를 작성\n",
        "# python의 숫자의 시작은 0부터 / 10으로 입력하면 -1 한 값, 즉 9까지 출력\n",
        "\n",
        "num = random.randrange(10)\n",
        "print(num)"
      ],
      "metadata": {
        "colab": {
          "base_uri": "https://localhost:8080/"
        },
        "id": "GzGjkMvT1FQB",
        "outputId": "5e30ae98-41e0-4bfa-bc75-996a7d12ae26"
      },
      "execution_count": null,
      "outputs": [
        {
          "output_type": "stream",
          "name": "stdout",
          "text": [
            "1\n"
          ]
        }
      ]
    },
    {
      "cell_type": "code",
      "source": [
        "# 1.2 시작값과 끝값을 지정\n",
        "\n",
        "num2 = random.randrange(10, 20)\n",
        "print(num2)"
      ],
      "metadata": {
        "colab": {
          "base_uri": "https://localhost:8080/"
        },
        "id": "cxkqXOQf1J3B",
        "outputId": "cb82a5ff-baf2-4771-aa73-1477970e7bfd"
      },
      "execution_count": null,
      "outputs": [
        {
          "output_type": "stream",
          "name": "stdout",
          "text": [
            "19\n"
          ]
        }
      ]
    },
    {
      "cell_type": "code",
      "source": [
        "# 간단한 로또 프로그램\n",
        "\n",
        "num_1 = random.randrange(1, 46)\n",
        "num_2 = random.randrange(1, 46)\n",
        "num_3 = random.randrange(1, 46)\n",
        "num_4 = random.randrange(1, 46)\n",
        "num_5 = random.randrange(1, 46)\n",
        "num_6 = random.randrange(1, 46)\n",
        "print(\"로또 시뮬레이션: \", num_1, num_2, num_3, num_4, num_5, num_6)"
      ],
      "metadata": {
        "colab": {
          "base_uri": "https://localhost:8080/"
        },
        "id": "6EolEbze2L89",
        "outputId": "8d7e3e51-dd90-4533-9e39-5d9d3f606ebe"
      },
      "execution_count": null,
      "outputs": [
        {
          "output_type": "stream",
          "name": "stdout",
          "text": [
            "로또 시뮬레이션:  33 13 32 18 30 26\n"
          ]
        }
      ]
    },
    {
      "cell_type": "code",
      "source": [
        "# 1.3 간격 설정\n",
        "# 10부터 100까지 숫자 중에 10의 간격으로 무작위 선택\n",
        "\n",
        "num10_100 = random.randrange(10, 101, 10)\n",
        "print(num10_100)"
      ],
      "metadata": {
        "colab": {
          "base_uri": "https://localhost:8080/"
        },
        "id": "Yz516GBz3FqU",
        "outputId": "3f6a8ac4-f92b-4501-dc8e-faa17db855bb"
      },
      "execution_count": null,
      "outputs": [
        {
          "output_type": "stream",
          "name": "stdout",
          "text": [
            "70\n"
          ]
        }
      ]
    },
    {
      "cell_type": "markdown",
      "source": [
        "# 2. Choice 함수\n",
        "\n",
        "**`random.choice()`** 함수는 파이썬의 **`random`** 라이브러리에서 제공하는 매우 유용한 함수 중 하나입니다.\n",
        "\n",
        "이 함수는 주어진 시퀀스(예: 리스트, 튜플, 문자열 등)에서 무작위로 요소 하나를 선택하여 반환합니다.\n",
        "\n",
        " 시퀀스 내의 모든 요소는 선택될 가능성이 동일합니다. **`random.choice()`** 함수를 사용하는 여러 가지 측면에 대해 더 자세히 설명하겠습니다."
      ],
      "metadata": {
        "id": "zrDawmjw7NmT"
      }
    },
    {
      "cell_type": "code",
      "source": [
        "# 1. Choice 기본 사용법\n",
        "#chosen_element = random.choice(Sequence)\n",
        "\n",
        "# 리스트에서 무작위 과일 선택\n",
        "# 다양한 정보를 한번에 받아오는 것 = 리스트\n",
        "\n",
        "elements = ['사과', '바나나', '체리']\n",
        "\n",
        "chosen_elements = random.choice(elements)\n",
        "print(f'선택된 과일: {chosen_elements} 입니다.')"
      ],
      "metadata": {
        "colab": {
          "base_uri": "https://localhost:8080/"
        },
        "id": "c97yS5953VBZ",
        "outputId": "b414e83b-99e3-4dba-9120-e38fe8d0d2f9"
      },
      "execution_count": null,
      "outputs": [
        {
          "output_type": "stream",
          "name": "stdout",
          "text": [
            "선택된 과일: 체리 입니다.\n"
          ]
        }
      ]
    },
    {
      "cell_type": "code",
      "source": [
        "# 2. 문자열에서 무작위 문자 선택\n",
        "\n",
        "greeting = \"안녕하세요.\"\n",
        "choice_char = random.choice(greeting)\n",
        "print(f\"선택된 문자: {choice_char} 입니다.\")"
      ],
      "metadata": {
        "colab": {
          "base_uri": "https://localhost:8080/"
        },
        "id": "euzI6vsp8D30",
        "outputId": "6fb80cf6-549e-4461-a6ec-9ae5ed58250b"
      },
      "execution_count": null,
      "outputs": [
        {
          "output_type": "stream",
          "name": "stdout",
          "text": [
            "선택된 문자: 안 입니다.\n"
          ]
        }
      ]
    },
    {
      "cell_type": "code",
      "source": [
        "# 이 코드는 Random 라이브러리를 사용한 예시입니다.\n",
        "import random  # random 라이브러리 가져옴\n",
        "\n",
        "\n",
        "random_number1 = random.randint(1, 10)  # 숫자1 = random 숫자 0부터 9출력\n",
        "random_number2 = random.randint(1, 10)  # 숫자2 = random 숫자 0부터 9출력\n",
        "\n",
        "# 두 개의 숫자를 더하는 코드 / 숫자1과 숫자2를 더한 값 계산\n",
        "sum_of_numbers = random_number1 + random_number2\n",
        "\n",
        "\n",
        "print(f\"첫 번째 생성된 숫자: {random_number1}\")  # 숫자1 보여줌\n",
        "print(f\"두 번째 생성된 숫자: {random_number2}\")  # 숫자2 보여줌\n",
        "print(f\"두 숫자의 합: {sum_of_numbers}\")  # 두 수의 합 출력"
      ],
      "metadata": {
        "colab": {
          "base_uri": "https://localhost:8080/"
        },
        "id": "QX6yQNo99LX_",
        "outputId": "fb9ce42c-1151-4e2a-e370-d16d82de4d94"
      },
      "execution_count": null,
      "outputs": [
        {
          "output_type": "stream",
          "name": "stdout",
          "text": [
            "첫 번째 생성된 숫자: 5\n",
            "두 번째 생성된 숫자: 8\n",
            "두 숫자의 합: 13\n"
          ]
        }
      ]
    },
    {
      "cell_type": "code",
      "source": [
        "# 주사위 굴리기\n",
        "\n",
        "import random\n",
        "\n",
        "dice1 = random.randrange(1, 7) # 1부터 6까지 숫자 중 하나 무작위 출력\n",
        "dice2 = random.randrange(1, 7) # 1부터 6까지 숫자 중 하나 무작위 출력\n",
        "\n",
        "total = dice1 + dice2 # 두 주사위의 합\n",
        "\n",
        "print(f\"주사위 결과 {dice1} + {dice2} = {total}\") # 두 주사위의 값과 합을 출력"
      ],
      "metadata": {
        "colab": {
          "base_uri": "https://localhost:8080/"
        },
        "id": "WQ2snmU7AHIq",
        "outputId": "419740b8-0619-43f1-b91a-22b8113355a9"
      },
      "execution_count": null,
      "outputs": [
        {
          "output_type": "stream",
          "name": "stdout",
          "text": [
            "주사위 결과 4 + 2 = 6\n"
          ]
        }
      ]
    },
    {
      "cell_type": "code",
      "source": [
        "# 윷놀이 프로그래밍 하기\n",
        "\n",
        "import random\n",
        "\n",
        "# 윷 던지기 (0: 앞, 1: 뒤)\n",
        "throw1 = random.choice([0, 1])\n",
        "throw2 = random.choice([0, 1])\n",
        "throw3 = random.choice([0, 1])\n",
        "throw4 = random.choice([0, 1])\n",
        "\n",
        "# 결과 계산\n",
        "total_back = throw1 + throw2 + throw3 + throw4\n",
        "\n",
        "# 결과\n",
        "results = ['모', '도', '개', '걸', '윷']\n",
        "print(results[total_back])"
      ],
      "metadata": {
        "colab": {
          "base_uri": "https://localhost:8080/"
        },
        "id": "FSc-_oBLCZID",
        "outputId": "e7312734-0417-424c-c071-f8d0009c7ec5"
      },
      "execution_count": null,
      "outputs": [
        {
          "output_type": "stream",
          "name": "stdout",
          "text": [
            "도\n"
          ]
        }
      ]
    },
    {
      "cell_type": "code",
      "source": [],
      "metadata": {
        "id": "dAkCmdF7JBr8"
      },
      "execution_count": null,
      "outputs": []
    }
  ]
}
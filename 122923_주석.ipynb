{
  "nbformat": 4,
  "nbformat_minor": 0,
  "metadata": {
    "colab": {
      "provenance": []
    },
    "kernelspec": {
      "name": "python3",
      "display_name": "Python 3"
    },
    "language_info": {
      "name": "python"
    }
  },
  "cells": [
    {
      "cell_type": "markdown",
      "source": [
        "# 1. 주석\n",
        "\n"
      ],
      "metadata": {
        "id": "ogTHLqAaC1nT"
      }
    },
    {
      "cell_type": "markdown",
      "source": [
        "# 1.1 한줄 주석\n",
        "\n",
        "한 줄 주석은 #으로 시작.\n",
        "\n",
        "보통 상단이나 오른쪽에 적음.\n",
        "\n",
        "특이 사항이나 전체적인 것들, 업데이트 내용 등"
      ],
      "metadata": {
        "id": "SNEzfW9QDkWt"
      }
    },
    {
      "cell_type": "code",
      "source": [
        "# 주석 연습 (특이사항, 전체적인 것들, 업데이트 내용)\n",
        "print('Hello World1') # 주석연습2(해당 코드 설명)\n",
        "print('Hello World2') # 코드 에러, 향후 수정, 임시 주석 등"
      ],
      "metadata": {
        "colab": {
          "base_uri": "https://localhost:8080/"
        },
        "id": "uKnPPnZ6DtFH",
        "outputId": "fb7b4c76-6d32-42b2-89ea-cc5b4cbfc936"
      },
      "execution_count": 1,
      "outputs": [
        {
          "output_type": "stream",
          "name": "stdout",
          "text": [
            "Hello World1\n",
            "Hello World2\n"
          ]
        }
      ]
    },
    {
      "cell_type": "markdown",
      "source": [
        "## 1.2 여러 줄 주석\n",
        "\n",
        "' ' ' ( \" \" \" )를 사용하여 여러줄 주석\n",
        "\n",
        "주석처리 할 곳을 감싸줘야함(내용이 안에 들어가게)"
      ],
      "metadata": {
        "id": "bSytBLS4Ew0W"
      }
    },
    {
      "cell_type": "code",
      "source": [
        "'''\n",
        "print('Hello World')\n",
        "print('Hello World')\n",
        "print('Hello World')\n",
        "'''"
      ],
      "metadata": {
        "colab": {
          "base_uri": "https://localhost:8080/",
          "height": 35
        },
        "id": "IKerT1k7D2s5",
        "outputId": "98d33caa-68f6-464e-a9bf-7bcb1009bafb"
      },
      "execution_count": 2,
      "outputs": [
        {
          "output_type": "execute_result",
          "data": {
            "text/plain": [
              "\"\\nprint('Hello World')\\nprint('Hello World')\\nprint('Hello World')\\n\""
            ],
            "application/vnd.google.colaboratory.intrinsic+json": {
              "type": "string"
            }
          },
          "metadata": {},
          "execution_count": 2
        }
      ]
    },
    {
      "cell_type": "code",
      "source": [],
      "metadata": {
        "id": "ycpr8fB-FGHD"
      },
      "execution_count": null,
      "outputs": []
    }
  ]
}
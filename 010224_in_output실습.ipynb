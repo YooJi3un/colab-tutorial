{
  "nbformat": 4,
  "nbformat_minor": 0,
  "metadata": {
    "colab": {
      "provenance": []
    },
    "kernelspec": {
      "name": "python3",
      "display_name": "Python 3"
    },
    "language_info": {
      "name": "python"
    }
  },
  "cells": [
    {
      "cell_type": "markdown",
      "source": [
        "# 2024년 새해 계획 프로그램\n",
        "\n",
        "2024년도 계획을 10문장으로 적고, 그에 따른 2024년도 계획에서 중요 부분을 변수로 받아서 Input으로 받는 프로그램 만들기!\n",
        "\n",
        "1. 나의 2024년도 계획을 적는다.\n",
        "2. 그 중에서 변수로 만들수 있는 것들(input으로 받을 수 있는 것을 비운다.)\n",
        "3. 10 문장에 대해서 똑같이 적용한다. (1개~3개정도 단어)\n",
        "4. 테스트 해본다.\n",
        "5. 코드와 결과를 업로드 한다."
      ],
      "metadata": {
        "id": "YLXq7ZS1lRK2"
      }
    },
    {
      "cell_type": "code",
      "source": [
        "# 1. 2024년 계획\n",
        "\n",
        "sentence_1 = input(\"이번 해에는 매일 _(를/을) 할 것이다.\")\n",
        "print(f\"이번 해에는 매일{sentence_1}(를/을) 할 것이다.\")"
      ],
      "metadata": {
        "colab": {
          "base_uri": "https://localhost:8080/"
        },
        "id": "fFqDuEbrlj7d",
        "outputId": "3f0f5084-33dd-4da3-fa98-581e602e7cfc"
      },
      "execution_count": null,
      "outputs": [
        {
          "output_type": "stream",
          "name": "stdout",
          "text": [
            "이번 해에는 매일 _(를/을) 할 것이다.잔디 심기\n",
            "이번 해에는 매일잔디 심기(를/을) 할 것이다.\n"
          ]
        }
      ]
    },
    {
      "cell_type": "code",
      "source": [
        "# 2. 2024년 계획\n",
        "\n",
        "sentence_2 = input(\"2024년 상반기 목표는 _(를/을) 이다.\")\n",
        "print(f\"2024년 상반기 목표는 {sentence_2} (를/을) 이다.\")"
      ],
      "metadata": {
        "colab": {
          "base_uri": "https://localhost:8080/"
        },
        "id": "N-e6tBRMmgD7",
        "outputId": "9621ac04-e36e-42c8-a702-12f705916099"
      },
      "execution_count": null,
      "outputs": [
        {
          "output_type": "stream",
          "name": "stdout",
          "text": [
            "2024년 상반기 목표는 _(를/을) 이다.오름캠프를 잘 마무리하는 것\n",
            "2024년 상반기 목표는 오름캠프를 잘 마무리하는 것 (를/을) 이다.\n"
          ]
        }
      ]
    },
    {
      "cell_type": "code",
      "source": [
        "# 3. 2024년 계획\n",
        "\n",
        "sentence_3 = input(\"올해 잘하고 싶은 것은 _ 이다.\")\n",
        "print(f\"올해 잘하고 싶은 것은 {sentence_3} 이다.\")"
      ],
      "metadata": {
        "colab": {
          "base_uri": "https://localhost:8080/"
        },
        "id": "kVloViVVnMnw",
        "outputId": "e10d0e95-ffc4-4dd8-d47c-8972c2082f00"
      },
      "execution_count": null,
      "outputs": [
        {
          "output_type": "stream",
          "name": "stdout",
          "text": [
            "올해 잘하고 싶은 것은 _ 이다.영어 수학 파이썬\n",
            "올해 잘하고 싶은 것은 영어 수학 파이썬 이다.\n"
          ]
        }
      ]
    },
    {
      "cell_type": "code",
      "source": [
        "# 4. 2024년 계획 (2개 입력하는 방법!)\n",
        "\n",
        "sentence_4 = input(\"올해는 _, _ 에 집중하려고 한다.\")\n",
        "word1, word2 = sentence_4.split() # 두 단어 입력받고, (필수) 입력 받은 내용을 공백을 기준으로 분리\n",
        "print(f\"올해는 {word1}, {word2}에 집중하려고 한다.\")"
      ],
      "metadata": {
        "colab": {
          "base_uri": "https://localhost:8080/"
        },
        "id": "QBOzDz92nmCY",
        "outputId": "d336d7dd-f585-492f-dc96-649afe504c63"
      },
      "execution_count": null,
      "outputs": [
        {
          "output_type": "stream",
          "name": "stdout",
          "text": [
            "올해는 _, _ 에 집중하려고 한다.영어 수학\n",
            "올해는 영어, 수학에 집중하려고 한다.\n"
          ]
        }
      ]
    },
    {
      "cell_type": "code",
      "source": [],
      "metadata": {
        "id": "rKf_MLFXouQC"
      },
      "execution_count": null,
      "outputs": []
    }
  ]
}
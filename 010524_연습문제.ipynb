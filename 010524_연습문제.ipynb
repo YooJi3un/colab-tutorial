{
  "nbformat": 4,
  "nbformat_minor": 0,
  "metadata": {
    "colab": {
      "provenance": []
    },
    "kernelspec": {
      "name": "python3",
      "display_name": "Python 3"
    },
    "language_info": {
      "name": "python"
    }
  },
  "cells": [
    {
      "cell_type": "markdown",
      "source": [
        "# 문제1. 다음 값은 어떤 값이 출력되는지 이유를 설명하세요.\n",
        "\n",
        "* 1.1 'hello' and 1\n",
        "* 1.2 10 or 'hello world'"
      ],
      "metadata": {
        "id": "Kr7VF4vhkIiU"
      }
    },
    {
      "cell_type": "code",
      "execution_count": 1,
      "metadata": {
        "colab": {
          "base_uri": "https://localhost:8080/"
        },
        "id": "86jBEgR-kEzI",
        "outputId": "dd025a0e-0d08-4bd7-9d07-f20b20694160"
      },
      "outputs": [
        {
          "output_type": "execute_result",
          "data": {
            "text/plain": [
              "1"
            ]
          },
          "metadata": {},
          "execution_count": 1
        }
      ],
      "source": [
        "# 문제 1.1\n",
        "'hello' and 1\n",
        "\n",
        "# 정답: A and B 형태의 연산에서 A가 거짓으로 평가되면\n",
        "# B는 평가를 안하고 바로 False로 결정 되므로 1이 출력 된다."
      ]
    },
    {
      "cell_type": "code",
      "source": [
        "# 문제1.2\n",
        "10 or 'hello world'\n",
        "\n",
        "# 정답: A or B 에서 A가 참으로 평가되면\n",
        "# B는 평가되지 않고 바로 True로 결정 되므로 10이 출력 된다."
      ],
      "metadata": {
        "colab": {
          "base_uri": "https://localhost:8080/"
        },
        "id": "oz0u-1cPkk67",
        "outputId": "a29a0437-2248-4e63-d896-d8c59dbf88a7"
      },
      "execution_count": 2,
      "outputs": [
        {
          "output_type": "execute_result",
          "data": {
            "text/plain": [
              "10"
            ]
          },
          "metadata": {},
          "execution_count": 2
        }
      ]
    },
    {
      "cell_type": "markdown",
      "source": [
        "# 2. 문제2 . 아래 dict에 'three' key를 이용하여 '3'라는 값을 출력해주세요. 없을 경우 애러가 나는 것이 아니라 '3'이라는 값을 출력해야 합니다."
      ],
      "metadata": {
        "id": "tfxCzJSwll8z"
      }
    },
    {
      "cell_type": "code",
      "source": [
        "d = {'one':1, 'two':2}\n",
        "d.setdefault('three', '3')\n",
        "\n",
        "print(d)"
      ],
      "metadata": {
        "colab": {
          "base_uri": "https://localhost:8080/"
        },
        "id": "mXFDmWVnlZjW",
        "outputId": "a31443ff-6de0-49f4-b33f-89233f030ee2"
      },
      "execution_count": 4,
      "outputs": [
        {
          "output_type": "stream",
          "name": "stdout",
          "text": [
            "{'one': 1, 'two': 2, 'three': '3'}\n"
          ]
        }
      ]
    },
    {
      "cell_type": "markdown",
      "source": [
        "# 문제3. 다음 리스트에서 100은 어떻게 꺼낼 수 있나요?"
      ],
      "metadata": {
        "id": "R9PSIxWYmhQv"
      }
    },
    {
      "cell_type": "code",
      "source": [
        "l = [1, [10, 20], [3, [100, 200], 5]]\n",
        "\n",
        "print(l[2][1][0])"
      ],
      "metadata": {
        "colab": {
          "base_uri": "https://localhost:8080/"
        },
        "id": "_kqQ7oWxl0vF",
        "outputId": "aa01ccfc-675b-4ff7-9472-b621b7d9da35"
      },
      "execution_count": 7,
      "outputs": [
        {
          "output_type": "stream",
          "name": "stdout",
          "text": [
            "100\n"
          ]
        }
      ]
    },
    {
      "cell_type": "markdown",
      "source": [
        "# 문제4. 아래 숫자를 모두 더해주세요.\n",
        "\n",
        "l = [[1, 2], [3, 4]]"
      ],
      "metadata": {
        "id": "Q0SPJzf_o8is"
      }
    },
    {
      "cell_type": "code",
      "source": [
        "l = [[1, 2], [3, 4]]\n",
        "\n",
        "ll = sum(l, []) # 평탄화\n",
        "sum(ll)"
      ],
      "metadata": {
        "colab": {
          "base_uri": "https://localhost:8080/"
        },
        "id": "igzGiPzdoyXG",
        "outputId": "98254bea-354c-489d-e834-f338f0c49d7e"
      },
      "execution_count": 12,
      "outputs": [
        {
          "output_type": "execute_result",
          "data": {
            "text/plain": [
              "10"
            ]
          },
          "metadata": {},
          "execution_count": 12
        }
      ]
    },
    {
      "cell_type": "markdown",
      "source": [
        "# 5. (난이도 있는 문제) filter를 사용하여 아래 리스트에서 짝수를 모두 더하는 코드를 작성해주세요.\n",
        "\n",
        "l = [1, 2, 3, 4, 5, 6, 7, 8, 9, 10]"
      ],
      "metadata": {
        "id": "eJ-2ev6Jqcll"
      }
    },
    {
      "cell_type": "code",
      "source": [
        "l = [1, 2, 3, 4, 5, 6, 7, 8, 9, 10]\n",
        "\n",
        "def f(x):\n",
        "    return x % 2 == 0\n",
        "\n",
        "result = sum(filter(f, l))\n",
        "print(result)"
      ],
      "metadata": {
        "colab": {
          "base_uri": "https://localhost:8080/"
        },
        "id": "K59GLsoWp3rR",
        "outputId": "cfb2bf49-00dd-44ae-b6e7-4b763660cfb3"
      },
      "execution_count": 4,
      "outputs": [
        {
          "output_type": "stream",
          "name": "stdout",
          "text": [
            "30\n"
          ]
        }
      ]
    },
    {
      "cell_type": "code",
      "source": [],
      "metadata": {
        "id": "LdSvjZ-0rUFT"
      },
      "execution_count": null,
      "outputs": []
    }
  ]
}
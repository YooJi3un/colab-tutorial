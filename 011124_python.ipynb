{
  "nbformat": 4,
  "nbformat_minor": 0,
  "metadata": {
    "colab": {
      "provenance": []
    },
    "kernelspec": {
      "name": "python3",
      "display_name": "Python 3"
    },
    "language_info": {
      "name": "python"
    }
  },
  "cells": [
    {
      "cell_type": "markdown",
      "source": [
        "# 함수의 이름은 변수"
      ],
      "metadata": {
        "id": "LQhw-gwhCjWR"
      }
    },
    {
      "cell_type": "code",
      "execution_count": 1,
      "metadata": {
        "id": "kCWzgEnB4mGt"
      },
      "outputs": [],
      "source": [
        "def hello():\n",
        "    '''\n",
        "    Doc string\n",
        "    여기에 주석을 달아야함\n",
        "    '''\n",
        "    pass"
      ]
    },
    {
      "cell_type": "code",
      "source": [
        "print(type(hello)) # 함수도 class?"
      ],
      "metadata": {
        "colab": {
          "base_uri": "https://localhost:8080/"
        },
        "id": "ho48mNqz5e5R",
        "outputId": "28afe551-a0a1-404c-9c17-1f0e2824683d"
      },
      "execution_count": 2,
      "outputs": [
        {
          "output_type": "stream",
          "name": "stdout",
          "text": [
            "<class 'function'>\n"
          ]
        }
      ]
    },
    {
      "cell_type": "code",
      "source": [
        "a = 10\n",
        "# a는 뭐지?\n",
        "# a는 int에 인스턴스"
      ],
      "metadata": {
        "id": "4akc5Op45ouP"
      },
      "execution_count": null,
      "outputs": []
    },
    {
      "cell_type": "code",
      "source": [
        "print('hello world') # built in funaction"
      ],
      "metadata": {
        "id": "2bpDowQ86JlM"
      },
      "execution_count": null,
      "outputs": []
    },
    {
      "cell_type": "code",
      "source": [
        "l = [print, print, print]\n",
        "l[2]('hello world') # 인스턴스라 이렇게 출력 가능"
      ],
      "metadata": {
        "colab": {
          "base_uri": "https://localhost:8080/"
        },
        "id": "XZbPw8jk6fjo",
        "outputId": "8346b1fa-fd8f-4072-8b0e-9164e06b0830"
      },
      "execution_count": 3,
      "outputs": [
        {
          "output_type": "stream",
          "name": "stdout",
          "text": [
            "hello world\n"
          ]
        }
      ]
    },
    {
      "cell_type": "code",
      "source": [
        "add = lambda x, y: x + y"
      ],
      "metadata": {
        "id": "X4iKcsS56lMl"
      },
      "execution_count": 4,
      "outputs": []
    },
    {
      "cell_type": "code",
      "source": [
        "# lambda랑 3항 연산자 많이 사용\n",
        "\n",
        "x = 10\n",
        "y =  True if x % 2 == 0 else False\n",
        "\n",
        "y"
      ],
      "metadata": {
        "colab": {
          "base_uri": "https://localhost:8080/"
        },
        "id": "H0MoawHM7k7-",
        "outputId": "95f04234-6ddc-4e99-a817-24bd5df8374e"
      },
      "execution_count": 5,
      "outputs": [
        {
          "output_type": "execute_result",
          "data": {
            "text/plain": [
              "True"
            ]
          },
          "metadata": {},
          "execution_count": 5
        }
      ]
    },
    {
      "cell_type": "code",
      "source": [
        "# 재사용 할 것이면 함수로\n",
        "\n",
        "def 제곱(x):\n",
        "    return x ** 2\n",
        "\n",
        "list(map(제곱, [1, 2, 3, 4]))"
      ],
      "metadata": {
        "colab": {
          "base_uri": "https://localhost:8080/"
        },
        "id": "psTkG3kw8oRQ",
        "outputId": "b62aca26-d765-41d5-a5fa-56a0e0bab48d"
      },
      "execution_count": 8,
      "outputs": [
        {
          "output_type": "execute_result",
          "data": {
            "text/plain": [
              "[1, 4, 9, 16]"
            ]
          },
          "metadata": {},
          "execution_count": 8
        }
      ]
    },
    {
      "cell_type": "markdown",
      "source": [
        "# lambda의 응용"
      ],
      "metadata": {
        "id": "gRXhI-ejCoEX"
      }
    },
    {
      "cell_type": "markdown",
      "source": [
        "## Top3\n",
        "map 에서 사용"
      ],
      "metadata": {
        "id": "602oGE0RIU-4"
      }
    },
    {
      "cell_type": "code",
      "source": [
        "# 재사용 하지 않을 것이면 lambda로! (실무에서 이걸 좀 더 많이 사용)\n",
        "# 수직이 복잡하면 함수로\n",
        "\n",
        "# 위에 코드를 lambda로!\n",
        "list(map(lambda x: x**2, [1, 2, 3, 4]))"
      ],
      "metadata": {
        "id": "5G4ZJR5s93_6"
      },
      "execution_count": null,
      "outputs": []
    },
    {
      "cell_type": "code",
      "source": [
        "list(map(lambda x: True if x % 2 == 0 else False, [1, 2, 3, 4])) # 마스킹"
      ],
      "metadata": {
        "colab": {
          "base_uri": "https://localhost:8080/"
        },
        "id": "bgfgvNqM-xS1",
        "outputId": "e86196ac-4d5e-4394-e28d-a7e2bb2a0cdf"
      },
      "execution_count": 9,
      "outputs": [
        {
          "output_type": "execute_result",
          "data": {
            "text/plain": [
              "[False, True, False, True]"
            ]
          },
          "metadata": {},
          "execution_count": 9
        }
      ]
    },
    {
      "cell_type": "code",
      "source": [
        "# 알고리즘 문제에서\n",
        "# [True, False, False, False, True]\n",
        "# 에라토스테네스의 체(마스킹이 얼마나 유용한지 알 수 있음)"
      ],
      "metadata": {
        "id": "rfW4mQ_n-_vF"
      },
      "execution_count": null,
      "outputs": []
    },
    {
      "cell_type": "code",
      "source": [
        "# 30이 소수인가?\n",
        "\n",
        "for i in range(2, 31):\n",
        "    if 30 % i == 0:\n",
        "        print('소수 아님')\n",
        "        break\n",
        "else:\n",
        "    print('소수임')"
      ],
      "metadata": {
        "colab": {
          "base_uri": "https://localhost:8080/"
        },
        "id": "8Kax4AVFEEVg",
        "outputId": "2c2c09e5-24c8-431d-967b-f51ba013d89c"
      },
      "execution_count": 13,
      "outputs": [
        {
          "output_type": "stream",
          "name": "stdout",
          "text": [
            "소수 아님\n"
          ]
        }
      ]
    },
    {
      "cell_type": "markdown",
      "source": [
        "## Top3\n",
        "filter 에서 사용"
      ],
      "metadata": {
        "id": "QFatn9EJIdtU"
      }
    },
    {
      "cell_type": "code",
      "source": [
        "# filter는 True인것만 출력\n",
        "list(filter(lambda x: x % 2 == 0, range(100)))"
      ],
      "metadata": {
        "id": "o5RTLkzlErmX"
      },
      "execution_count": null,
      "outputs": []
    },
    {
      "cell_type": "code",
      "source": [
        "list(filter(lambda x: x % 3 == 0, range(100)))"
      ],
      "metadata": {
        "id": "L3pJBlPOFwCM"
      },
      "execution_count": null,
      "outputs": []
    },
    {
      "cell_type": "code",
      "source": [
        "list(filter(lambda x: x > 50, range(100)))"
      ],
      "metadata": {
        "id": "P4hH_rgEGmSK"
      },
      "execution_count": null,
      "outputs": []
    },
    {
      "cell_type": "code",
      "source": [
        "list(filter(lambda x: x > 50 and x < 80, range(100)))"
      ],
      "metadata": {
        "id": "rJtt_GcXGPF7"
      },
      "execution_count": null,
      "outputs": []
    },
    {
      "cell_type": "code",
      "source": [
        "list(filter(lambda x: True if x % 3 == 0  or x % 5 == 0 else False, range(100)))"
      ],
      "metadata": {
        "id": "hUGPeNm2GbjZ"
      },
      "execution_count": null,
      "outputs": []
    },
    {
      "cell_type": "code",
      "source": [
        "list(filter(lambda x: x % 2, range(100))) # 홀수를 출력\n",
        "\n",
        "# [0, 1, 2, 3, 4, 5, 6, 7, 8, 9]\n",
        "# x == 0일때 => lambda x: x % 2 => 0 => False로 평가!\n",
        "# x == 1일때 => lambda x: x % 2 => 1 => True로 평가!\n",
        "# x == 2일때 => lambda x: x % 2 => 0\n",
        "# x == 3일때 => lambda x: x % 2 => 1\n",
        "# x == 4일때 => lambda x: x % 2 => 0\n",
        "# x == 5일때 => lambda x: x % 2 => 1\n",
        "# x == 6일때 => lambda x: x % 2 => 0"
      ],
      "metadata": {
        "id": "S7bHBg6XG69J"
      },
      "execution_count": null,
      "outputs": []
    },
    {
      "cell_type": "code",
      "source": [
        "test = lambda i:i % 2 == 0\n",
        "[test(i) for i in range(10)]"
      ],
      "metadata": {
        "colab": {
          "base_uri": "https://localhost:8080/"
        },
        "id": "QmMfMnI9Krhl",
        "outputId": "4a82705a-84a0-43a3-b4a2-7709ac41ac42"
      },
      "execution_count": 24,
      "outputs": [
        {
          "output_type": "execute_result",
          "data": {
            "text/plain": [
              "[True, False, True, False, True, False, True, False, True, False]"
            ]
          },
          "metadata": {},
          "execution_count": 24
        }
      ]
    },
    {
      "cell_type": "markdown",
      "source": [
        "## Top3\n",
        "sorted 에서 사용"
      ],
      "metadata": {
        "id": "V3DwLzg-Ihas"
      }
    },
    {
      "cell_type": "code",
      "source": [
        "l = [10, 20, 5, 4, 22, 32, 5, 9, 11]\n",
        "l.sort() # sort를 자주사용 사용 않음 -> 원본을 변경 시켜서\n",
        "l"
      ],
      "metadata": {
        "colab": {
          "base_uri": "https://localhost:8080/"
        },
        "id": "O-nvejm0HOgj",
        "outputId": "8a9468ee-408b-40c1-b699-79baf40657f3"
      },
      "execution_count": 20,
      "outputs": [
        {
          "output_type": "execute_result",
          "data": {
            "text/plain": [
              "[4, 5, 5, 9, 10, 11, 20, 22, 32]"
            ]
          },
          "metadata": {},
          "execution_count": 20
        }
      ]
    },
    {
      "cell_type": "code",
      "source": [
        "l = [10, 20, 5, 4, 22, 32, 5, 9, 11]\n",
        "sorted(l) # sorted의 return 값이 정렬된 값\n",
        "l"
      ],
      "metadata": {
        "colab": {
          "base_uri": "https://localhost:8080/"
        },
        "id": "B1Mw_UOGI4CK",
        "outputId": "48f655c7-6eda-4cc3-a9de-5aa1c6d018eb"
      },
      "execution_count": 23,
      "outputs": [
        {
          "output_type": "execute_result",
          "data": {
            "text/plain": [
              "[10, 20, 5, 4, 22, 32, 5, 9, 11]"
            ]
          },
          "metadata": {},
          "execution_count": 23
        }
      ]
    },
    {
      "cell_type": "code",
      "source": [
        "sorted() # key, reverse 옵션 정말 많이 사용함\n",
        "# 알고리즘 단골 문제, sorted는 1문제 꼭 나옴"
      ],
      "metadata": {
        "id": "muXauMANI8AF"
      },
      "execution_count": null,
      "outputs": []
    },
    {
      "cell_type": "code",
      "source": [
        "반별점수 = [\n",
        "    ['양털', '88', '88', '88'],\n",
        "    ['유리', '90', '90', '90'],\n",
        "    ['부숩', '90', '90', '90'],\n",
        "    ['구구', '50', '50', '50'],\n",
        "]"
      ],
      "metadata": {
        "id": "AWNWNHUpLD7o"
      },
      "execution_count": 45,
      "outputs": []
    },
    {
      "cell_type": "code",
      "source": [
        "def 함수(x):\n",
        "    return x[3]\n",
        "\n",
        "sorted(반별점수, key=함수)"
      ],
      "metadata": {
        "colab": {
          "base_uri": "https://localhost:8080/"
        },
        "id": "TuNlgazwMBkc",
        "outputId": "cb2542f6-197e-493e-eee6-9f43b91cfddf"
      },
      "execution_count": 46,
      "outputs": [
        {
          "output_type": "execute_result",
          "data": {
            "text/plain": [
              "[['구구', '50', '50', '50'],\n",
              " ['양털', '88', '88', '88'],\n",
              " ['유리', '90', '90', '90'],\n",
              " ['부숩', '90', '90', '90']]"
            ]
          },
          "metadata": {},
          "execution_count": 46
        }
      ]
    },
    {
      "cell_type": "code",
      "source": [
        "def 함수(x):\n",
        "    return x[3]\n",
        "\n",
        "sorted(반별점수, key=lambda x: x[3])"
      ],
      "metadata": {
        "colab": {
          "base_uri": "https://localhost:8080/"
        },
        "id": "WHG1Bs9LMleb",
        "outputId": "7a30bb19-6d36-4b9a-f603-bb9936cb57c3"
      },
      "execution_count": 47,
      "outputs": [
        {
          "output_type": "execute_result",
          "data": {
            "text/plain": [
              "[['구구', '50', '50', '50'],\n",
              " ['양털', '88', '88', '88'],\n",
              " ['유리', '90', '90', '90'],\n",
              " ['부숩', '90', '90', '90']]"
            ]
          },
          "metadata": {},
          "execution_count": 47
        }
      ]
    },
    {
      "cell_type": "code",
      "source": [
        "# 평균 점수대로 출력\n",
        "\n",
        "sorted(반별점수, key = lambda x: x[1] + x[2] + x[3]) # 나눌 필요 없음\n",
        "sorted(반별점수, key = lambda x: x[1] + x[2] + x[3], reverse=True)"
      ],
      "metadata": {
        "colab": {
          "base_uri": "https://localhost:8080/"
        },
        "id": "UWsZKq8FNbqk",
        "outputId": "c24a9425-9012-4789-c897-aafcd21d21f6"
      },
      "execution_count": 48,
      "outputs": [
        {
          "output_type": "execute_result",
          "data": {
            "text/plain": [
              "[['유리', '90', '90', '90'],\n",
              " ['부숩', '90', '90', '90'],\n",
              " ['양털', '88', '88', '88'],\n",
              " ['구구', '50', '50', '50']]"
            ]
          },
          "metadata": {},
          "execution_count": 48
        }
      ]
    },
    {
      "cell_type": "code",
      "source": [
        "# 동점자인 경우 수학점수가 우선순위, 이름순으로 정렬\n",
        "sorted(반별점수, key = lambda x: (x[1] + x[2] + x[3], x[3], x[0]), reverse=True)"
      ],
      "metadata": {
        "colab": {
          "base_uri": "https://localhost:8080/"
        },
        "id": "LLTcD0tyRHq2",
        "outputId": "6dd7372b-9201-46df-dd81-d180fb8dcc20"
      },
      "execution_count": 56,
      "outputs": [
        {
          "output_type": "execute_result",
          "data": {
            "text/plain": [
              "[['유리', '90', '90', '90'],\n",
              " ['부숩', '90', '90', '90'],\n",
              " ['양털', '88', '88', '88'],\n",
              " ['구구', '50', '50', '50']]"
            ]
          },
          "metadata": {},
          "execution_count": 56
        }
      ]
    },
    {
      "cell_type": "code",
      "source": [
        "우편번호 = [\n",
        "    {\n",
        "        '주소': '경기도 용인시',\n",
        "        '우편번호': 321\n",
        "    },\n",
        "    {\n",
        "        '주소': '경기도 수원시',\n",
        "        '우편번호': 355\n",
        "    },\n",
        "    {\n",
        "        '주소': '제주특별자치도 제주시',\n",
        "        '우편번호': 333\n",
        "    }\n",
        "]\n",
        "\n",
        "# sorted(우편번호) #error, 비교를 할 수 없다!?\n",
        "sorted(우편번호, key=lambda x: x['우편번호'])\n",
        "\n",
        "# 우편번호 = [\n",
        "#     {\n",
        "#         '주소': '경기도 용인시',\n",
        "#         '우편번호': 321\n",
        "#     }, => 321\n",
        "#     {\n",
        "#         '주소': '경기도 수원시',\n",
        "#         '우편번호': 355\n",
        "#     }, => 355\n",
        "#     {\n",
        "#         '주소': '제주특별자치도 제주시',\n",
        "#         '우편번호': 333\n",
        "#     } => 333\n",
        "# ]"
      ],
      "metadata": {
        "colab": {
          "base_uri": "https://localhost:8080/"
        },
        "id": "vlmbL1HxTUWF",
        "outputId": "c4faf840-9c06-4365-a738-23951c1d7d5d"
      },
      "execution_count": 111,
      "outputs": [
        {
          "output_type": "execute_result",
          "data": {
            "text/plain": [
              "[{'주소': '경기도 용인시', '우편번호': 321},\n",
              " {'주소': '제주특별자치도 제주시', '우편번호': 333},\n",
              " {'주소': '경기도 수원시', '우편번호': 355}]"
            ]
          },
          "metadata": {},
          "execution_count": 111
        }
      ]
    },
    {
      "cell_type": "code",
      "source": [
        "# 직선에 있는 점의 좌표\n",
        "# 점과 점 사이가 가장 짧은 점의 쌍 출력\n",
        "\n",
        "# 입력값: s = [1, 3, 4, 8, 13, 17, 20]\n",
        "# 출력값: 3, 4\n",
        "\n",
        "s = [1, 3, 4, 8, 13, 17, 20]\n",
        "s[1:]"
      ],
      "metadata": {
        "colab": {
          "base_uri": "https://localhost:8080/"
        },
        "id": "TCh8SsRWU727",
        "outputId": "c020aecd-4e8e-4c9b-c9cf-64a9f4bb3f86"
      },
      "execution_count": 67,
      "outputs": [
        {
          "output_type": "execute_result",
          "data": {
            "text/plain": [
              "[3, 4, 8, 13, 17, 20]"
            ]
          },
          "metadata": {},
          "execution_count": 67
        }
      ]
    },
    {
      "cell_type": "code",
      "source": [
        "x = list(zip(s, s[1:]))\n",
        "x"
      ],
      "metadata": {
        "colab": {
          "base_uri": "https://localhost:8080/"
        },
        "id": "mbuofl4_V6dj",
        "outputId": "16e1b5f5-f9db-407b-e074-549f4402fa22"
      },
      "execution_count": 69,
      "outputs": [
        {
          "output_type": "execute_result",
          "data": {
            "text/plain": [
              "[(1, 3), (3, 4), (4, 8), (8, 13), (13, 17), (17, 20)]"
            ]
          },
          "metadata": {},
          "execution_count": 69
        }
      ]
    },
    {
      "cell_type": "code",
      "source": [
        "sorted(x, key=lambda x: x[1] - x[0])[0]"
      ],
      "metadata": {
        "colab": {
          "base_uri": "https://localhost:8080/"
        },
        "id": "83BbFvCSYFkx",
        "outputId": "89510219-c92a-467c-9c23-bc426284f426"
      },
      "execution_count": 72,
      "outputs": [
        {
          "output_type": "execute_result",
          "data": {
            "text/plain": [
              "(3, 4)"
            ]
          },
          "metadata": {},
          "execution_count": 72
        }
      ]
    },
    {
      "cell_type": "code",
      "source": [
        "# 출력을 번호 붙여서 하고 싶어\n",
        "# 이건 자주사용하는 코드 X\n",
        "list(enumerate(zip('hello', 'world')))"
      ],
      "metadata": {
        "colab": {
          "base_uri": "https://localhost:8080/"
        },
        "id": "aYhoLs0XWGxB",
        "outputId": "5bedd0f2-c734-4ef2-e417-392075711ba1"
      },
      "execution_count": 60,
      "outputs": [
        {
          "output_type": "execute_result",
          "data": {
            "text/plain": [
              "[(0, ('h', 'w')),\n",
              " (1, ('e', 'o')),\n",
              " (2, ('l', 'r')),\n",
              " (3, ('l', 'l')),\n",
              " (4, ('o', 'd'))]"
            ]
          },
          "metadata": {},
          "execution_count": 60
        }
      ]
    },
    {
      "cell_type": "code",
      "source": [
        "# 좀 더 좋게 만들면?\n",
        "# 제너레이터\n",
        "# 난이도 상\n",
        "\n",
        "def gen():\n",
        "    i = 1\n",
        "    while True:\n",
        "        yield i\n",
        "        i += 1\n",
        "\n",
        "list(zip(gen(), 'hello', 'world'))"
      ],
      "metadata": {
        "colab": {
          "base_uri": "https://localhost:8080/"
        },
        "id": "1qF8uHjGXhX3",
        "outputId": "cdb8cdb0-239c-46e8-dcc2-f348701cff92"
      },
      "execution_count": 61,
      "outputs": [
        {
          "output_type": "execute_result",
          "data": {
            "text/plain": [
              "[(1, 'h', 'w'), (2, 'e', 'o'), (3, 'l', 'r'), (4, 'l', 'l'), (5, 'o', 'd')]"
            ]
          },
          "metadata": {},
          "execution_count": 61
        }
      ]
    },
    {
      "cell_type": "markdown",
      "source": [
        "# built in function\n",
        "\n",
        "* map (★★★)\n",
        "* filter (★★)\n",
        "* zip (★)\n",
        "* format (★★)\n",
        "* len(★)"
      ],
      "metadata": {
        "id": "4hL9x9KGY7Fa"
      }
    },
    {
      "cell_type": "code",
      "source": [
        "max([10, 20, 30]) # 최대값 찾기\n",
        "min([10, 20, 30]) # 최솟값 찾기"
      ],
      "metadata": {
        "id": "p_tZqwQQXh2t"
      },
      "execution_count": null,
      "outputs": []
    },
    {
      "cell_type": "code",
      "source": [
        "sum([10, 20, 30])\n",
        "sum([10, 20, 30], 100)\n",
        "sum([[1, 2, 3], [4, 5, 6]], [])"
      ],
      "metadata": {
        "colab": {
          "base_uri": "https://localhost:8080/"
        },
        "id": "nG6cFIC0aF7-",
        "outputId": "b9c7f936-cd8f-414e-81ad-61ecd08c1b6b"
      },
      "execution_count": 73,
      "outputs": [
        {
          "output_type": "execute_result",
          "data": {
            "text/plain": [
              "[1, 2, 3, 4, 5, 6]"
            ]
          },
          "metadata": {},
          "execution_count": 73
        }
      ]
    },
    {
      "cell_type": "code",
      "source": [
        "sum([[1, 2, 3], [4, 5, 6]], [])\n",
        "\n",
        "# [] + [1, 2, 3] == [1, 2, 3]\n",
        "# [1, 2, 3] + [4, 5, 6] == [1, 2, 3, 4, 5, 6]"
      ],
      "metadata": {
        "colab": {
          "base_uri": "https://localhost:8080/"
        },
        "id": "8eBjgD8naPPI",
        "outputId": "c0e7161f-0239-4f61-f768-d3b6d2546f2a"
      },
      "execution_count": 74,
      "outputs": [
        {
          "output_type": "execute_result",
          "data": {
            "text/plain": [
              "[1, 2, 3, 4, 5, 6]"
            ]
          },
          "metadata": {},
          "execution_count": 74
        }
      ]
    },
    {
      "cell_type": "code",
      "source": [
        "a = 10\n",
        "\n",
        "print(a) # 이건 __str__ 로 출력\n",
        "a # 이건 __repr__ 로 출력\n",
        "repr(a) # 이건 __repr__ 로 출력"
      ],
      "metadata": {
        "colab": {
          "base_uri": "https://localhost:8080/",
          "height": 54
        },
        "id": "nRHfybUbaeJX",
        "outputId": "04ae130d-bd5b-4b08-b4c1-d0fb8cfc88bb"
      },
      "execution_count": 76,
      "outputs": [
        {
          "output_type": "stream",
          "name": "stdout",
          "text": [
            "10\n"
          ]
        },
        {
          "output_type": "execute_result",
          "data": {
            "text/plain": [
              "'10'"
            ],
            "application/vnd.google.colaboratory.intrinsic+json": {
              "type": "string"
            }
          },
          "metadata": {},
          "execution_count": 76
        }
      ]
    },
    {
      "cell_type": "code",
      "source": [
        "# 실제 Django에서 사용하는 코드\n",
        "class Notice:\n",
        "    '''\n",
        "    게시물 클래스\n",
        "    '''\n",
        "    def  __init__(self, title, contents):\n",
        "        self.title = title\n",
        "        self.contents = contents\n",
        "\n",
        "    def __str__(self):\n",
        "        return self.title\n",
        "\n",
        "    def __repr__(self):\n",
        "        return f'{self.title}, {self.contents}'\n",
        "\n",
        "게시물1 = Notice('파이썬 이렇게 어려운줄 몰랐다!', '내가 알던 파이썬이 아니야...')\n",
        "게시물2 = Notice('Django는 이렇게 재미있을 줄 몰랐다!', '파이썬을 잘 못해서 내가 할 수 있을까 생각이 들었는데...')\n"
      ],
      "metadata": {
        "colab": {
          "base_uri": "https://localhost:8080/"
        },
        "id": "aJP4HOpIetGi",
        "outputId": "9167b6f3-4c4b-4506-a831-c293d327d8f4"
      },
      "execution_count": 78,
      "outputs": [
        {
          "output_type": "stream",
          "name": "stdout",
          "text": [
            "파이썬 이렇게 어려운줄 몰랐다!\n"
          ]
        }
      ]
    },
    {
      "cell_type": "code",
      "source": [
        "# print(게시물1) # 로그로 출력할 때\n",
        "# 게시물1\n",
        "repr(게시물1) # 그 자료형을 대표하는 문자열 취급"
      ],
      "metadata": {
        "colab": {
          "base_uri": "https://localhost:8080/",
          "height": 35
        },
        "id": "QdqY8ZaufRtW",
        "outputId": "98579a6a-e1c3-49ce-f6e1-71e43d380c88"
      },
      "execution_count": 81,
      "outputs": [
        {
          "output_type": "execute_result",
          "data": {
            "text/plain": [
              "'파이썬 이렇게 어려운줄 몰랐다!, 내가 알던 파이썬이 아니야...'"
            ],
            "application/vnd.google.colaboratory.intrinsic+json": {
              "type": "string"
            }
          },
          "metadata": {},
          "execution_count": 81
        }
      ]
    },
    {
      "cell_type": "code",
      "source": [
        "type(range(10)) # range라는 타입"
      ],
      "metadata": {
        "colab": {
          "base_uri": "https://localhost:8080/"
        },
        "id": "zKryp_7fgYST",
        "outputId": "69eaf2ae-9390-4545-fab5-e31fa39ecd57"
      },
      "execution_count": 83,
      "outputs": [
        {
          "output_type": "execute_result",
          "data": {
            "text/plain": [
              "range"
            ]
          },
          "metadata": {},
          "execution_count": 83
        }
      ]
    },
    {
      "cell_type": "code",
      "source": [
        "# 실제 Django에서 사용하는 코드\n",
        "\n",
        "class Notice:\n",
        "    '''\n",
        "    게시물 클래스\n",
        "    '''\n",
        "    def __init__(self, title, contents):\n",
        "        self.title = title\n",
        "        self.contents = contents\n",
        "\n",
        "    def __str__(self):\n",
        "        return self.title\n",
        "\n",
        "    def __repr__(self):\n",
        "        '''\n",
        "        repr이라는 값은 정해져 있는 이름\n",
        "        '''\n",
        "        return f'{self.title}, {self.contents}'\n",
        "\n",
        "    def __len__(self):\n",
        "        '''\n",
        "        len이라는 값은 정해져 있는 이름\n",
        "        '''\n",
        "        # return 100\n",
        "        return len(self.title + self.contents)\n",
        "\n",
        "게시물1 = Notice('파이썬 이렇게 어려운줄 몰랐다!', '내가 알던 파이썬이 아니야....')\n",
        "len(게시물1)"
      ],
      "metadata": {
        "colab": {
          "base_uri": "https://localhost:8080/"
        },
        "id": "kxS_KPjDg-x1",
        "outputId": "b34ab116-ef96-43e4-e4a5-6135e2c740c4"
      },
      "execution_count": 86,
      "outputs": [
        {
          "output_type": "execute_result",
          "data": {
            "text/plain": [
              "35"
            ]
          },
          "metadata": {},
          "execution_count": 86
        }
      ]
    },
    {
      "cell_type": "code",
      "source": [
        "values = ['A', 'B', 'C', 'D']\n",
        "print(list(enumerate(values)))\n",
        "print(list(enumerate(values, 1))) # 시작값 넣는 것 많이 사용"
      ],
      "metadata": {
        "colab": {
          "base_uri": "https://localhost:8080/"
        },
        "id": "9kPKWK8RkP9m",
        "outputId": "d868f9e4-26b7-4b34-8e33-7390279755be"
      },
      "execution_count": 85,
      "outputs": [
        {
          "output_type": "stream",
          "name": "stdout",
          "text": [
            "[(0, 'A'), (1, 'B'), (2, 'C'), (3, 'D')]\n",
            "[(1, 'A'), (2, 'B'), (3, 'C'), (4, 'D')]\n"
          ]
        }
      ]
    },
    {
      "cell_type": "code",
      "source": [
        "list(reversed([1, 2, 3, 4, 5]))"
      ],
      "metadata": {
        "colab": {
          "base_uri": "https://localhost:8080/"
        },
        "id": "7yEiibKBkmpp",
        "outputId": "10e2c60f-fd39-4a12-9b56-ed7a73784473"
      },
      "execution_count": 87,
      "outputs": [
        {
          "output_type": "execute_result",
          "data": {
            "text/plain": [
              "[5, 4, 3, 2, 1]"
            ]
          },
          "metadata": {},
          "execution_count": 87
        }
      ]
    },
    {
      "cell_type": "code",
      "source": [
        "reversed([1, 2, 3, 4, 5])"
      ],
      "metadata": {
        "colab": {
          "base_uri": "https://localhost:8080/"
        },
        "id": "pBQjhJjjlNkn",
        "outputId": "20fc401b-4e37-4265-c8af-f9333d541e59"
      },
      "execution_count": 88,
      "outputs": [
        {
          "output_type": "execute_result",
          "data": {
            "text/plain": [
              "<list_reverseiterator at 0x7ae297e52860>"
            ]
          },
          "metadata": {},
          "execution_count": 88
        }
      ]
    },
    {
      "cell_type": "code",
      "source": [
        "sorted([1, 2, 3, 4, 5])"
      ],
      "metadata": {
        "colab": {
          "base_uri": "https://localhost:8080/"
        },
        "id": "gZ0_Ws0_lPyg",
        "outputId": "ef03acd2-0b78-43eb-9235-802b1d5c115b"
      },
      "execution_count": 89,
      "outputs": [
        {
          "output_type": "execute_result",
          "data": {
            "text/plain": [
              "[1, 2, 3, 4, 5]"
            ]
          },
          "metadata": {},
          "execution_count": 89
        }
      ]
    },
    {
      "cell_type": "markdown",
      "source": [
        "# match\n",
        "\n",
        "* 2024년은 중요도가 낮음\n",
        "* 2 ~ 3년 후에는 중요도가 올라갈 것으로 예상"
      ],
      "metadata": {
        "id": "qjzdJwM9l656"
      }
    },
    {
      "cell_type": "code",
      "source": [
        "# 반대하는 이유\n",
        "# 타 언어에 비해서 불편한 점\n",
        "요일 = 3\n",
        "match 요일:\n",
        "    case 0:\n",
        "        print('일요일')\n",
        "    case 1:\n",
        "        print('월요일')\n",
        "    case 2:\n",
        "        print('화요일')\n",
        "    case 3:\n",
        "        print('수요일')\n",
        "    case 4:\n",
        "        print('목요일')\n",
        "    case 5:\n",
        "        print('금요일')\n",
        "    case 6:\n",
        "        print('토요일')\n",
        "\n",
        "# 요일 = 4\n",
        "# match 요일:\n",
        "#     case 0:\n",
        "#         print('일요일')\n",
        "#     case 1:\n",
        "#         print('월요일')\n",
        "#     case 2:\n",
        "#         print('화요일')\n",
        "#     case 3: # 다른 언어에서는 이 문법이 가용함\n",
        "#     case 4:\n",
        "#         print('목요일')\n",
        "#     case 5:\n",
        "#         print('금요일')\n",
        "#     case 6:\n",
        "#         print('토요일')"
      ],
      "metadata": {
        "colab": {
          "base_uri": "https://localhost:8080/"
        },
        "id": "dJ6rGHSelTHE",
        "outputId": "a3a8f7b2-d9b9-494e-8307-84eaf704138f"
      },
      "execution_count": 90,
      "outputs": [
        {
          "output_type": "stream",
          "name": "stdout",
          "text": [
            "수요일\n"
          ]
        }
      ]
    },
    {
      "cell_type": "code",
      "source": [
        "text = '1'\n",
        "match text:\n",
        "    case '1' | '2':\n",
        "        print('1, 2')\n",
        "    case _:\n",
        "        print('No Match')"
      ],
      "metadata": {
        "colab": {
          "base_uri": "https://localhost:8080/"
        },
        "id": "HmhgKfWNoQI1",
        "outputId": "94b5c123-7c82-44f9-f575-63196138aed7"
      },
      "execution_count": 91,
      "outputs": [
        {
          "output_type": "stream",
          "name": "stdout",
          "text": [
            "1, 2\n"
          ]
        }
      ]
    },
    {
      "cell_type": "code",
      "source": [
        "요일 = 100\n",
        "match 요일:\n",
        "    case 0:\n",
        "        print('일요일')\n",
        "    case 1:\n",
        "        print('월요일')\n",
        "    case 2:\n",
        "        print('화요일')\n",
        "    case 3:\n",
        "        print('수요일')\n",
        "    case 4:\n",
        "        print('목요일')\n",
        "    case 5:\n",
        "        print('금요일')\n",
        "    case 6:\n",
        "        print('토요일')\n",
        "    case _:\n",
        "        print('요일없음!')"
      ],
      "metadata": {
        "colab": {
          "base_uri": "https://localhost:8080/"
        },
        "id": "UFyHqsQOo6WQ",
        "outputId": "f2846f7b-a9c7-4904-afae-5ce006c7b166"
      },
      "execution_count": 92,
      "outputs": [
        {
          "output_type": "stream",
          "name": "stdout",
          "text": [
            "요일없음!\n"
          ]
        }
      ]
    },
    {
      "cell_type": "code",
      "source": [
        "text = '1'\n",
        "match text:\n",
        "    case '1' | '2':\n",
        "        print('1, 2')\n",
        "    case _:\n",
        "        print('No Match')"
      ],
      "metadata": {
        "colab": {
          "base_uri": "https://localhost:8080/"
        },
        "id": "kQYmnXRepPdC",
        "outputId": "2d861750-1569-45cf-d508-18acc9572e7d"
      },
      "execution_count": 93,
      "outputs": [
        {
          "output_type": "stream",
          "name": "stdout",
          "text": [
            "1, 2\n"
          ]
        }
      ]
    },
    {
      "cell_type": "code",
      "source": [
        "# 아래 코드를 더 많이 사용\n",
        "def 요일반환(요일):\n",
        "    return {\n",
        "        0: '일요일',\n",
        "        1: '월요일',\n",
        "        2: '화요일',\n",
        "        3: '수요일',\n",
        "    }.get(요일, '요일없음')\n",
        "\n",
        "요일반환(2)\n",
        "요일반환(100)"
      ],
      "metadata": {
        "colab": {
          "base_uri": "https://localhost:8080/",
          "height": 35
        },
        "id": "KwJz_6d3pRuV",
        "outputId": "9ca85011-08fa-412a-ed6c-9c25691c510b"
      },
      "execution_count": 94,
      "outputs": [
        {
          "output_type": "execute_result",
          "data": {
            "text/plain": [
              "'요일없음'"
            ],
            "application/vnd.google.colaboratory.intrinsic+json": {
              "type": "string"
            }
          },
          "metadata": {},
          "execution_count": 94
        }
      ]
    },
    {
      "cell_type": "markdown",
      "source": [
        "# class\n",
        "\n",
        "* 이론보다 여러개 만들어보기"
      ],
      "metadata": {
        "id": "qxk0xTQy8IqI"
      }
    },
    {
      "cell_type": "markdown",
      "source": [
        "* class 클래스 이름 -> 인스턴스\n",
        "* class Blog -> 게시물1, 게시물2, 게시물3...\n",
        "* class Dot -> 점1, 점2, 점3...\n",
        "* class Character -> Licat(주인공), Lion(악당), Mob1\n",
        "* class Matrix -> 행렬1, 행렬2, 행렬3 ...\n",
        "* class User -> 유저1, 유저2, 유저3...\n",
        "* class Cart -> cart1, cart2, cart3...\n",
        "* class Comment(댓글) -> 댓글1, 댓글2, 댓글3...\n",
        "* class Product -> 상품1, 상품2, 상품3...\n",
        "* class Class_ -> 강의1, 강의2, 강의3...\n",
        "* class Teacher -> 강사1, 강사2, 강사3...\n"
      ],
      "metadata": {
        "id": "j1IVGGST8qDu"
      }
    },
    {
      "cell_type": "code",
      "source": [
        "# 0번: 기초 상식\n",
        "# 0.0 __init__ 매직메서드는 없어도 되나요?\n",
        "class 우편번호:\n",
        "    제주도 = 100\n",
        "    경기도 = 101\n",
        "    전라북도 = 102\n",
        "    전라남도 = 103\n",
        "\n",
        "우편번호.제주도\n",
        "# 왜 이걸 딕셔너리가 아닌 class로? -> 재사용성 + 확장성 때문!\n",
        "\n",
        "# 0.1 근데 클래스 꼭 사용해야하나요?\n",
        "# 일부 자료형에서는 클래스 꼭 사용해야함\n",
        "\n",
        "# 아래와 같이 저장한다고 해서 문제가 생기는가?\n",
        "# 데이터의 양(속도), 확장성, 다양성, 자료의 형태\n",
        "# 기본 클래스(list, tuple, dict, set)는 매우 느림\n",
        "\n",
        "# 제목: python 기초\n",
        "# 저자: 이호준\n",
        "\n",
        "{'제목': 'python 기초', '저자': '이호준'}\n",
        "\n",
        "# 제목: html 기초\n",
        "# 저자: 현재현\n",
        "\n",
        "{'제목': 'html 기초', '저자': '한재현'}\n",
        "\n",
        "[{'제목': 'python 기초', '저자': '이호준'}, {'제목': 'html 기초', '저자': '한재현'}]\n"
      ],
      "metadata": {
        "colab": {
          "base_uri": "https://localhost:8080/"
        },
        "id": "ZXYW4G9HAEoA",
        "outputId": "faa2b542-b10e-4383-a9c3-e2a318c9afb9"
      },
      "execution_count": 96,
      "outputs": [
        {
          "output_type": "execute_result",
          "data": {
            "text/plain": [
              "100"
            ]
          },
          "metadata": {},
          "execution_count": 96
        }
      ]
    },
    {
      "cell_type": "code",
      "source": [
        "from datetime import datetime\n",
        "\n",
        "datetime.now()"
      ],
      "metadata": {
        "colab": {
          "base_uri": "https://localhost:8080/"
        },
        "id": "vqEmKkIDDUmH",
        "outputId": "fd3838d1-b8e5-4d9d-ca2e-c65b6d4b51b5"
      },
      "execution_count": 97,
      "outputs": [
        {
          "output_type": "execute_result",
          "data": {
            "text/plain": [
              "datetime.datetime(2024, 1, 11, 5, 45, 19, 612078)"
            ]
          },
          "metadata": {},
          "execution_count": 97
        }
      ]
    },
    {
      "cell_type": "markdown",
      "source": [
        "# Post"
      ],
      "metadata": {
        "id": "Ir_Y4Yc2NeJS"
      }
    },
    {
      "cell_type": "code",
      "source": [
        "# 1번\n",
        "# 클래스 설계할 때\n",
        "# step 1) 모든 인스턴스에서 공유해야할 변수나 메서드\n",
        "# step 2) 인스턴스 고유의 영역 설정\n",
        "\n",
        "class Post:\n",
        "    def __init__(\n",
        "            self,\n",
        "            in_title='',\n",
        "            in_contents='',\n",
        "            in_count=(),\n",
        "            in_created_at='',\n",
        "            in_updated_at='',\n",
        "            in_author = ''\n",
        "        ):\n",
        "        self.title = in_title\n",
        "        self.contents = in_contents\n",
        "        self.count = in_count\n",
        "        self.created_at = in_created_at\n",
        "        self.updated_at = in_updated_at\n",
        "        self.author = in_author\n",
        "\n",
        "    def __str__(self):\n",
        "        return self.title\n",
        "\n",
        "    def __repr__(self):\n",
        "        return self.title\n",
        "\n",
        "    def __add__(self, next):\n",
        "        return self.count + next.count\n",
        "\n",
        "    def __len__(self):\n",
        "        pass\n",
        "\n",
        "    def __eq__(self, next):\n",
        "        return self.title == next.title\n",
        "\n",
        "    def update(self, in_contents):\n",
        "        self.contents = in_contents\n",
        "        return 200\n",
        "\n",
        "    def delete(self):\n",
        "        pass\n",
        "\n",
        "게시물1 = Post('파이썬은 참 깊군요!',\n",
        "            '오늘은 파이썬 클래스 배웠는데 어렵고 신기했다.',\n",
        "            0,\n",
        "            '2024-01-11',\n",
        "            '2024-01-11',\n",
        "            '유지은'\n",
        ")\n",
        "\n",
        "게시물2 = Post('2', '22', 0, '2024-01-11', '2024-01-11', '유지은')\n",
        "\n",
        "print(게시물1)\n",
        "print(게시물1.title)\n",
        "print(게시물1 + 게시물2) # + 연산이 나오면 앞(게시물1)의 __add__가 실행됨\n",
        "게시물1.update('hello world')\n",
        "게시물1.contents\n",
        "\n",
        "게시물1 == 게시물2"
      ],
      "metadata": {
        "colab": {
          "base_uri": "https://localhost:8080/"
        },
        "id": "DRCvM8hIpSrr",
        "outputId": "df824794-a521-4947-e46f-e7daa4caf365"
      },
      "execution_count": 105,
      "outputs": [
        {
          "output_type": "stream",
          "name": "stdout",
          "text": [
            "파이썬은 참 깊군요!\n",
            "파이썬은 참 깊군요!\n",
            "0\n"
          ]
        },
        {
          "output_type": "execute_result",
          "data": {
            "text/plain": [
              "False"
            ]
          },
          "metadata": {},
          "execution_count": 105
        }
      ]
    },
    {
      "cell_type": "code",
      "source": [
        "[1, 2, 3] == [1, 2, 3]"
      ],
      "metadata": {
        "colab": {
          "base_uri": "https://localhost:8080/"
        },
        "id": "Guh9gBR-D5OP",
        "outputId": "5c9f35a0-c331-4c52-d265-95fc61842a3f"
      },
      "execution_count": 106,
      "outputs": [
        {
          "output_type": "execute_result",
          "data": {
            "text/plain": [
              "True"
            ]
          },
          "metadata": {},
          "execution_count": 106
        }
      ]
    },
    {
      "cell_type": "code",
      "source": [
        "[1, 2, 3] is [1, 2, 3]"
      ],
      "metadata": {
        "colab": {
          "base_uri": "https://localhost:8080/"
        },
        "id": "EFfYvVAmMqyq",
        "outputId": "16e04f43-321c-4515-9e59-7298310cc28c"
      },
      "execution_count": 107,
      "outputs": [
        {
          "output_type": "execute_result",
          "data": {
            "text/plain": [
              "False"
            ]
          },
          "metadata": {},
          "execution_count": 107
        }
      ]
    },
    {
      "cell_type": "markdown",
      "source": [
        "## Dot"
      ],
      "metadata": {
        "id": "cUhyDREiNiQa"
      }
    },
    {
      "cell_type": "code",
      "source": [
        "class Dot:\n",
        "\n",
        "    def __init__(self, x, y):\n",
        "        self.x = x\n",
        "        self.y = y\n",
        "\n",
        "    def __add__(self):\n",
        "        return (self.x + next.x, self.y + next.y)\n",
        "\n",
        "    def __mul__(self, next):\n",
        "        return (self.x * next.x, self.y * next.y)\n",
        "\n",
        "    def distance(self, next):\n",
        "        dx = self.x = next.x\n",
        "        dy = self.y - next.y\n",
        "        return (dx**2 + dy**2) ** 0.5\n",
        "\n",
        "dot1 = Dot(20, 10)\n",
        "dot2 = Dot(30, 5)\n",
        "\n",
        "dot1 + dot2\n",
        "dot1 * dot2\n",
        "dot1.distance(dot2)"
      ],
      "metadata": {
        "id": "jFvWEuOuMs5x"
      },
      "execution_count": null,
      "outputs": []
    },
    {
      "cell_type": "code",
      "source": [
        "class Character:\n",
        "    def __init__(self, name, skill, hp, mp, power, x):\n",
        "        self.name = name\n",
        "        self.skill = skill\n",
        "        self.hp = hp\n",
        "        self.mp = mp\n",
        "        self.power = power\n",
        "        self.x = x\n",
        "\n",
        "    def move(self):\n",
        "        self.x += 100\n",
        "\n",
        "    def attact(self, next):\n",
        "        next.hp -= self.power\n",
        "\n",
        "주인공1 ="
      ],
      "metadata": {
        "id": "9K0BKIV2Pvzi"
      },
      "execution_count": null,
      "outputs": []
    }
  ]
}
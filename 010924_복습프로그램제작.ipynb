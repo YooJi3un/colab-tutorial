{
  "nbformat": 4,
  "nbformat_minor": 0,
  "metadata": {
    "colab": {
      "provenance": []
    },
    "kernelspec": {
      "name": "python3",
      "display_name": "Python 3"
    },
    "language_info": {
      "name": "python"
    }
  },
  "cells": [
    {
      "cell_type": "markdown",
      "source": [
        "# 프로그램1. 숫자 맞추기\n",
        "\n",
        "* input을 활용라혀 숫자를 입력 받기\n",
        "* 20번 안에 숫자를 맞춰야하는 게임"
      ],
      "metadata": {
        "id": "mzlkE-P00W_z"
      }
    },
    {
      "cell_type": "code",
      "source": [
        "import random\n",
        "secret_number = random.randrange(1, 101) # step 3. random 은 고정\n",
        "\n",
        "for i in range(20): # step 1. 몇 번 반복할지 지정\n",
        "    number = int(input('숫자를 입력하세요. (1에서 100까지)')) # step 2. input을 지정\n",
        "\n",
        "    if number == secret_number: # step 4: 조건문\n",
        "        print(\"정답\")\n",
        "        break # 맞추면 종료\n",
        "    elif number > secret_number:\n",
        "        print(\"더 작은 수\")\n",
        "    else: # 조건을 세부적으로 설정\n",
        "        print(\"더 큰 수\")"
      ],
      "metadata": {
        "colab": {
          "base_uri": "https://localhost:8080/"
        },
        "id": "LQKLLFds3-uz",
        "outputId": "6d254838-6e35-473c-d7af-cabe5baabca1"
      },
      "execution_count": 11,
      "outputs": [
        {
          "output_type": "stream",
          "name": "stdout",
          "text": [
            "숫자를 입력하세요. (1에서 100까지)50\n",
            "더 큰 수\n",
            "숫자를 입력하세요. (1에서 100까지)90\n",
            "더 작은 수\n",
            "숫자를 입력하세요. (1에서 100까지)80\n",
            "더 작은 수\n",
            "숫자를 입력하세요. (1에서 100까지)70\n",
            "더 큰 수\n",
            "숫자를 입력하세요. (1에서 100까지)75\n",
            "더 작은 수\n",
            "숫자를 입력하세요. (1에서 100까지)74\n",
            "정답\n"
          ]
        }
      ]
    },
    {
      "cell_type": "code",
      "source": [
        "print(secret_number)"
      ],
      "metadata": {
        "colab": {
          "base_uri": "https://localhost:8080/"
        },
        "id": "KI_4O0FZ4sKf",
        "outputId": "aa083b82-95a3-4f91-b57d-88f9c63114a5"
      },
      "execution_count": 9,
      "outputs": [
        {
          "output_type": "stream",
          "name": "stdout",
          "text": [
            "20\n"
          ]
        }
      ]
    },
    {
      "cell_type": "markdown",
      "source": [
        "# 프로그램2. 가위바위보"
      ],
      "metadata": {
        "id": "0Vbufj_b7aZ9"
      }
    },
    {
      "cell_type": "code",
      "source": [
        "# step 1. 우리가 낼 가위, 바위, 보를 입력 받음\n",
        "# step 2. 컴퓨터가 낼 가위, 바위, 보를 입력 받음\n",
        "# step 3. 승패 조건"
      ],
      "metadata": {
        "id": "1LtlandP7eFT"
      },
      "execution_count": null,
      "outputs": []
    },
    {
      "cell_type": "code",
      "source": [
        "import random\n",
        "\n",
        "user_input = input(\"가위, 바위, 보\")\n",
        "computer_input = random.choice (['가위', '바위', '보'])\n",
        "\n",
        "\n",
        "if computer_input == user_input:\n",
        "    print(\"비겼습니다\")\n",
        "elif (user_input == \"가위\" and computer_input == \"보\") or \\\n",
        "     (user_input == \"보\" and computer_input == \"바위\") or \\\n",
        "     (user_input == \"바위\" and computer_input == \"가위\"):\n",
        "     print(\"이겼습니다\")\n",
        "else:\n",
        "    print(\"졌습니다\")\n",
        "\n",
        "print(f'컴퓨터가 낸 것: {computer_input}')"
      ],
      "metadata": {
        "colab": {
          "base_uri": "https://localhost:8080/"
        },
        "id": "rqsEPJ7r7l5n",
        "outputId": "7b3fed1e-5580-4025-cc0c-eb3e85d53719"
      },
      "execution_count": 32,
      "outputs": [
        {
          "output_type": "stream",
          "name": "stdout",
          "text": [
            "가위, 바위, 보바위\n",
            "이겼습니다\n",
            "컴퓨터가 낸 것: 가위\n"
          ]
        }
      ]
    },
    {
      "cell_type": "code",
      "source": [],
      "metadata": {
        "id": "MJQSSkJb94W3"
      },
      "execution_count": 23,
      "outputs": []
    }
  ]
}
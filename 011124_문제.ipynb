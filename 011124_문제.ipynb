{
  "nbformat": 4,
  "nbformat_minor": 0,
  "metadata": {
    "colab": {
      "provenance": []
    },
    "kernelspec": {
      "name": "python3",
      "display_name": "Python 3"
    },
    "language_info": {
      "name": "python"
    }
  },
  "cells": [
    {
      "cell_type": "code",
      "execution_count": 17,
      "metadata": {
        "colab": {
          "base_uri": "https://localhost:8080/"
        },
        "id": "7e1bPyjIbHlR",
        "outputId": "ddd9b25b-346b-4a54-9c58-5fda914e0cc2"
      },
      "outputs": [
        {
          "output_type": "execute_result",
          "data": {
            "text/plain": [
              "0"
            ]
          },
          "metadata": {},
          "execution_count": 17
        }
      ],
      "source": [
        "'''\n",
        "1. 다음 숫자 중 5보다 크고, 20보다 작으면서 짝수인 수를 모두 더하는 코드를 완성 해주세요.\n",
        "오늘 배운 filter 사용은 필수 입니다.\n",
        "\n",
        "number = [1, 5, 7, 4, 3, 22, 23, 15, 26, 17, 3]\n",
        "def solution(data)\n",
        "    return\n",
        "\n",
        "solution(number)\n",
        "'''\n",
        "\n",
        "number = [1, 5, 7, 4, 3, 22, 23, 15, 26, 17, 3]\n",
        "def solution(data):\n",
        "    return sum(filter(lambda x: 5 < x < 20 and x % 2 == 0, number))\n",
        "\n",
        "solution(number)"
      ]
    },
    {
      "cell_type": "code",
      "source": [
        "'''\n",
        "2. 다음에 정보가 담겨져 있는 것을 Class로 만들어주세요.\n",
        " 메서드로는 '할인' 메서드를 만들어주세요.\n",
        " 예를 들어 아래 책을 10% 할인한다고 하면 4500원이 됩니다.\n",
        " `책.할인(10) == 4500`의 형태로 만들어주시면 됩니다.\n",
        "{\n",
        "    '책제목': 'hello world python',\n",
        "    '책 내용 요약': 'hello world...',\n",
        "    '저자': '이호준',\n",
        "    '발행일': '2024-01-11',\n",
        "    '가격': 5000\n",
        "}\n",
        "'''\n",
        "\n",
        "class books:\n",
        "    def __init__(self, title, story, author, date, price):\n",
        "        self.title = title\n",
        "        self.story = story\n",
        "        self.author = author\n",
        "        self.date = date\n",
        "        self.price = price\n",
        "\n",
        "    def sale(self, sale):\n",
        "        sale_price = self.price - (self.price * sale / 100)\n",
        "        return sale_price\n",
        "\n",
        "book1 = books(\n",
        "    'hello world python',\n",
        "    'hello world...',\n",
        "    '이호준',\n",
        "    '2024-01-11',\n",
        "    5000\n",
        ")\n",
        "\n",
        "print(book1.sale(10))"
      ],
      "metadata": {
        "colab": {
          "base_uri": "https://localhost:8080/"
        },
        "id": "wHsUFHnmboCZ",
        "outputId": "17244d41-767d-4720-ac05-4ebcf4519b63"
      },
      "execution_count": 29,
      "outputs": [
        {
          "output_type": "stream",
          "name": "stdout",
          "text": [
            "4500.0\n"
          ]
        }
      ]
    },
    {
      "cell_type": "code",
      "source": [
        "'''\n",
        "3. 다음 문제를 풀고 정답을 제출해주세요.\n",
        "3.1 https://100.pyalgo.co.kr/?page=10#\n",
        "'''\n",
        "\n",
        "능력치 = [\n",
        "    ['Licat', 98, 92, 85, 97],\n",
        "    ['Mura', 95, 32, 51, 30],\n",
        "    ['Binky', 98, 98, 51, 32],\n",
        "    ['Gray', 98, 92, 85, 97],\n",
        "    ['Gom', 98, 30, 21, 60],\n",
        "    ['Allosa', 98, 90, 99, 98]\n",
        "]\n",
        "\n",
        "sorted(list(filter(lambda x: sum(x[1:]) > 350, 능력치)))"
      ],
      "metadata": {
        "colab": {
          "base_uri": "https://localhost:8080/"
        },
        "id": "TaLX8OZ0f3dS",
        "outputId": "c41d1e97-32d0-4810-af1c-e49c6de575de"
      },
      "execution_count": 50,
      "outputs": [
        {
          "output_type": "execute_result",
          "data": {
            "text/plain": [
              "[['Allosa', 98, 90, 99, 98],\n",
              " ['Gray', 98, 92, 85, 97],\n",
              " ['Licat', 98, 92, 85, 97]]"
            ]
          },
          "metadata": {},
          "execution_count": 50
        }
      ]
    },
    {
      "cell_type": "code",
      "source": [
        "'''\n",
        "3.2 https://100.pyalgo.co.kr/?page=18#\n",
        "'''\n",
        "\n",
        "온도 = {\n",
        "    '2024-01-01': 15,\n",
        "    '2024-01-02': 17,\n",
        "    '2024-01-03': 16,\n",
        "    '2024-01-04': 20,\n",
        "    '2024-01-05': 19,\n",
        "    '2024-01-06': 21,\n",
        "    '2024-01-07': 18\n",
        "}\n",
        "\n",
        "dict(sorted(온도.items(), key=lambda x: x[1], reverse=True))"
      ],
      "metadata": {
        "colab": {
          "base_uri": "https://localhost:8080/"
        },
        "id": "nwXPZBX6kNlh",
        "outputId": "8147a41c-4119-4c6e-aca5-ee9f3ed86b14"
      },
      "execution_count": 70,
      "outputs": [
        {
          "output_type": "execute_result",
          "data": {
            "text/plain": [
              "{'2024-01-06': 21,\n",
              " '2024-01-04': 20,\n",
              " '2024-01-05': 19,\n",
              " '2024-01-07': 18,\n",
              " '2024-01-02': 17,\n",
              " '2024-01-03': 16,\n",
              " '2024-01-01': 15}"
            ]
          },
          "metadata": {},
          "execution_count": 70
        }
      ]
    },
    {
      "cell_type": "code",
      "source": [],
      "metadata": {
        "id": "Kd9_HMdiohq2"
      },
      "execution_count": null,
      "outputs": []
    }
  ]
}
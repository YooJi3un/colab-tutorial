{
  "nbformat": 4,
  "nbformat_minor": 0,
  "metadata": {
    "colab": {
      "provenance": []
    },
    "kernelspec": {
      "name": "python3",
      "display_name": "Python 3"
    },
    "language_info": {
      "name": "python"
    }
  },
  "cells": [
    {
      "cell_type": "markdown",
      "source": [
        "# 1. 논리연산"
      ],
      "metadata": {
        "id": "tMogFSrLA4tU"
      }
    },
    {
      "cell_type": "code",
      "source": [
        "# and 연산자\n",
        "# 논리 곱으로 표현 / 두 조건이 모두 참일 때 True 반환\n",
        "\n",
        "print(True and True)\n",
        "print(True and False)\n",
        "print(False and True)\n",
        "print(False and False)"
      ],
      "metadata": {
        "id": "kUovPPBjZ-9B"
      },
      "execution_count": null,
      "outputs": []
    },
    {
      "cell_type": "code",
      "source": [
        "# or 연산자\n",
        "# 논리 합으로 표현 / 두 조건 중 하나라도 참일 때 True 반환\n",
        "\n",
        "print(True or True)\n",
        "print(True or False)\n",
        "print(False or True)\n",
        "print(False or False)"
      ],
      "metadata": {
        "id": "AtrnzcqtcfF_"
      },
      "execution_count": null,
      "outputs": []
    },
    {
      "cell_type": "code",
      "execution_count": 2,
      "metadata": {
        "colab": {
          "base_uri": "https://localhost:8080/"
        },
        "id": "StJwjLMG8H46",
        "outputId": "fae3a194-71cf-41b8-be14-cccdd7dfa88c"
      },
      "outputs": [
        {
          "output_type": "stream",
          "name": "stdout",
          "text": [
            "0\n",
            "15\n",
            "30\n",
            "45\n",
            "60\n",
            "75\n",
            "90\n"
          ]
        }
      ],
      "source": [
        "# and와 or 사용\n",
        "\n",
        "for i in range(101): # 0부터 100까지 반복\n",
        "    if i % 3 == 0 and i % 5 == 0:\n",
        "        print(i)"
      ]
    },
    {
      "cell_type": "code",
      "source": [
        "# not 연산자\n",
        "# 주어진 조건의 반대 값을 반환 (True는 False로 False는 True로)\n",
        "\n",
        "print(not True)\n",
        "print(not False)"
      ],
      "metadata": {
        "id": "r_uD-7hCcuyu"
      },
      "execution_count": null,
      "outputs": []
    },
    {
      "cell_type": "code",
      "source": [
        "# 단락평가\n",
        "# 연산 결과가 확정된 시점에서 평가 중단\n",
        "\n",
        "def test1():\n",
        "    print(\"teat1 함수 호출!\")\n",
        "    return False\n",
        "\n",
        "def test2():\n",
        "    print(\"test 함수 호출!\")\n",
        "    return True\n",
        "\n",
        "# 가장 많이 걸러지는 조건을 앞에 두면 리소스 줄일 수 있음\n",
        "\n",
        "result = test1() and test2()\n",
        "print(result)"
      ],
      "metadata": {
        "colab": {
          "base_uri": "https://localhost:8080/"
        },
        "id": "ZpA5ajj380qg",
        "outputId": "362ce207-194a-4034-9a9b-80d5529e9887"
      },
      "execution_count": 3,
      "outputs": [
        {
          "output_type": "stream",
          "name": "stdout",
          "text": [
            "teat1 함수 호출!\n",
            "False\n"
          ]
        }
      ]
    },
    {
      "cell_type": "markdown",
      "source": [
        "# 2. 할당연사자"
      ],
      "metadata": {
        "id": "ndTgbKE0EqY3"
      }
    },
    {
      "cell_type": "code",
      "source": [
        "# 할당연산자\n",
        "# 변수에 값을 저장하는데 사용\n",
        "# 코드를 보기 좋게 할 수 있고 실수할 확률도 줄어듬\n",
        "\n",
        "x = 5\n",
        "y = 2\n",
        "z = 10\n",
        "\n",
        "x1 = y * z\n",
        "x2 = x + (y * z)\n",
        "x += y * z # y * z 연산 후에 x에 값을 할당\n",
        "\n",
        "print(x1)\n",
        "print(x2)\n",
        "print(x)"
      ],
      "metadata": {
        "colab": {
          "base_uri": "https://localhost:8080/"
        },
        "id": "VoT0LSumEsvz",
        "outputId": "fbcada75-f591-4bc5-bb38-c43cd273fbd8"
      },
      "execution_count": 5,
      "outputs": [
        {
          "output_type": "stream",
          "name": "stdout",
          "text": [
            "20\n",
            "25\n",
            "25\n"
          ]
        }
      ]
    },
    {
      "cell_type": "markdown",
      "source": [
        "# 3. 식별연산자"
      ],
      "metadata": {
        "id": "I8zw84vWH2sT"
      }
    },
    {
      "cell_type": "code",
      "source": [
        "# 식별연산자\n",
        "# 두 변수가 동일한 객체를 참조하고 있는지 확인하는데 사용\n",
        "# 동일 인물 확인\n",
        "\n",
        "coffee_employee = \"Brand\"\n",
        "orange_employee = \"Brand\"\n",
        "\n",
        "print(coffee_employee is orange_employee) # 주소가 같은지\n",
        "print(coffee_employee == orange_employee) # 실제 값이 같은지\n",
        "\n",
        "# is -> id를 기준으로 같은지 판별\n",
        "# == -> 값 기준으로 같은지 판별"
      ],
      "metadata": {
        "colab": {
          "base_uri": "https://localhost:8080/"
        },
        "id": "6PMntXr-FPc8",
        "outputId": "d46e9ce5-3a4e-49a2-e60c-87eb5e62e6b4"
      },
      "execution_count": 7,
      "outputs": [
        {
          "output_type": "stream",
          "name": "stdout",
          "text": [
            "True\n",
            "True\n"
          ]
        }
      ]
    },
    {
      "cell_type": "markdown",
      "source": [
        "# 4. 맴버 연산"
      ],
      "metadata": {
        "id": "vvRTGK3SQJY7"
      }
    },
    {
      "cell_type": "code",
      "source": [
        "# 맴버 연산\n",
        "# 어떠한 값이 목록 안에 있는지 확인해주는 기능\n",
        "# in과 not in 을 사용\n",
        "\n",
        "a = [1, 2, 3, 4]\n",
        "b = [1, 2, 3, 4]\n",
        "c = 'hello world'\n",
        "\n",
        "print(1 in a) # a 안에 1이 존재하면 True, 존재하지 않으면 False\n",
        "print(0 not in a) # a 안에 0이 존재하지 않으면 Ture 출력\n",
        "print([2] in b) # 리스트가 [2]가 b안에 존재하지 않으므로 False\n",
        "print([1, 2] in b)\n",
        "print('h' in c) # c 안에 h가 존재하면 True 출력\n",
        "print('hello ' in c)"
      ],
      "metadata": {
        "colab": {
          "base_uri": "https://localhost:8080/"
        },
        "id": "IdtqZPfPIOxG",
        "outputId": "0ea42091-1dc2-456e-d4f7-214ee55a05d9"
      },
      "execution_count": 8,
      "outputs": [
        {
          "output_type": "stream",
          "name": "stdout",
          "text": [
            "True\n"
          ]
        }
      ]
    },
    {
      "cell_type": "markdown",
      "source": [
        "# 연습 문제"
      ],
      "metadata": {
        "id": "Bzdcios5eUJc"
      }
    },
    {
      "cell_type": "code",
      "source": [
        "# 연습문제\n",
        "\n",
        "# 1번\n",
        "a = 100\n",
        "print((a > 100) and (a < 200)) # 0 1 -> 0\n",
        "print((a > 100) or (a < 200)) # 0 1 -> 1\n",
        "print((a >= 100) and (a <= 200)) # 1 1 -> 1\n",
        "print((a >= 100) or (a <= 200)) # 1 1 -> 1"
      ],
      "metadata": {
        "colab": {
          "base_uri": "https://localhost:8080/"
        },
        "id": "XFyHc4IBQUr4",
        "outputId": "fe67696e-530a-4143-a3a3-696d6519b901"
      },
      "execution_count": 10,
      "outputs": [
        {
          "output_type": "stream",
          "name": "stdout",
          "text": [
            "False\n",
            "True\n",
            "True\n",
            "True\n"
          ]
        }
      ]
    },
    {
      "cell_type": "code",
      "source": [
        "# 연습문제\n",
        "\n",
        "# 2번\n",
        "\n",
        "b = 25\n",
        "(b % 2 == 0) and (b % 5 == 0)"
      ],
      "metadata": {
        "colab": {
          "base_uri": "https://localhost:8080/"
        },
        "id": "Mov7LWaRXPf6",
        "outputId": "e44d1b30-18f4-4754-e841-89dd78f0a091"
      },
      "execution_count": 11,
      "outputs": [
        {
          "output_type": "execute_result",
          "data": {
            "text/plain": [
              "False"
            ]
          },
          "metadata": {},
          "execution_count": 11
        }
      ]
    },
    {
      "cell_type": "code",
      "source": [
        "# 연습문제\n",
        "\n",
        "# 3번\n",
        "\n",
        "'''\n",
        "변수 c 안에 들어있는 가격을 100원짜리 몇개로 거슬러 줄 수 있는 코드\n",
        "'''\n",
        "\n",
        "c = 1000\n",
        "c // 100"
      ],
      "metadata": {
        "colab": {
          "base_uri": "https://localhost:8080/"
        },
        "id": "N5MdLu1dXnVg",
        "outputId": "2bffb4ac-492a-4f64-cdfb-ae30950a24bc"
      },
      "execution_count": 15,
      "outputs": [
        {
          "output_type": "execute_result",
          "data": {
            "text/plain": [
              "10"
            ]
          },
          "metadata": {},
          "execution_count": 15
        }
      ]
    },
    {
      "cell_type": "code",
      "source": [
        "# 연습문제\n",
        "\n",
        "# 4번\n",
        "\n",
        "'''\n",
        "입력한 금액을 5000원, 1000원, 500원, 100원으로 교환하는 프로그램 작성\n",
        "'''\n",
        "\n",
        "money = int(input(\"거스름돈을 출력하세요\"))\n",
        "\n",
        "# 5000원 지폐 개수 계산\n",
        "num_5000 = money // 5000\n",
        "money = money - num_5000 * 5000\n",
        "\n",
        "# 1000원 지폐 개수 계산\n",
        "num_1000 = money // 1000\n",
        "money = money - num_1000 * 1000\n",
        "\n",
        "# 500원 동전 개수 계산\n",
        "num_500 = money // 500\n",
        "money = money - num_500 * 500\n",
        "\n",
        "# 100원 동전 개수 계산\n",
        "num_100 = money // 100\n",
        "money = money - num_100 * 100\n",
        "\n",
        "# 10원 동전 개수 계산\n",
        "num_10 = money // 10\n",
        "\n",
        "# 결과 출력\n",
        "print(\"5000원 지폐 개수:\", num_5000)\n",
        "print(\"1000원 지폐 개수:\", num_1000)\n",
        "print(\"500원 동전 개수:\", num_500)\n",
        "print(\"100원 동전 개수:\", num_100)\n",
        "print(\"10원 동전 개수:\", num_10)"
      ],
      "metadata": {
        "colab": {
          "base_uri": "https://localhost:8080/"
        },
        "id": "499ld3WsXzLT",
        "outputId": "f2b1ace8-a0c1-4699-c393-c1dbaad2b7ba"
      },
      "execution_count": 18,
      "outputs": [
        {
          "output_type": "stream",
          "name": "stdout",
          "text": [
            "거스름돈을 출력하세요4890\n",
            "5000원 지폐 개수: 0\n",
            "1000원 지폐 개수: 4\n",
            "500원 동전 개수: 1\n",
            "100원 동전 개수: 3\n",
            "10원 동전 개수: 9\n"
          ]
        }
      ]
    },
    {
      "cell_type": "code",
      "source": [
        "'''\n",
        "1. 사용자 입력 받기(input 사용)\n",
        "2. 문자열을 숫자로 변환(float 사용)\n",
        "3. 할인된 가격 계산(할인된 가격 = 원가 - (원가 x 할인율/100))\n",
        "4. 결과 출력(print 사용)\n",
        "'''\n",
        "\n",
        "# 원가와 할인율 입력 받기\n",
        "original_price = float(input(\"원가를 입력하세요.\"))\n",
        "discount_rate = float(input(\"할인율을 입력하세요.\"))\n",
        "\n",
        "# 할인된 가격 계산\n",
        "discounted_price = original_price - (original_price * (discount_rate/100))\n",
        "\n",
        "# 결과 출력\n",
        "print(f'할인한 가격은 {int(discounted_price)}원 입니다.')"
      ],
      "metadata": {
        "colab": {
          "base_uri": "https://localhost:8080/"
        },
        "id": "f7h-MhMzc5QK",
        "outputId": "0a04404e-2951-4e52-81d6-e918f82b5dd0"
      },
      "execution_count": 26,
      "outputs": [
        {
          "output_type": "stream",
          "name": "stdout",
          "text": [
            "원가를 입력하세요.100\n",
            "할인율을 입력하세요.10\n",
            "할인한 가격은 90원 입니다.\n"
          ]
        }
      ]
    },
    {
      "cell_type": "code",
      "source": [
        "'''\n",
        "1. 사용자 입력 받기 (input 사용)\n",
        "2. 문자열을 숫자로 변환 (int 사용)\n",
        "3. 산술 연산 수행 (변환된 나이에 1을 더하여 다음 해의 나이를 계산)\n",
        "4. 문자열 길이 계산 (len 사용)\n",
        "5. 성인 여부 판단 (나이를 기준으로 성인 여부를 판단하여 불리언 값으로 표시)\n",
        "(예: 18세 이상이면 True, 그렇지 않으면 False)\n",
        "6. 결과 출력 (print 사용)\n",
        "'''\n",
        "\n",
        "# 사용자 입력 받기\n",
        "user_name = (input(\"이름을 입력하세요.\"))\n",
        "user_age = int(input(\"나이를 입력하세요.\"))\n",
        "\n",
        "# 다음 해 나이 계산\n",
        "next_age = user_age + 1\n",
        "\n",
        "# 문자열 길이 계산\n",
        "name_length = len(user_name)\n",
        "\n",
        "# 성인 여부 판단\n",
        "is_adult = (user_age >= 19)\n",
        "\n",
        "# 결과 출력\n",
        "print(f'이름: {user_name}')\n",
        "print(f'올해 나이: {user_age}')\n",
        "print(f'다음 해 나이: {next_age}')\n",
        "print(f'성인 여부: {is_adult}')"
      ],
      "metadata": {
        "colab": {
          "base_uri": "https://localhost:8080/"
        },
        "id": "Uh1cToh1gKZX",
        "outputId": "b2c16105-21bb-4855-decc-053656fce65b"
      },
      "execution_count": 31,
      "outputs": [
        {
          "output_type": "stream",
          "name": "stdout",
          "text": [
            "이름을 입력하세요.유지은\n",
            "나이를 입력하세요.17\n",
            "이름: 유지은\n",
            "올해 나이: 17\n",
            "다음 해 나이: 18\n",
            "성인 여부: False\n"
          ]
        }
      ]
    },
    {
      "cell_type": "code",
      "source": [],
      "metadata": {
        "id": "RBITb3CMkNED"
      },
      "execution_count": null,
      "outputs": []
    }
  ]
}
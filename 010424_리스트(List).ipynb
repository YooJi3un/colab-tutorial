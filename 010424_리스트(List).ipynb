{
  "nbformat": 4,
  "nbformat_minor": 0,
  "metadata": {
    "colab": {
      "provenance": []
    },
    "kernelspec": {
      "name": "python3",
      "display_name": "Python 3"
    },
    "language_info": {
      "name": "python"
    }
  },
  "cells": [
    {
      "cell_type": "code",
      "execution_count": 4,
      "metadata": {
        "colab": {
          "base_uri": "https://localhost:8080/"
        },
        "id": "kqCcd71HEhdP",
        "outputId": "1f1f5422-419b-4c06-9846-3f284897dc5d"
      },
      "outputs": [
        {
          "output_type": "stream",
          "name": "stdout",
          "text": [
            "5\n",
            "6\n",
            "3\n"
          ]
        }
      ],
      "source": [
        "# 리스트 (List)\n",
        "# [] 안에 ,로 구분된 데이터 넣으면 됨\n",
        "\n",
        "x = [1, 2, 3, 4, 5]\n",
        "y = ['a', 'b', 'c', 'd', 'e', 'f']\n",
        "z = [1, [2, 3, 4], 3] # 리스트 안에 리스트도 가능 (다차원 리스트)\n",
        "\n",
        "# len을 사용하여 리스트 안에 몇 개의 데이터가 있는지 확인 가능\n",
        "print(len(x))\n",
        "print(len(y))\n",
        "print(len(z))"
      ]
    },
    {
      "cell_type": "code",
      "source": [
        "# 리스트 값 수정\n",
        "\n",
        "a = [1, 2, 3, 4, 5]\n",
        "a[0] = 10000 # 리스트 a의 첫 번째를 10000으로 바꾸는 코드\n",
        "print(a)\n",
        "\n",
        "# 문자열 변경은 지원 안함\n",
        "s = 'licat'\n",
        "s[0] = 'k' # 불가능 하기에 오류 남\n",
        "print(s[0])"
      ],
      "metadata": {
        "id": "uHJdDBP_FmBf"
      },
      "execution_count": null,
      "outputs": []
    },
    {
      "cell_type": "code",
      "source": [
        "# 리스트의 덧셈\n",
        "a = [1, 2, 3, 4, 5]\n",
        "b = [6, 7, 8]\n",
        "\n",
        "print(a + b)\n",
        "\n",
        "# 리스트의 곱셈\n",
        "a = [1, 2, 3, 4, 5]\n",
        "print(a * 3)"
      ],
      "metadata": {
        "colab": {
          "base_uri": "https://localhost:8080/"
        },
        "id": "Tr9R9i5yJLk7",
        "outputId": "52736d69-06fe-4980-e73c-ad659c235544"
      },
      "execution_count": 11,
      "outputs": [
        {
          "output_type": "stream",
          "name": "stdout",
          "text": [
            "[1, 2, 3, 4, 5, 6, 7, 8]\n",
            "[1, 2, 3, 4, 5, 1, 2, 3, 4, 5, 1, 2, 3, 4, 5]\n"
          ]
        }
      ]
    },
    {
      "cell_type": "code",
      "source": [
        "# 아래 같이 범위를 벗어난 값을 출력하려고 하면 오류 남\n",
        "\n",
        "lst = [1, 2, 3, 4, 5]\n",
        "print(lst[10])"
      ],
      "metadata": {
        "id": "ZkPaiGFxJVX5"
      },
      "execution_count": null,
      "outputs": []
    },
    {
      "cell_type": "code",
      "source": [
        "# 리스트 슬라이싱\n",
        "# [start:stop:step] 형태\n",
        "\n",
        "l = [1, 2, 3, 4, 5]\n",
        "\n",
        "print(l[:]) # 처음부터 끝까지\n",
        "print(l[::-1]) # 처음부터 끝까지 거꾸로 (-1이라서)\n",
        "print(l[::2]) # 처음부터 끝까지 2 간격으로\n",
        "print(l[0:4][::-1]) # 처음부터 4 번째까지 거꾸로(-1이라서)"
      ],
      "metadata": {
        "colab": {
          "base_uri": "https://localhost:8080/"
        },
        "id": "JVcX8G01KwnL",
        "outputId": "b4d1328f-3429-4c4e-a695-f91a6e056e87"
      },
      "execution_count": 9,
      "outputs": [
        {
          "output_type": "stream",
          "name": "stdout",
          "text": [
            "[1, 2, 3, 4, 5]\n",
            "[5, 4, 3, 2, 1]\n",
            "[1, 3, 5]\n",
            "[4, 3, 2, 1]\n"
          ]
        }
      ]
    },
    {
      "cell_type": "code",
      "source": [
        "# 슬라이싱은 범위를 벗어나도 오류가 안 샘김\n",
        "\n",
        "l = [1, 2, 3, 4, 5]\n",
        "print(l[10:20])"
      ],
      "metadata": {
        "colab": {
          "base_uri": "https://localhost:8080/"
        },
        "id": "05-zEjEsLGuD",
        "outputId": "a7c9fd0d-453a-470a-c63c-a757d371960b"
      },
      "execution_count": 10,
      "outputs": [
        {
          "output_type": "stream",
          "name": "stdout",
          "text": [
            "[]\n"
          ]
        }
      ]
    },
    {
      "cell_type": "code",
      "source": [
        "# 리스트 메서드\n",
        "\n",
        "# append\n",
        "# 리스트의 끝에 값을 추가\n",
        "a = [1, 2, 3]\n",
        "a.append(10)\n",
        "print(a)\n",
        "\n",
        "# clear\n",
        "# 리스트의 모든 항목을 삭제\n",
        "a = [1, 2, 3]\n",
        "a.clear()\n",
        "print(a)\n",
        "\n",
        "# count\n",
        "# 특정 값이 리스트에 몇 번 포함되어 있는지 카운트\n",
        "a = [1, 1, 1, 2, 3, 2, 4, 3, 1, 2, 2]\n",
        "print(a.count(1)) # 1이 몇 번 들어가는지 카운트\n",
        "\n",
        "# extend\n",
        "# 리스트에 다른 리스트나 순회 가능한(iterable) 항목들을 추가\n",
        "a = [1, 2, 3]\n",
        "a.extend([4, 5, 6])\n",
        "print(a)\n",
        "\n",
        "# index\n",
        "# 주어진 값 위치(인덱스)를 반환\n",
        "a = [10, 20, 30, 40]\n",
        "print(a.index(30))\n",
        "\n",
        "# insert\n",
        "# 주어진 위치에 값을 삽입\n",
        "a.insert(2, 25)\n",
        "print(a)\n",
        "\n",
        "# pop\n",
        "# 리스트의 특정 위치에 있는 값을 반환하고 해당 값을 리스트에서 삭제\n",
        "print(a.pop(2))\n",
        "print(a) # 값을 넣지 않을 경우 마지막에서 값을 뺌\n",
        "\n",
        "# remove\n",
        "# 리스트에서 첫 번째로 발견되는 주어진 값을 삭제\n",
        "a = [1, 2, 3, 1, 2]\n",
        "a.remove(2)\n",
        "print(a)\n",
        "\n",
        "# reverse\n",
        "# 리스트의 모든 항목들의 순서를 뒤집음\n",
        "a = [1, 2, 3, 4, 5]\n",
        "a.reverse()\n",
        "print(a)\n",
        "\n",
        "# sort\n",
        "# 리스트 자체를 정렬\n",
        "a = [3, 2, 4, 1, 5]\n",
        "a.sort()\n",
        "print(a)"
      ],
      "metadata": {
        "colab": {
          "base_uri": "https://localhost:8080/"
        },
        "id": "5BG5Y2baMGFb",
        "outputId": "acd15a60-a058-4e6f-fcb9-18918650865b"
      },
      "execution_count": 19,
      "outputs": [
        {
          "output_type": "stream",
          "name": "stdout",
          "text": [
            "[1, 2, 3, 10]\n",
            "[]\n",
            "4\n",
            "[1, 2, 3, 4, 5, 6]\n",
            "2\n",
            "[10, 20, 25, 30, 40]\n",
            "25\n",
            "[10, 20, 30, 40]\n",
            "[1, 3, 1, 2]\n",
            "[5, 4, 3, 2, 1]\n",
            "[1, 2, 3, 4, 5]\n"
          ]
        }
      ]
    },
    {
      "cell_type": "code",
      "source": [],
      "metadata": {
        "id": "e2fM_6WSj3be"
      },
      "execution_count": null,
      "outputs": []
    }
  ]
}
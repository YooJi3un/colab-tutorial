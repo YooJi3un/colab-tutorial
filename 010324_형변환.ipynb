{
  "nbformat": 4,
  "nbformat_minor": 0,
  "metadata": {
    "colab": {
      "provenance": []
    },
    "kernelspec": {
      "name": "python3",
      "display_name": "Python 3"
    },
    "language_info": {
      "name": "python"
    }
  },
  "cells": [
    {
      "cell_type": "markdown",
      "source": [
        "# 형 변환"
      ],
      "metadata": {
        "id": "35coN9jevJW4"
      }
    },
    {
      "cell_type": "code",
      "execution_count": null,
      "metadata": {
        "colab": {
          "base_uri": "https://localhost:8080/"
        },
        "id": "V4-X0abuuaC7",
        "outputId": "31b7b984-2213-492b-971a-8c7da2f5d8d7"
      },
      "outputs": [
        {
          "output_type": "stream",
          "name": "stdout",
          "text": [
            "월급을 입력하세요:3000000\n",
            "300000030000003000000300000030000003000000300000030000003000000300000030000003000000\n"
          ]
        }
      ],
      "source": [
        "# 1. 기본 예제\n",
        "\n",
        "월급= input(\"월급을 입력하세요:\")\n",
        "연봉 = 월급 * 12\n",
        "print(연봉)\n",
        "\n",
        "# 하면 정수형이 아니기 때문에 원하는 결과 값을 얻을 수 없음"
      ]
    },
    {
      "cell_type": "code",
      "source": [
        "# 제대로 수행하기 위해서는?\n",
        "\n",
        "월급 = input(\"월급을 입력하세요:\")\n",
        "연봉 = int(월급) * 12 # 정수로 바꿔줌\n",
        "print(연봉)"
      ],
      "metadata": {
        "colab": {
          "base_uri": "https://localhost:8080/"
        },
        "id": "xu6S4mOVvEgH",
        "outputId": "e9c48c71-cff3-4253-e142-a7ed4675a8b1"
      },
      "execution_count": null,
      "outputs": [
        {
          "output_type": "stream",
          "name": "stdout",
          "text": [
            "월급을 입력하세요:3000000\n",
            "36000000\n"
          ]
        }
      ]
    },
    {
      "cell_type": "code",
      "source": [
        "# str -> int 변환\n",
        "\n",
        "num = '123'\n",
        "print(type(num))\n",
        "\n",
        "num = int(num)\n",
        "print(type(num))"
      ],
      "metadata": {
        "colab": {
          "base_uri": "https://localhost:8080/"
        },
        "id": "PXmyNGsBWoGT",
        "outputId": "6ebf5bea-63c5-432e-83a2-c8081cb45c9a"
      },
      "execution_count": null,
      "outputs": [
        {
          "output_type": "stream",
          "name": "stdout",
          "text": [
            "<class 'str'>\n",
            "<class 'int'>\n"
          ]
        }
      ]
    },
    {
      "cell_type": "code",
      "source": [
        "# float -> int 변환\n",
        "\n",
        "f = 3.141592\n",
        "number = int(f)\n",
        "print(number)"
      ],
      "metadata": {
        "colab": {
          "base_uri": "https://localhost:8080/"
        },
        "id": "K5QTYw4avhi9",
        "outputId": "5d07aef9-1752-43fd-f7aa-a75cc6742ce9"
      },
      "execution_count": null,
      "outputs": [
        {
          "output_type": "stream",
          "name": "stdout",
          "text": [
            "3\n"
          ]
        }
      ]
    },
    {
      "cell_type": "code",
      "source": [
        "# bool -> int 변환\n",
        "\n",
        "true_int = int(True)\n",
        "false_int = int(False)\n",
        "\n",
        "print(true_int)\n",
        "print(false_int)\n",
        "\n",
        "# None은 int형으로 변환 불가"
      ],
      "metadata": {
        "colab": {
          "base_uri": "https://localhost:8080/"
        },
        "id": "jCp3fx7JwQRM",
        "outputId": "dcc99255-d130-40ea-8c70-905c0246ce3d"
      },
      "execution_count": null,
      "outputs": [
        {
          "output_type": "stream",
          "name": "stdout",
          "text": [
            "1\n",
            "0\n"
          ]
        }
      ]
    },
    {
      "cell_type": "code",
      "source": [
        "# int와 float -> str 형 변환\n",
        "\n",
        "n = 123\n",
        "print(type(n))\n",
        "\n",
        "m = 123.4\n",
        "print(type(n))\n",
        "\n",
        "n = str(n)\n",
        "print(type(n))\n",
        "\n",
        "m = str(m)\n",
        "print(type(m))\n",
        "\n",
        "# float형은 str 변환했다가 int로 변환하면 error 발생"
      ],
      "metadata": {
        "colab": {
          "base_uri": "https://localhost:8080/"
        },
        "id": "UC9KbYwqwknA",
        "outputId": "123eea69-f76f-4735-c679-b3c69bd746e2"
      },
      "execution_count": null,
      "outputs": [
        {
          "output_type": "stream",
          "name": "stdout",
          "text": [
            "<class 'int'>\n",
            "<class 'int'>\n",
            "<class 'str'>\n",
            "<class 'str'>\n"
          ]
        }
      ]
    },
    {
      "cell_type": "code",
      "source": [
        "# bool 형 변환\n",
        "\n",
        "'''\n",
        "조건의 명확성\n",
        "데이터 유효성 검사\n",
        "값의 존재 여부 판단 에 사용됨\n",
        "'''\n",
        "\n",
        "print(\"bool('test'):\", bool('test'))\n",
        "print(\"bool(' '):\", bool(' '))\n",
        "print(\"bool(''):\", bool(''))\n",
        "print(\"bool(100):\", bool(100))\n",
        "print(\"bool(1):\", bool(1))\n",
        "print(\"bool(0):\", bool(0))\n",
        "print(\"bool(-1):\", bool(-1))\n",
        "print(\"bool(None):\", bool(None))\n",
        "print(\"bool([]):\", bool([]))\n",
        "print(\"bool(tuple()):\", bool(tuple()))\n",
        "print(\"bool({}):\", bool({}))\n",
        "print(\"bool(set()):\", bool(set()))"
      ],
      "metadata": {
        "colab": {
          "base_uri": "https://localhost:8080/"
        },
        "id": "5uuNcVJUxfJd",
        "outputId": "104b66ef-7651-4132-d718-ff23b75840d2"
      },
      "execution_count": null,
      "outputs": [
        {
          "output_type": "stream",
          "name": "stdout",
          "text": [
            "bool('test'): True\n",
            "bool(' '): True\n",
            "bool(''): False\n",
            "bool(100): True\n",
            "bool(1): True\n",
            "bool(0): False\n",
            "bool(-1): True\n",
            "bool(None): False\n",
            "bool([]): False\n",
            "bool(tuple()): False\n",
            "bool({}): False\n",
            "bool(set()): False\n"
          ]
        }
      ]
    },
    {
      "cell_type": "code",
      "source": [
        "# float 형 변환\n",
        "\n",
        "s = 10\n",
        "print(float(s))\n",
        "\n",
        "s = '10'\n",
        "print(float(s))\n",
        "\n",
        "s = '3.14'\n",
        "print(float(s))"
      ],
      "metadata": {
        "colab": {
          "base_uri": "https://localhost:8080/"
        },
        "id": "M1D7v0wqzbS0",
        "outputId": "1fd1e821-8553-483c-b827-42ec7d543e82"
      },
      "execution_count": null,
      "outputs": [
        {
          "output_type": "stream",
          "name": "stdout",
          "text": [
            "10.0\n",
            "10.0\n",
            "3.14\n"
          ]
        }
      ]
    },
    {
      "cell_type": "code",
      "source": [
        "# 특수 float 형 변환\n",
        "\n",
        "infinity = float('inf')\n",
        "neg_infinity = float('-inf')\n",
        "not_a_number = float('nan') # nan은 자주 볼 예정!\n",
        "\n",
        "# 정수와 실수의 나눗셈 같은 경우 항상 float를 반환함"
      ],
      "metadata": {
        "id": "o8G1Sr1QzmoR"
      },
      "execution_count": null,
      "outputs": []
    },
    {
      "cell_type": "code",
      "source": [
        "# str -> list 변환\n",
        "\n",
        "s = '10'\n",
        "print(list(s))\n",
        "\n",
        "name = 'licat'\n",
        "print(list(name))"
      ],
      "metadata": {
        "colab": {
          "base_uri": "https://localhost:8080/"
        },
        "id": "Th8-8cZtXLzc",
        "outputId": "a197dcd3-b270-4b0d-9831-7b0185eb4551"
      },
      "execution_count": null,
      "outputs": [
        {
          "output_type": "stream",
          "name": "stdout",
          "text": [
            "['1', '0']\n",
            "['l', 'i', 'c', 'a', 't']\n"
          ]
        }
      ]
    },
    {
      "cell_type": "code",
      "source": [
        "# int -> list 변환\n",
        "\n",
        "n = 10\n",
        "print(list(n))\n",
        "\n",
        "# 정수형은 list로 변환이 가능하지 않기 때문에 오류뜸"
      ],
      "metadata": {
        "colab": {
          "base_uri": "https://localhost:8080/",
          "height": 221
        },
        "id": "F2Jc7Fo6XVDh",
        "outputId": "85dc8f54-9305-43a5-9a7d-7e3e271dc663"
      },
      "execution_count": null,
      "outputs": [
        {
          "output_type": "error",
          "ename": "TypeError",
          "evalue": "ignored",
          "traceback": [
            "\u001b[0;31m---------------------------------------------------------------------------\u001b[0m",
            "\u001b[0;31mTypeError\u001b[0m                                 Traceback (most recent call last)",
            "\u001b[0;32m<ipython-input-3-4638aff9eb02>\u001b[0m in \u001b[0;36m<cell line: 4>\u001b[0;34m()\u001b[0m\n\u001b[1;32m      2\u001b[0m \u001b[0;34m\u001b[0m\u001b[0m\n\u001b[1;32m      3\u001b[0m \u001b[0mn\u001b[0m \u001b[0;34m=\u001b[0m \u001b[0;36m10\u001b[0m\u001b[0;34m\u001b[0m\u001b[0;34m\u001b[0m\u001b[0m\n\u001b[0;32m----> 4\u001b[0;31m \u001b[0mprint\u001b[0m\u001b[0;34m(\u001b[0m\u001b[0mlist\u001b[0m\u001b[0;34m(\u001b[0m\u001b[0mn\u001b[0m\u001b[0;34m)\u001b[0m\u001b[0;34m)\u001b[0m\u001b[0;34m\u001b[0m\u001b[0;34m\u001b[0m\u001b[0m\n\u001b[0m",
            "\u001b[0;31mTypeError\u001b[0m: 'int' object is not iterable"
          ]
        }
      ]
    },
    {
      "cell_type": "code",
      "source": [
        "# tuple 형 변환\n",
        "\n",
        "name = 'licat'\n",
        "tuple(name)"
      ],
      "metadata": {
        "colab": {
          "base_uri": "https://localhost:8080/"
        },
        "id": "YuFfHQ8vXhRD",
        "outputId": "d6109067-6b73-4b87-c75c-442a3f444660"
      },
      "execution_count": null,
      "outputs": [
        {
          "output_type": "execute_result",
          "data": {
            "text/plain": [
              "('l', 'i', 'c', 'a', 't')"
            ]
          },
          "metadata": {},
          "execution_count": 4
        }
      ]
    },
    {
      "cell_type": "code",
      "source": [
        "# dict 형 변환\n",
        "\n",
        "data = [('name','licat'),('age',10)]\n",
        "d = dict(data)\n",
        "d\n",
        "\n",
        "# dict 자료형은 key와 value로 쌍을 이루어야 함"
      ],
      "metadata": {
        "colab": {
          "base_uri": "https://localhost:8080/"
        },
        "id": "_LSHx4UoXqsD",
        "outputId": "84c5dcce-88f3-49b0-cce2-b3d9595bb379"
      },
      "execution_count": null,
      "outputs": [
        {
          "output_type": "execute_result",
          "data": {
            "text/plain": [
              "{'name': 'licat', 'age': 10}"
            ]
          },
          "metadata": {},
          "execution_count": 5
        }
      ]
    },
    {
      "cell_type": "code",
      "source": [
        "# set 형 변환\n",
        "\n",
        "s = 'weniv CEO licat'\n",
        "print(set(s)) # 중복을 허락하지 않고 순서가 없음\n",
        "print(len(set(s))) # 중복을 제거한 상태로의 길이 알려줌\n",
        "print(len(s))"
      ],
      "metadata": {
        "colab": {
          "base_uri": "https://localhost:8080/"
        },
        "id": "K2VXTGnCX3GL",
        "outputId": "182c717c-8068-4720-b062-4fe6b54b79cc"
      },
      "execution_count": null,
      "outputs": [
        {
          "output_type": "stream",
          "name": "stdout",
          "text": [
            "{'C', ' ', 'c', 'i', 'l', 'E', 'a', 'n', 't', 'e', 'O', 'w', 'v'}\n",
            "13\n",
            "15\n"
          ]
        }
      ]
    },
    {
      "cell_type": "code",
      "source": [
        "# map\n",
        "\n",
        "list(map(int, ['10', '20', '30']))"
      ],
      "metadata": {
        "colab": {
          "base_uri": "https://localhost:8080/"
        },
        "id": "RCHFM6Kmz6L0",
        "outputId": "8ec7d5da-3685-46e7-e190-f2cd7527166b"
      },
      "execution_count": null,
      "outputs": [
        {
          "output_type": "execute_result",
          "data": {
            "text/plain": [
              "[10, 20, 30]"
            ]
          },
          "metadata": {},
          "execution_count": 11
        }
      ]
    },
    {
      "cell_type": "code",
      "source": [
        "# map\n",
        "\n",
        "list(map(int, '12345'))"
      ],
      "metadata": {
        "id": "d4rc7hY31TOT",
        "outputId": "ba94d403-a464-4d50-cff3-cbf21cce6d22",
        "colab": {
          "base_uri": "https://localhost:8080/"
        }
      },
      "execution_count": null,
      "outputs": [
        {
          "output_type": "execute_result",
          "data": {
            "text/plain": [
              "[1, 2, 3, 4, 5]"
            ]
          },
          "metadata": {},
          "execution_count": 12
        }
      ]
    },
    {
      "cell_type": "code",
      "source": [],
      "metadata": {
        "id": "Ld798ehR1X7c"
      },
      "execution_count": null,
      "outputs": []
    }
  ]
}
{
  "nbformat": 4,
  "nbformat_minor": 0,
  "metadata": {
    "colab": {
      "provenance": []
    },
    "kernelspec": {
      "name": "python3",
      "display_name": "Python 3"
    },
    "language_info": {
      "name": "python"
    }
  },
  "cells": [
    {
      "cell_type": "code",
      "execution_count": null,
      "metadata": {
        "colab": {
          "base_uri": "https://localhost:8080/"
        },
        "id": "32dVMRV_uUSY",
        "outputId": "d93b5f9b-3e3b-494e-8ead-555ae41e6256"
      },
      "outputs": [
        {
          "output_type": "stream",
          "name": "stdout",
          "text": [
            "<class 'int'> <class 'int'> <class 'int'>\n"
          ]
        }
      ],
      "source": [
        "# 1. 정수 타입의 변수 생성\n",
        "\n",
        "x = 10\n",
        "y = -5\n",
        "z = 0\n",
        "\n",
        "print(type(x), type(y), type(z))"
      ]
    },
    {
      "cell_type": "code",
      "source": [
        "# 정수의 사칙연산\n",
        "\n",
        "# 덧셈\n",
        "\n",
        "x = 10\n",
        "y = 20\n",
        "result = x + y\n",
        "print(result)"
      ],
      "metadata": {
        "colab": {
          "base_uri": "https://localhost:8080/"
        },
        "id": "0tOVbvA_w0jx",
        "outputId": "e5f45400-dcbd-414c-9a23-b8f1d200cbea"
      },
      "execution_count": null,
      "outputs": [
        {
          "output_type": "stream",
          "name": "stdout",
          "text": [
            "30\n"
          ]
        }
      ]
    },
    {
      "cell_type": "code",
      "source": [
        "# 정수의 사칙연산\n",
        "\n",
        "# 뺄셈\n",
        "\n",
        "x = 10\n",
        "y = 20\n",
        "result = x - y\n",
        "print(result)"
      ],
      "metadata": {
        "colab": {
          "base_uri": "https://localhost:8080/"
        },
        "id": "qysDXN4RxJGl",
        "outputId": "f44788a3-3ca5-4ad2-9b76-1bd2917ea77f"
      },
      "execution_count": null,
      "outputs": [
        {
          "output_type": "stream",
          "name": "stdout",
          "text": [
            "-10\n"
          ]
        }
      ]
    },
    {
      "cell_type": "code",
      "source": [
        "# 정수의 사칙연산\n",
        "\n",
        "# 곱셈\n",
        "\n",
        "x = 10\n",
        "y = 20\n",
        "result = x * y\n",
        "print(result)"
      ],
      "metadata": {
        "colab": {
          "base_uri": "https://localhost:8080/"
        },
        "id": "-a63L73axdEX",
        "outputId": "625cef0e-da6d-49c3-8be9-b91d3c8a3a07"
      },
      "execution_count": null,
      "outputs": [
        {
          "output_type": "stream",
          "name": "stdout",
          "text": [
            "200\n"
          ]
        }
      ]
    },
    {
      "cell_type": "code",
      "source": [
        "# 정수의 사칙연산\n",
        "\n",
        "# 나눗셈\n",
        "\n",
        "x = 10\n",
        "y = 20\n",
        "result = x / y\n",
        "print(result)"
      ],
      "metadata": {
        "colab": {
          "base_uri": "https://localhost:8080/"
        },
        "id": "EO3t1LW7xoOk",
        "outputId": "3aed210b-89cd-40f4-9871-d1d59ff81ee9"
      },
      "execution_count": null,
      "outputs": [
        {
          "output_type": "stream",
          "name": "stdout",
          "text": [
            "0.5\n"
          ]
        }
      ]
    },
    {
      "cell_type": "code",
      "source": [
        "# id(x), id(y)에 대해서\n",
        "\n",
        "x = 256\n",
        "y = 256\n",
        "\n",
        "print(x,y)\n",
        "print(x == y)\n",
        "\n",
        "# x와 y의 아이디가 같은 값이 나와서 둘은 같다는 것을 알 수 있음 (-5 ~ 256까지만)\n",
        "print(id(x), id(y))"
      ],
      "metadata": {
        "colab": {
          "base_uri": "https://localhost:8080/"
        },
        "id": "ajCF_wlMx2Mk",
        "outputId": "f4b7f2b8-4bac-49d1-cabd-89214c99d866"
      },
      "execution_count": null,
      "outputs": [
        {
          "output_type": "stream",
          "name": "stdout",
          "text": [
            "256 256\n",
            "True\n",
            "140575411019984 140575411019984\n"
          ]
        }
      ]
    },
    {
      "cell_type": "code",
      "source": [],
      "metadata": {
        "id": "u_IHZYZb0Air"
      },
      "execution_count": null,
      "outputs": []
    }
  ]
}
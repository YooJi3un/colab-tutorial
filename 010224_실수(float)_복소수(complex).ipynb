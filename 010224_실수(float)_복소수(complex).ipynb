{
  "nbformat": 4,
  "nbformat_minor": 0,
  "metadata": {
    "colab": {
      "provenance": []
    },
    "kernelspec": {
      "name": "python3",
      "display_name": "Python 3"
    },
    "language_info": {
      "name": "python"
    }
  },
  "cells": [
    {
      "cell_type": "code",
      "source": [
        "# 실수 타입의 변수 생성\n",
        "\n",
        "x = 10.0\n",
        "y = 10\n",
        "print(type(x), type(y)) # 출력 : <class 'float'> <class 'int'>"
      ],
      "metadata": {
        "colab": {
          "base_uri": "https://localhost:8080/"
        },
        "id": "6kE12r1DeG-k",
        "outputId": "615a29cf-c9e9-4b7a-9061-a57ce1e9df71"
      },
      "execution_count": 1,
      "outputs": [
        {
          "output_type": "stream",
          "name": "stdout",
          "text": [
            "<class 'float'> <class 'int'>\n"
          ]
        }
      ]
    },
    {
      "cell_type": "code",
      "source": [
        "# 실수의 사칙연산\n",
        "\n",
        "# 덧셈\n",
        "\n",
        "x = 9.9\n",
        "y = 20.1\n",
        "\n",
        "result = x + y\n",
        "print(result)\n",
        "print(type(result))"
      ],
      "metadata": {
        "colab": {
          "base_uri": "https://localhost:8080/"
        },
        "id": "J276JGbHeXeL",
        "outputId": "5ac82031-ed3a-41f0-d9b1-136bd2a72845"
      },
      "execution_count": 2,
      "outputs": [
        {
          "output_type": "stream",
          "name": "stdout",
          "text": [
            "30.0\n",
            "<class 'float'>\n"
          ]
        }
      ]
    },
    {
      "cell_type": "code",
      "source": [
        "# 실수의 사칙연산\n",
        "\n",
        "# 뺄셈\n",
        "\n",
        "x = 15.5\n",
        "y = 5.5\n",
        "result = x - y\n",
        "print(result)\n",
        "print(type(result))"
      ],
      "metadata": {
        "colab": {
          "base_uri": "https://localhost:8080/"
        },
        "id": "8IhK4i68etKg",
        "outputId": "05329984-a9a4-4068-89ae-81020ebbebeb"
      },
      "execution_count": 3,
      "outputs": [
        {
          "output_type": "stream",
          "name": "stdout",
          "text": [
            "10.0\n",
            "<class 'float'>\n"
          ]
        }
      ]
    },
    {
      "cell_type": "code",
      "source": [
        "# 실수의 사칙연산\n",
        "\n",
        "# 곱셈\n",
        "\n",
        "x = 10.0\n",
        "y = 2\n",
        "result = x * y\n",
        "print(result)\n",
        "print(type(result))"
      ],
      "metadata": {
        "colab": {
          "base_uri": "https://localhost:8080/"
        },
        "id": "pUDUlMcue8nA",
        "outputId": "018649cb-5fed-47e8-e893-e97ba6383f16"
      },
      "execution_count": 4,
      "outputs": [
        {
          "output_type": "stream",
          "name": "stdout",
          "text": [
            "20.0\n",
            "<class 'float'>\n"
          ]
        }
      ]
    },
    {
      "cell_type": "code",
      "source": [
        "# 실수의 사칙연산\n",
        "\n",
        "# 나눗셈\n",
        "\n",
        "x = 10\n",
        "y = 5\n",
        "result = x/y\n",
        "print(result)\n",
        "print(type(result))"
      ],
      "metadata": {
        "colab": {
          "base_uri": "https://localhost:8080/"
        },
        "id": "GSP2LaQRfNxN",
        "outputId": "147f5745-16aa-49c9-921e-72dcb5ce2341"
      },
      "execution_count": 5,
      "outputs": [
        {
          "output_type": "stream",
          "name": "stdout",
          "text": [
            "2.0\n",
            "<class 'float'>\n"
          ]
        }
      ]
    },
    {
      "cell_type": "code",
      "execution_count": 6,
      "metadata": {
        "colab": {
          "base_uri": "https://localhost:8080/"
        },
        "id": "EB3VqNp12jyl",
        "outputId": "969e4961-d1e3-4d9d-ecd1-4a40a56ac2a2"
      },
      "outputs": [
        {
          "output_type": "stream",
          "name": "stdout",
          "text": [
            "inf\n",
            "-inf\n"
          ]
        },
        {
          "output_type": "execute_result",
          "data": {
            "text/plain": [
              "float"
            ]
          },
          "metadata": {},
          "execution_count": 6
        }
      ],
      "source": [
        "# 양의 무한대(inf)\n",
        "\n",
        "x_inf = float(\"inf\")\n",
        "\n",
        "print(x_inf)\n",
        "type(x_inf)\n",
        "\n",
        "# 음의 무한대\n",
        "\n",
        "y_inf = float(\"-inf\")\n",
        "\n",
        "print(y_inf)\n",
        "type(y_inf)"
      ]
    },
    {
      "cell_type": "code",
      "source": [
        "# 부동소수점의 문제\n",
        "# 컴퓨터의 연산이 항상 정확하지 않음\n",
        "\n",
        "x_test = 10.1\n",
        "y_test = 10.2\n",
        "print(x_test + y_test)"
      ],
      "metadata": {
        "colab": {
          "base_uri": "https://localhost:8080/"
        },
        "id": "soQZriBu3cYS",
        "outputId": "85c10216-11c4-4da0-99f9-077f28451ab3"
      },
      "execution_count": null,
      "outputs": [
        {
          "output_type": "stream",
          "name": "stdout",
          "text": [
            "20.299999999999997\n"
          ]
        }
      ]
    },
    {
      "cell_type": "code",
      "source": [
        "# 10의 승수 e 나 E 로 표현 (모두 float형으로 표현)\n",
        "\n",
        "print(2e3) # 지수표현, float형\n",
        "print(2E3)\n",
        "\n",
        "2 * (10 ** 3) # int 형"
      ],
      "metadata": {
        "colab": {
          "base_uri": "https://localhost:8080/"
        },
        "id": "EOq5S1OQiX99",
        "outputId": "c8cd825e-e591-4c0e-b0ea-0275946bc986"
      },
      "execution_count": 7,
      "outputs": [
        {
          "output_type": "stream",
          "name": "stdout",
          "text": [
            "2000.0\n",
            "2000.0\n"
          ]
        },
        {
          "output_type": "execute_result",
          "data": {
            "text/plain": [
              "2000"
            ]
          },
          "metadata": {},
          "execution_count": 7
        }
      ]
    },
    {
      "cell_type": "code",
      "source": [
        "# 복소수 출력\n",
        "\n",
        "# 앞의 3은 실수 부분, 뒤에 4j는 허수 부분\n",
        "\n",
        "x = 3 + 4j # 방법1 : 직접 복소수를 입력하여 생성\n",
        "y = complex(3, 4) #complex 함수를 사용하여 생성\n",
        "\n",
        "print(x)\n",
        "print(y)"
      ],
      "metadata": {
        "id": "yQpDZ5Om36Ri",
        "colab": {
          "base_uri": "https://localhost:8080/"
        },
        "outputId": "d77bd528-c408-4644-9f1d-837c49af9098"
      },
      "execution_count": 9,
      "outputs": [
        {
          "output_type": "stream",
          "name": "stdout",
          "text": [
            "(3+4j)\n",
            "(3+4j)\n"
          ]
        }
      ]
    },
    {
      "cell_type": "code",
      "source": [
        "# 복소수의 사칙연산\n",
        "\n",
        "x = 3 + 4j\n",
        "y = 1 - 2j\n",
        "\n",
        "print(x + y)\n",
        "print(x - y)\n",
        "print(x * y)\n",
        "print(x / y)"
      ],
      "metadata": {
        "colab": {
          "base_uri": "https://localhost:8080/"
        },
        "id": "UIjEGNp0j_PM",
        "outputId": "9387b4ad-b5ba-40bb-ae3c-e3e71deb878c"
      },
      "execution_count": 10,
      "outputs": [
        {
          "output_type": "stream",
          "name": "stdout",
          "text": [
            "(4+2j)\n",
            "(2+6j)\n",
            "(11-2j)\n",
            "(-1+2j)\n"
          ]
        }
      ]
    },
    {
      "cell_type": "code",
      "source": [
        "# 메서드\n",
        "\n",
        "a = 3 + 4j\n",
        "\n",
        "print(a.real) # real은 복소수의 실수 부분을 반환\n",
        "print(a.imag) # imag는 복소수의 허수 부분을 반환"
      ],
      "metadata": {
        "colab": {
          "base_uri": "https://localhost:8080/"
        },
        "id": "eoTb00PqkWDr",
        "outputId": "1aa77060-38c6-4524-e7d4-b73076850643"
      },
      "execution_count": 11,
      "outputs": [
        {
          "output_type": "stream",
          "name": "stdout",
          "text": [
            "3.0\n",
            "4.0\n"
          ]
        }
      ]
    },
    {
      "cell_type": "code",
      "source": [],
      "metadata": {
        "id": "hij18BEck-um"
      },
      "execution_count": null,
      "outputs": []
    }
  ]
}
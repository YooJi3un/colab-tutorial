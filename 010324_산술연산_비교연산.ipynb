{
  "nbformat": 4,
  "nbformat_minor": 0,
  "metadata": {
    "colab": {
      "provenance": []
    },
    "kernelspec": {
      "name": "python3",
      "display_name": "Python 3"
    },
    "language_info": {
      "name": "python"
    }
  },
  "cells": [
    {
      "cell_type": "code",
      "source": [
        "# 산술연산자\n",
        "# 덧셈\n",
        "\n",
        "# 정수와 정수\n",
        "result = 5 + 3\n",
        "print(result)\n",
        "\n",
        "# 정수와 실수\n",
        "result2 = 3 + 2.5\n",
        "print(result2)\n",
        "\n",
        "# 문자열 덧셈(연결) : 두 문자열을 연결하는 역할을 함\n",
        "s1 = \"Hello\"\n",
        "s2 = \"world\"\n",
        "result3 = s1 + \" \" + s2\n",
        "print(result3)\n",
        "\n",
        "# 리스트의 덧셈(연결)\n",
        "list1 = [1, 2, 3]\n",
        "list2 = [4, 5, 6]\n",
        "combined_list = list1 + list2\n",
        "print(combined_list)\n",
        "\n",
        "# 튜플의 덧셈(연결)\n",
        "tuple1 = (1, 2, 3)\n",
        "tuple2 = (4, 5, 6)\n",
        "combined_tuple = tuple1 + tuple2\n",
        "print(combined_tuple)"
      ],
      "metadata": {
        "colab": {
          "base_uri": "https://localhost:8080/"
        },
        "id": "UYykeNzPbAG7",
        "outputId": "0cc4837b-e0f1-4df7-8131-a2c3df780037"
      },
      "execution_count": null,
      "outputs": [
        {
          "output_type": "stream",
          "name": "stdout",
          "text": [
            "8\n",
            "5.5\n",
            "Hello world\n",
            "[1, 2, 3, 4, 5, 6]\n",
            "(1, 2, 3, 4, 5, 6)\n"
          ]
        }
      ]
    },
    {
      "cell_type": "code",
      "source": [
        "# 서로 다른 자료형 간의 덧셈은 지원하지 않음\n",
        "result = \"Hello\" + 5\n",
        "\n",
        "# dict과 set은 덧셈을 지원하지 않음\n",
        "\n",
        "{'one':1} + {'two':2}\n",
        "{5} + {6}"
      ],
      "metadata": {
        "colab": {
          "base_uri": "https://localhost:8080/",
          "height": 258
        },
        "id": "qtllUfzHcW6I",
        "outputId": "c74ee184-a1fb-46b9-b817-5c90cb81399d"
      },
      "execution_count": null,
      "outputs": [
        {
          "output_type": "error",
          "ename": "TypeError",
          "evalue": "ignored",
          "traceback": [
            "\u001b[0;31m---------------------------------------------------------------------------\u001b[0m",
            "\u001b[0;31mTypeError\u001b[0m                                 Traceback (most recent call last)",
            "\u001b[0;32m<ipython-input-19-1df509a8dc57>\u001b[0m in \u001b[0;36m<cell line: 2>\u001b[0;34m()\u001b[0m\n\u001b[1;32m      1\u001b[0m \u001b[0;31m# 서로 다른 자료형 간의 덧셈은 지원하지 않음\u001b[0m\u001b[0;34m\u001b[0m\u001b[0;34m\u001b[0m\u001b[0m\n\u001b[0;32m----> 2\u001b[0;31m \u001b[0mresult\u001b[0m \u001b[0;34m=\u001b[0m \u001b[0;34m\"Hello\"\u001b[0m \u001b[0;34m+\u001b[0m \u001b[0;36m5\u001b[0m\u001b[0;34m\u001b[0m\u001b[0;34m\u001b[0m\u001b[0m\n\u001b[0m\u001b[1;32m      3\u001b[0m \u001b[0;34m\u001b[0m\u001b[0m\n\u001b[1;32m      4\u001b[0m \u001b[0;31m# dict과 set은 덧셈을 지원하지 않음\u001b[0m\u001b[0;34m\u001b[0m\u001b[0;34m\u001b[0m\u001b[0m\n\u001b[1;32m      5\u001b[0m \u001b[0;34m\u001b[0m\u001b[0m\n",
            "\u001b[0;31mTypeError\u001b[0m: can only concatenate str (not \"int\") to str"
          ]
        }
      ]
    },
    {
      "cell_type": "code",
      "source": [
        "# 산술연산자\n",
        "# 뺄셈\n",
        "\n",
        "# 정수와 정수\n",
        "result = 7 - 4\n",
        "print(result)\n",
        "\n",
        "# 정수와 실수\n",
        "result2 = 10 + 3.5\n",
        "print(result2)\n",
        "\n",
        "# 음수\n",
        "result3 = 5 - (-3)\n",
        "print(result3)"
      ],
      "metadata": {
        "colab": {
          "base_uri": "https://localhost:8080/"
        },
        "id": "Jpc_K1wTdCZ0",
        "outputId": "f5bffaa9-e3e4-4686-be31-a5d8396f76ed"
      },
      "execution_count": null,
      "outputs": [
        {
          "output_type": "stream",
          "name": "stdout",
          "text": [
            "3\n",
            "13.5\n",
            "8\n"
          ]
        }
      ]
    },
    {
      "cell_type": "code",
      "source": [
        "# 서로 다른 자료형 간의 뺄셈은 지원하지 않음\n",
        "result = \"Hello\" - 5"
      ],
      "metadata": {
        "colab": {
          "base_uri": "https://localhost:8080/",
          "height": 203
        },
        "id": "UKUHB16AdbwY",
        "outputId": "bd380e30-d7bc-4ff9-e52a-493710b133a8"
      },
      "execution_count": null,
      "outputs": [
        {
          "output_type": "error",
          "ename": "TypeError",
          "evalue": "ignored",
          "traceback": [
            "\u001b[0;31m---------------------------------------------------------------------------\u001b[0m",
            "\u001b[0;31mTypeError\u001b[0m                                 Traceback (most recent call last)",
            "\u001b[0;32m<ipython-input-20-4304e9e9ae39>\u001b[0m in \u001b[0;36m<cell line: 2>\u001b[0;34m()\u001b[0m\n\u001b[1;32m      1\u001b[0m \u001b[0;31m# 서로 다른 자료형 간의 뺄셈은 지원하지 않음\u001b[0m\u001b[0;34m\u001b[0m\u001b[0;34m\u001b[0m\u001b[0m\n\u001b[0;32m----> 2\u001b[0;31m \u001b[0mresult\u001b[0m \u001b[0;34m=\u001b[0m \u001b[0;34m\"Hello\"\u001b[0m \u001b[0;34m-\u001b[0m \u001b[0;36m5\u001b[0m\u001b[0;34m\u001b[0m\u001b[0;34m\u001b[0m\u001b[0m\n\u001b[0m",
            "\u001b[0;31mTypeError\u001b[0m: unsupported operand type(s) for -: 'str' and 'int'"
          ]
        }
      ]
    },
    {
      "cell_type": "code",
      "source": [
        "# set의 뺄셈은 차집합으로 지원함\n",
        "\n",
        "{3, 4, 5} - {4}"
      ],
      "metadata": {
        "colab": {
          "base_uri": "https://localhost:8080/"
        },
        "id": "fDqLNKw-ctRA",
        "outputId": "2bfdab17-862b-41f4-a6b6-75abef3a7b2f"
      },
      "execution_count": null,
      "outputs": [
        {
          "output_type": "execute_result",
          "data": {
            "text/plain": [
              "{3, 5}"
            ]
          },
          "metadata": {},
          "execution_count": 6
        }
      ]
    },
    {
      "cell_type": "code",
      "source": [
        "# 산술연산자\n",
        "# 곱셈\n",
        "\n",
        "# 정수와 정수\n",
        "result = 3 * 4\n",
        "print(result)\n",
        "\n",
        "# 정수와 실수\n",
        "result2 = 5 * 2.5\n",
        "print(result2)"
      ],
      "metadata": {
        "colab": {
          "base_uri": "https://localhost:8080/"
        },
        "id": "awB4IwkwdkZs",
        "outputId": "26d7e40f-8053-4dca-ada7-f0a580523fed"
      },
      "execution_count": null,
      "outputs": [
        {
          "output_type": "stream",
          "name": "stdout",
          "text": [
            "12\n",
            "12.5\n"
          ]
        }
      ]
    },
    {
      "cell_type": "code",
      "source": [
        "# 문자열 곱셈\n",
        "result = \"Ha\" * 3\n",
        "print(result)\n",
        "\n",
        "# 리스트 곱셈\n",
        "result = [1, 2, 3] * 2\n",
        "print(result)"
      ],
      "metadata": {
        "colab": {
          "base_uri": "https://localhost:8080/"
        },
        "id": "oa3q-GIjdzr5",
        "outputId": "6c67bc0a-fc6d-459f-fff6-7e73c2ca5bfc"
      },
      "execution_count": null,
      "outputs": [
        {
          "output_type": "stream",
          "name": "stdout",
          "text": [
            "HaHaHa\n",
            "[1, 2, 3, 1, 2, 3]\n"
          ]
        }
      ]
    },
    {
      "cell_type": "code",
      "source": [
        "# 산술연산자\n",
        "# 나눗셈\n",
        "\n",
        "a = 10\n",
        "b = 2\n",
        "print(a / b) # 기본 float형으로 반환\n",
        "print(a // b) # int 형으로 반환"
      ],
      "metadata": {
        "colab": {
          "base_uri": "https://localhost:8080/"
        },
        "id": "tZJuhQIqeHmi",
        "outputId": "9754328e-5d5a-46a2-dbdd-bda624d55ba9"
      },
      "execution_count": null,
      "outputs": [
        {
          "output_type": "stream",
          "name": "stdout",
          "text": [
            "5.0\n",
            "5\n"
          ]
        }
      ]
    },
    {
      "cell_type": "code",
      "source": [
        "# 음의 나눗셈\n",
        "\n",
        "a = -5\n",
        "b = 2\n",
        "print(a / b)\n",
        "print(a // b) # //가 내림 연산이기 때문에 -3을 출력"
      ],
      "metadata": {
        "colab": {
          "base_uri": "https://localhost:8080/"
        },
        "id": "z11sx51OebgX",
        "outputId": "3be97060-2a6b-4b1f-f88e-ae379fcf56d6"
      },
      "execution_count": null,
      "outputs": [
        {
          "output_type": "stream",
          "name": "stdout",
          "text": [
            "-2.5\n",
            "-3\n"
          ]
        }
      ]
    },
    {
      "cell_type": "code",
      "source": [
        "# 0으로 나눌 경우?\n",
        "\n",
        "z = 0\n",
        "x / y # 수학적으로 0으로 나누는 것이 정의되지 않아 오류남"
      ],
      "metadata": {
        "colab": {
          "base_uri": "https://localhost:8080/",
          "height": 221
        },
        "id": "WqGVvKdmepQY",
        "outputId": "59a2377b-89e9-4ec1-c5ea-8bb41e3b8a3a"
      },
      "execution_count": null,
      "outputs": [
        {
          "output_type": "error",
          "ename": "NameError",
          "evalue": "ignored",
          "traceback": [
            "\u001b[0;31m---------------------------------------------------------------------------\u001b[0m",
            "\u001b[0;31mNameError\u001b[0m                                 Traceback (most recent call last)",
            "\u001b[0;32m<ipython-input-11-6e8a22a752e6>\u001b[0m in \u001b[0;36m<cell line: 4>\u001b[0;34m()\u001b[0m\n\u001b[1;32m      2\u001b[0m \u001b[0;34m\u001b[0m\u001b[0m\n\u001b[1;32m      3\u001b[0m \u001b[0mz\u001b[0m \u001b[0;34m=\u001b[0m \u001b[0;36m0\u001b[0m\u001b[0;34m\u001b[0m\u001b[0;34m\u001b[0m\u001b[0m\n\u001b[0;32m----> 4\u001b[0;31m \u001b[0mx\u001b[0m \u001b[0;34m/\u001b[0m \u001b[0my\u001b[0m\u001b[0;34m\u001b[0m\u001b[0;34m\u001b[0m\u001b[0m\n\u001b[0m",
            "\u001b[0;31mNameError\u001b[0m: name 'x' is not defined"
          ]
        }
      ]
    },
    {
      "cell_type": "code",
      "source": [
        "# 소숫점 2번째 자리까지 출력하는 방법\n",
        "\n",
        "a = 10\n",
        "b = 3\n",
        "divide = a / b\n",
        "print(f'{a} ÷ {b} = {divide:.2f}') # .2f가 소수점 2번째 자리까지 출력을 말함"
      ],
      "metadata": {
        "colab": {
          "base_uri": "https://localhost:8080/"
        },
        "id": "Vmcvx18me3By",
        "outputId": "f8a035e7-0381-4496-8874-63e35e5e3fb6"
      },
      "execution_count": null,
      "outputs": [
        {
          "output_type": "stream",
          "name": "stdout",
          "text": [
            "10 ÷ 3 = 3.33\n"
          ]
        }
      ]
    },
    {
      "cell_type": "code",
      "execution_count": null,
      "metadata": {
        "colab": {
          "base_uri": "https://localhost:8080/"
        },
        "id": "YoKYjh8J6-Ah",
        "outputId": "710f1f3d-5daa-4b74-cb5b-fd99e4b02582"
      },
      "outputs": [
        {
          "output_type": "stream",
          "name": "stdout",
          "text": [
            "1\n"
          ]
        }
      ],
      "source": [
        "# 나머지\n",
        "\n",
        "print(10 % 3) # 몫이 아닌 나머지 출력 (홀/짝 판별, 1의 자리 반환 가능)"
      ]
    },
    {
      "cell_type": "code",
      "source": [
        "# 제곱 연산자 (**)\n",
        "\n",
        "# 기본 사용법\n",
        "print(10 ** 3) # 10의 3승\n",
        "print(4 ** 0.5) # 4의 1/2승 -> 즉, 루트 씌운거랑 같은 값\n",
        "\n",
        "\n",
        "print(-2 ** 2) # python 계산에 따라 -4 출력\n",
        "print((-2) ** 2) # python 계산에 따라 4 출력"
      ],
      "metadata": {
        "id": "1j7-bBtg_mg5",
        "colab": {
          "base_uri": "https://localhost:8080/"
        },
        "outputId": "bec6211f-cc1e-4810-b11c-d0f42a36fa65"
      },
      "execution_count": null,
      "outputs": [
        {
          "output_type": "stream",
          "name": "stdout",
          "text": [
            "1000\n",
            "2.0\n",
            "-4\n",
            "4\n"
          ]
        }
      ]
    },
    {
      "cell_type": "code",
      "source": [
        "# 비교연산\n",
        "\n",
        "# == (같음)\n",
        "print(5 == 5) # = 꼭 2개 붙여줘야 함!\n",
        "\n",
        "# != (같지 않음)\n",
        "print(5 != 3) # 두 값이 다르면 True 반환\n",
        "\n",
        "# < (작음)\n",
        "print(3 < 5) # 왼쪽 값이 오른쪽 값보다 작으면 True 반환\n",
        "\n",
        "# <= (작거나 같음)\n",
        "print(5 <= 5) # 왼쪽 값이 오른쪽 값보다 작거나 같으면 True 반환\n",
        "\n",
        "# > (큼)\n",
        "print(6 > 5) # 왼쪽 값이 오른쪽 값보다 크면 True 반환\n",
        "\n",
        "# >= (크거나 같음)\n",
        "print(5 >= 5) # 왼쪽 값이 오른쪽 값보다 크거나 같으면 True 반환"
      ],
      "metadata": {
        "colab": {
          "base_uri": "https://localhost:8080/"
        },
        "id": "o7Iv4M6NgFnc",
        "outputId": "eb9be855-8bf8-4b1b-ba4d-1868a7a07de7"
      },
      "execution_count": null,
      "outputs": [
        {
          "output_type": "stream",
          "name": "stdout",
          "text": [
            "True\n",
            "True\n",
            "True\n",
            "True\n",
            "True\n",
            "True\n"
          ]
        }
      ]
    },
    {
      "cell_type": "code",
      "source": [
        "# 문자열, 리스트, 튜플도 비교 가능\n",
        "\n",
        "print('apple' < 'banana') # 유니코드 순서대로 비교\n",
        "\n",
        "print('하하' < '후후') # 유니코드 순서대로 비교\n",
        "\n",
        "x = 10\n",
        "print(5 < x < 15) # 연속적인 비교도 가능"
      ],
      "metadata": {
        "colab": {
          "base_uri": "https://localhost:8080/"
        },
        "id": "DIgFL5-njjbs",
        "outputId": "6d4abbe9-6c77-4978-827e-7bed8a61b5be"
      },
      "execution_count": null,
      "outputs": [
        {
          "output_type": "stream",
          "name": "stdout",
          "text": [
            "True\n",
            "True\n",
            "True\n"
          ]
        }
      ]
    },
    {
      "cell_type": "code",
      "source": [
        "# 리스트의 비교\n",
        "\n",
        "print([10, 20, 30] < [20, 30, 40]) # 맨 앞자리를 비교\n",
        "\n",
        "#[10, 20, 30] > (20, 30, 40) -> 이렇게 타입 다르면 비교 불가\n",
        "\n",
        "print('abcde' > 'abcda') # 맨 앞자리가 같은 다음 자리로 넘어가며 비교함\n",
        "\n",
        "print('abcd' < 'abcda') # 자릿수가 더 많은 값이 더 않은 값으로 취급"
      ],
      "metadata": {
        "colab": {
          "base_uri": "https://localhost:8080/"
        },
        "id": "wyTF6HeHkI5j",
        "outputId": "30e066a7-c3b5-4d87-e2e0-127557a7f030"
      },
      "execution_count": null,
      "outputs": [
        {
          "output_type": "stream",
          "name": "stdout",
          "text": [
            "True\n",
            "True\n",
            "True\n"
          ]
        }
      ]
    },
    {
      "cell_type": "code",
      "source": [
        "# 부동소숫점 비교\n",
        "\n",
        "import math\n",
        "\n",
        "result = 0.1 + 0.2\n",
        "print(result == 0.3)\n",
        "print(math.isclose(result, 0.3))\n",
        "print(math.isclose(result, 0.29))\n",
        "print(math.isclose(result, 0.31))\n",
        "print(math.isclose(result, 0.30000001))"
      ],
      "metadata": {
        "colab": {
          "base_uri": "https://localhost:8080/"
        },
        "id": "m4O_kqkgkscS",
        "outputId": "73f635d7-ae08-4238-9d70-28b3a2164dcb"
      },
      "execution_count": null,
      "outputs": [
        {
          "output_type": "stream",
          "name": "stdout",
          "text": [
            "False\n",
            "True\n",
            "False\n",
            "False\n",
            "False\n"
          ]
        }
      ]
    },
    {
      "cell_type": "code",
      "source": [],
      "metadata": {
        "id": "1YQ9P4fdk6kv"
      },
      "execution_count": null,
      "outputs": []
    }
  ]
}
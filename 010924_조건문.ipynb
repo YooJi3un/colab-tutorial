{
  "nbformat": 4,
  "nbformat_minor": 0,
  "metadata": {
    "colab": {
      "provenance": []
    },
    "kernelspec": {
      "name": "python3",
      "display_name": "Python 3"
    },
    "language_info": {
      "name": "python"
    }
  },
  "cells": [
    {
      "cell_type": "code",
      "execution_count": 2,
      "metadata": {
        "colab": {
          "base_uri": "https://localhost:8080/"
        },
        "id": "SFyI8m-ih5SV",
        "outputId": "96a75ae4-cf96-40e3-89c3-37b41e2c2636"
      },
      "outputs": [
        {
          "output_type": "stream",
          "name": "stdout",
          "text": [
            "True\n",
            "맞음\n"
          ]
        }
      ],
      "source": [
        "# if\n",
        "# 주어진 조건이 참인지 거짓인지 평가하여 참인 경우 특정 코드 실행\n",
        "# 들여쓰기된 코드 블록이 실행\n",
        "\n",
        "x = 2 # -> 비교할 대상\n",
        "\n",
        "if x > 1: # 비교 식 (참일 경우 하단 코드 실행)\n",
        "    print('True')\n",
        "\n",
        "# 참이 아닌 경우에는 조건식이 실행 x\n",
        "\n",
        "if True:\n",
        "    print('맞음') # 위에랑 같은 기능"
      ]
    },
    {
      "cell_type": "code",
      "source": [
        "# if 문 안에 있는 코드블럭과 바깥에 있는 코드블럭\n",
        "\n",
        "# 참이면 hello 출력, 거짓이면 출력 안함(아래 end만 출력)\n",
        "if -1:\n",
        "    print('hello')\n",
        "\n",
        "print('end')"
      ],
      "metadata": {
        "colab": {
          "base_uri": "https://localhost:8080/"
        },
        "id": "gVZGqx6ppAoN",
        "outputId": "3d3f72dd-6c2a-4115-8499-185b585d0b99"
      },
      "execution_count": 4,
      "outputs": [
        {
          "output_type": "stream",
          "name": "stdout",
          "text": [
            "hello\n",
            "end\n"
          ]
        }
      ]
    },
    {
      "cell_type": "code",
      "source": [
        "# 공백은 기본적으로 False를 의미\n",
        "# 공백을 제외한 나머지는 모두 True로 작동\n",
        "\n",
        "if ' ':\n",
        "    print('hello')\n",
        "print('end')\n",
        "\n",
        "# 공백이 없는 문자열\n",
        "if '':\n",
        "    print('hello')\n",
        "print('end')"
      ],
      "metadata": {
        "colab": {
          "base_uri": "https://localhost:8080/"
        },
        "id": "vIPlhmLqrWoZ",
        "outputId": "6d5e220c-1874-47cd-ef0b-6a20537ea967"
      },
      "execution_count": 5,
      "outputs": [
        {
          "output_type": "stream",
          "name": "stdout",
          "text": [
            "hello\n",
            "end\n",
            "end\n"
          ]
        }
      ]
    },
    {
      "cell_type": "code",
      "source": [
        "# None은 거짓으로 평가 (공백과 동일)\n",
        "# 참은 not None을 사용\n",
        "\n",
        "if not '':\n",
        "    print('hello')\n",
        "print('end')\n",
        "\n",
        "if None:\n",
        "    print('hello')\n",
        "print('end')\n",
        "\n",
        "if not None:\n",
        "    print('hello')\n",
        "print('end')"
      ],
      "metadata": {
        "colab": {
          "base_uri": "https://localhost:8080/"
        },
        "id": "CTH0DkmBsFXw",
        "outputId": "a9d2a0bf-f175-4b07-adfc-4c1cc2cedfee"
      },
      "execution_count": 6,
      "outputs": [
        {
          "output_type": "stream",
          "name": "stdout",
          "text": [
            "hello\n",
            "end\n",
            "end\n",
            "hello\n",
            "end\n"
          ]
        }
      ]
    },
    {
      "cell_type": "markdown",
      "source": [
        "# if문에 사용할 수 있는 표현식\n",
        "\n",
        "- 비교 연산자: **`==`**, **`!=`**, **`<`**, **`<=`**, **`>`**, **`>=`**\n",
        "- 논리 연산자: **`and`**, **`or`**, **`not`**\n",
        "- 멤버십 연산자: **`in`**, **`not in`**\n",
        "- 식별 연산자: **`is`**, **`is not`**\n",
        "- 다른 함수의 반환 값이나 변수의 값 (이 값들이 결국 불리언으로 평가됨)"
      ],
      "metadata": {
        "id": "cYe2WgjTw_0s"
      }
    },
    {
      "cell_type": "code",
      "source": [
        "# if 문 코드 블록에 들어갈 수 있는 것\n",
        "# 파이썬 어떤 문장이든 올 수 있음\n",
        "# 변수 할당, 함수 호출, 루프 등\n",
        "\n",
        "def f():\n",
        "    return True\n",
        "\n",
        "if f() or f():\n",
        "    print('hello')"
      ],
      "metadata": {
        "colab": {
          "base_uri": "https://localhost:8080/"
        },
        "id": "YvUP469JsZoL",
        "outputId": "e2d43f59-673d-44cc-c5e1-dc2c01c828c9"
      },
      "execution_count": 7,
      "outputs": [
        {
          "output_type": "stream",
          "name": "stdout",
          "text": [
            "hello\n"
          ]
        }
      ]
    },
    {
      "cell_type": "code",
      "source": [
        "# 단축평가\n",
        "\n",
        "def f():\n",
        "    return True\n",
        "\n",
        "def ff():\n",
        "    x = 100 / 0 # error!\n",
        "    return 'hello'\n",
        "\n",
        "if f() or ff():\n",
        "    print('hello')\n",
        "\n",
        "# 원래는 에러가 나는 코드인데 f() or 뒤에 어떠한 값이든 True 이므로\n",
        "# ff()를 실행하지 않음"
      ],
      "metadata": {
        "colab": {
          "base_uri": "https://localhost:8080/"
        },
        "id": "VjEqSKZrxmMP",
        "outputId": "108d9077-2f0c-4d81-848c-e43f83ba90a1"
      },
      "execution_count": 8,
      "outputs": [
        {
          "output_type": "stream",
          "name": "stdout",
          "text": [
            "hello\n"
          ]
        }
      ]
    },
    {
      "cell_type": "code",
      "source": [
        "# 삼항 연산자\n",
        "# x if 조건 else y 형태\n",
        "\n",
        "x = 5\n",
        "y = 10\n",
        "\n",
        "# 맞았을 때 조건 / if / 조건 / else / 틀렸을 때 조건\n",
        "result = 'x가 더 큼' if x > y else 'y와 같거나 y가 더 큼'\n",
        "print(result)"
      ],
      "metadata": {
        "colab": {
          "base_uri": "https://localhost:8080/"
        },
        "id": "SHS8bNA3x1fc",
        "outputId": "a1bbc178-97c2-49b6-e96e-ba3afb7c00cb"
      },
      "execution_count": 10,
      "outputs": [
        {
          "output_type": "stream",
          "name": "stdout",
          "text": [
            "y와 같거나 y가 더 큼\n"
          ]
        }
      ]
    },
    {
      "cell_type": "code",
      "source": [
        "# 람다 함수\n",
        "my_function = lambda x: 'Even' if x % 2 == 0 else 'Odd'"
      ],
      "metadata": {
        "id": "IvOiP85jzen9"
      },
      "execution_count": 11,
      "outputs": []
    },
    {
      "cell_type": "markdown",
      "source": [
        "# if-else-elif 중첩 조건문"
      ],
      "metadata": {
        "id": "vHKGW0SM1mTW"
      }
    },
    {
      "cell_type": "code",
      "source": [
        "# if, else 문의 기본구조\n",
        "if 조건문: # 조건문을 확인하여 참이면 if문 다음에 문장들을 수행\n",
        "    # 수행할 문장 1\n",
        "    pass\n",
        "else: # 거짓이면 else 문이 실행 (조건 따로 적지 않아도 괜찮음)\n",
        "    # 수행할 문장 2\n",
        "    pass"
      ],
      "metadata": {
        "id": "_4XcU31P1sYk"
      },
      "execution_count": null,
      "outputs": []
    },
    {
      "cell_type": "code",
      "source": [
        "# if, elif, else 문의 기본구조\n",
        "# 즉, 조건문이 늘어나면 elif만 추가하면 됨\n",
        "# elif는 조건식이 필요하고 다른 조건과 겹치지 않게 해여햠\n",
        "\n",
        "if 조건문: # 조건문 확인 후 참이면 if문 다음에 문장들을 수행\n",
        "    # 수행할 문장1\n",
        "    pass\n",
        "\n",
        "elif 추가조건: # 조건문이 참이 아니라면 elif 문의 조건문이 참이라면 수행\n",
        "    pass\n",
        "\n",
        "else: # if, elif 둘 다 참이 아닐 경우 수행\n",
        "    pass"
      ],
      "metadata": {
        "id": "G0fNmST92ISh"
      },
      "execution_count": null,
      "outputs": []
    },
    {
      "cell_type": "code",
      "source": [
        "# 성적입력 프로그램 - 기본\n",
        "score = int(input(\"성적을 입력하세요(0~100):\"))\n",
        "\n",
        "if score >= 90:\n",
        "    print(\"A\")\n",
        "elif 90 > score >= 80:\n",
        "    print(\"B\")\n",
        "elif 80 > score >= 70:\n",
        "    print(\"C\")\n",
        "elif 70 > score >= 60:\n",
        "    print(\"D\")\n",
        "else:\n",
        "    print(\"F\")"
      ],
      "metadata": {
        "colab": {
          "base_uri": "https://localhost:8080/"
        },
        "id": "Ds6XsGtT34Ws",
        "outputId": "9a5aa171-1ed3-4e4b-dfe8-c9fb6f38863a"
      },
      "execution_count": 17,
      "outputs": [
        {
          "output_type": "stream",
          "name": "stdout",
          "text": [
            "성적을 입력하세요(0~100):79\n",
            "C\n"
          ]
        }
      ]
    },
    {
      "cell_type": "code",
      "source": [
        "# 스코어에 따라 돈을 받는 코드\n",
        "\n",
        "score = 81\n",
        "money = 0\n",
        "\n",
        "if score >= 90:\n",
        "    money += 1000000\n",
        "if score >= 80:\n",
        "    money += 100000\n",
        "if score >= 70:\n",
        "    money += 10000\n",
        "if score >= 60:\n",
        "    money += 1000\n",
        "else:\n",
        "    money = 0\n",
        "print(money)\n",
        "\n",
        "# 다 누적되어서 111000 라는 결과가 나옴"
      ],
      "metadata": {
        "colab": {
          "base_uri": "https://localhost:8080/"
        },
        "id": "asYGmm7t4gLn",
        "outputId": "72094b1b-fde0-4c94-85d0-bdbbfd058d88"
      },
      "execution_count": 18,
      "outputs": [
        {
          "output_type": "stream",
          "name": "stdout",
          "text": [
            "111000\n"
          ]
        }
      ]
    },
    {
      "cell_type": "code",
      "source": [
        "# 100000 을 받기 위해서는?\n",
        "\n",
        "score = 81\n",
        "money = 0\n",
        "\n",
        "if score >= 90:\n",
        "    money += 1000000\n",
        "elif score >= 80:\n",
        "    money += 100000\n",
        "elif score >= 70:\n",
        "    money += 10000\n",
        "elif score >= 60:\n",
        "    money += 1000\n",
        "else:\n",
        "    money = 0\n",
        "print(money)"
      ],
      "metadata": {
        "colab": {
          "base_uri": "https://localhost:8080/"
        },
        "id": "JdikRfZg_tdS",
        "outputId": "c0bdfce8-655c-4126-fb67-0bba84567a54"
      },
      "execution_count": 19,
      "outputs": [
        {
          "output_type": "stream",
          "name": "stdout",
          "text": [
            "100000\n"
          ]
        }
      ]
    },
    {
      "cell_type": "code",
      "source": [
        "# if를 중첩해서 사용\n",
        "\n",
        "movie = {\n",
        "    '영화': '레미제라블',\n",
        "    '장르': '드라마',\n",
        "    '서비스': '디즈니',\n",
        "    '비용': 15000,\n",
        "    '평점': 4.9\n",
        "}\n",
        "\n",
        "if movie['장르'] == '드라마':\n",
        "    if movie['서비스'] == '디즈니' or movie['서비스'] == '넷플릭스':\n",
        "        if movie['평점'] >= 4.5:\n",
        "            if movie['비용'] <= 20000:\n",
        "                print('영화시청')"
      ],
      "metadata": {
        "colab": {
          "base_uri": "https://localhost:8080/"
        },
        "id": "I_y-PL12ASgF",
        "outputId": "ed0d1489-739c-4fdc-9b4a-b3d5f73c4059"
      },
      "execution_count": 23,
      "outputs": [
        {
          "output_type": "stream",
          "name": "stdout",
          "text": [
            "영화시청\n"
          ]
        }
      ]
    },
    {
      "cell_type": "code",
      "source": [],
      "metadata": {
        "id": "be4vS0NgBpRZ"
      },
      "execution_count": null,
      "outputs": []
    }
  ]
}
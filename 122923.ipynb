{
  "nbformat": 4,
  "nbformat_minor": 0,
  "metadata": {
    "colab": {
      "provenance": []
    },
    "kernelspec": {
      "name": "python3",
      "display_name": "Python 3"
    },
    "language_info": {
      "name": "python"
    }
  },
  "cells": [
    {
      "cell_type": "code",
      "metadata": {
        "id": "uolyAgpCM3EV",
        "colab": {
          "base_uri": "https://localhost:8080/"
        },
        "outputId": "2a37827a-3685-4fa6-9e9a-00b1249023b1"
      },
      "source": [
        "print(\"Hello world\")"
      ],
      "execution_count": 1,
      "outputs": [
        {
          "output_type": "stream",
          "name": "stdout",
          "text": [
            "Hello world\n"
          ]
        }
      ]
    },
    {
      "cell_type": "markdown",
      "source": [
        "# 1. 단축키\n",
        "\n",
        "1. Ctrl + Enter: 해당 셀 실행\n",
        "2. Alt + Enter: 해당 셀 실행 + 코드 블록 하단 추가\n",
        "3. Ctrl + M + A: 코드 셀 위에 삽입\n",
        "4. Ctrl + M + B: 코드 셀 아래에 삽입\n",
        "5. Ctrl + M + D: 셀 지우기\n",
        "6. Ctrl + M + Y: 코드 셀로 변경\n",
        "7. Ctrl + M + M: 마크다운 셀로 변경\n",
        "8. Ctrl + M + Z: 실행 취소\n",
        "\n",
        "+ Crtl + M + H: 단축키 모음보기"
      ],
      "metadata": {
        "id": "vwvlMRok9Eta"
      }
    },
    {
      "cell_type": "code",
      "source": [
        "print(\"Hello\")"
      ],
      "metadata": {
        "colab": {
          "base_uri": "https://localhost:8080/"
        },
        "id": "WsvEzPI59vJn",
        "outputId": "adf2e3d5-39b4-4d5c-d1e1-5b723b964927"
      },
      "execution_count": 4,
      "outputs": [
        {
          "output_type": "stream",
          "name": "stdout",
          "text": [
            "Hello\n"
          ]
        }
      ]
    },
    {
      "cell_type": "code",
      "source": [
        "print(\"99\")"
      ],
      "metadata": {
        "id": "OKXBxK1-_Ejb",
        "colab": {
          "base_uri": "https://localhost:8080/"
        },
        "outputId": "0f017208-36f5-431d-933a-959a4f0e492b"
      },
      "execution_count": 6,
      "outputs": [
        {
          "output_type": "stream",
          "name": "stdout",
          "text": [
            "99\n"
          ]
        }
      ]
    },
    {
      "cell_type": "code",
      "source": [
        "#데이터셋 불러오기\n",
        "import pandas as pd\n",
        "data = pd.read_csv(\"example_dataset.csv\")\n",
        "\n",
        "#각 컬럼에 대한 평균 계산\n",
        "mean_age = data['age'].mean()\n",
        "mean_height = data['height'].mean()\n",
        "mean_weight = data['weight'].mean()\n",
        "\n",
        "print(\"Average Age:\", mean_age)\n",
        "print(\"Average Height:\", mean_height)\n",
        "print(\"Average Weight:\", mean_weight)"
      ],
      "metadata": {
        "id": "Ho1ssZGbBR-S"
      },
      "execution_count": null,
      "outputs": []
    },
    {
      "cell_type": "code",
      "source": [
        "#데이터셋 불러오기\n",
        "import pandas as pd\n",
        "data = pd.read_csv(\"example_dataset.csv\")\n",
        "\n",
        "#각 컬럼에 대한 평균 계산\n",
        "mean_age_years = data['age_years'].mean()\n",
        "mean_height_cm = data['height_cm'].mean()\n",
        "mean_weight_kg = data['weight_kg'].mean()\n",
        "\n",
        "print(\"Average Age in Years:\", mean_age_years)\n",
        "print(\"Average Height in cm:\", mean_height_cm)\n",
        "print(\"Average Weight in kg:\", mean_weight_kg)"
      ],
      "metadata": {
        "id": "HVrvOOj2BTCj"
      },
      "execution_count": null,
      "outputs": []
    },
    {
      "cell_type": "markdown",
      "source": [
        "# 2. 수정 관련 단축키\n",
        "\n",
        "1. Ctrl + Alt + 화살표 위 또는 아래: 동시수정\n",
        "2. Ctrl + D: 같은 단어 찾기\n",
        "3. Ctrl + Shift + L: 동일 단어를 전체로 찾아 동시 수정\n",
        "4.  Home, End: 문장의 양 끝 이동\n",
        "5. Ctrl + /: 주석\n",
        "6. Shift + Del : 한 줄 지우기\n",
        "7. Tab, Ctrl + ] : 들여쓰기\n",
        "8. Shift + Tab, Ctrl + [ : 내어쓰기"
      ],
      "metadata": {
        "id": "hLMwycA0B5jX"
      }
    },
    {
      "cell_type": "code",
      "source": [],
      "metadata": {
        "id": "RZIXtkYxLvNn"
      },
      "execution_count": null,
      "outputs": []
    },
    {
      "cell_type": "markdown",
      "source": [
        "# 3. 마크 다운\n",
        "## 3.1 헤더\n",
        "### 3.1.1 사용법\n",
        "제목을 입력하는 기능\n"
      ],
      "metadata": {
        "id": "2cy5v1E0JpAl"
      }
    },
    {
      "cell_type": "markdown",
      "source": [
        "## 3.2 강조\n",
        "기본\n",
        "*별1*\n",
        "**별2**"
      ],
      "metadata": {
        "id": "6Ecn2U1IKi07"
      }
    },
    {
      "cell_type": "code",
      "source": [],
      "metadata": {
        "id": "KyVlxxmLKrZr"
      },
      "execution_count": null,
      "outputs": []
    },
    {
      "cell_type": "markdown",
      "source": [
        "## 3.3 목록(Lists)\n",
        "\n",
        "1. 순서 1번\n",
        "2. 순서 2번\n",
        "3. 순서 3번\n",
        "\n",
        "* 순서 없 1번\n",
        "* 순서 없 2번\n",
        "* 순서 없 3번"
      ],
      "metadata": {
        "id": "vAxDmEMUK6dE"
      }
    },
    {
      "cell_type": "code",
      "source": [],
      "metadata": {
        "id": "urohPxkILJs9"
      },
      "execution_count": null,
      "outputs": []
    },
    {
      "cell_type": "markdown",
      "source": [
        "# 3.4 링크\n",
        "\n",
        "* 사용법: [텍스트](URL) 형식을 사용하여 하이퍼링크를 삽입\n",
        "\n",
        "[구글](https://www.google.co.kr/)"
      ],
      "metadata": {
        "id": "yUbmzktDLzi8"
      }
    },
    {
      "cell_type": "markdown",
      "source": [
        "# 3.5 이미지\n",
        "\n",
        "* 사용법: ![대체 텍스트](이미지 URL) 형식\n",
        "\n",
        "![깜냥이](https://w1.pngwing.com/pngs/315/825/png-transparent-cat-javanese-cat-oriental-shorthair-korat-kitten-havana-brown-black-cat-german-rex.png)\n",
        "\n",
        "! 꼭 들어가야함"
      ],
      "metadata": {
        "id": "1jZWX27BMb7l"
      }
    },
    {
      "cell_type": "code",
      "source": [],
      "metadata": {
        "id": "fTRROoCIMCYw"
      },
      "execution_count": null,
      "outputs": []
    },
    {
      "cell_type": "markdown",
      "source": [
        "# 3.6\n",
        "\n",
        "* 인라인 코드: `를 사용하여 텍스트 내에 코드 삽입\n",
        "* 코드 블록: 여러 줄의 코드를 나타낼 때에는 ``` ` 3개로 감싸기 ``` 사용하여 코드 블록 생성\n",
        "\n",
        "`print(\"Hello World\")`\n",
        "\n",
        "```print(\"Hello\")```"
      ],
      "metadata": {
        "id": "v60Z9q96NGCI"
      }
    },
    {
      "cell_type": "code",
      "source": [],
      "metadata": {
        "id": "IJjICkiuNcBV"
      },
      "execution_count": null,
      "outputs": []
    },
    {
      "cell_type": "markdown",
      "source": [
        "# 3.7 기타\n",
        "\n",
        "* 취소선 ~~~취소선~~~\n",
        "* 인용문\n",
        ">인용문1\n",
        ">>인용문 1.1\n",
        "---\n",
        "* 구분선\n",
        "---"
      ],
      "metadata": {
        "id": "xaLFhJ49Ow9d"
      }
    },
    {
      "cell_type": "code",
      "source": [],
      "metadata": {
        "id": "9LumbtXEPLwY"
      },
      "execution_count": null,
      "outputs": []
    }
  ]
}
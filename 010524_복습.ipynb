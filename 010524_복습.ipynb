{
  "nbformat": 4,
  "nbformat_minor": 0,
  "metadata": {
    "colab": {
      "provenance": []
    },
    "kernelspec": {
      "name": "python3",
      "display_name": "Python 3"
    },
    "language_info": {
      "name": "python"
    }
  },
  "cells": [
    {
      "cell_type": "code",
      "source": [
        "a = 10\n",
        "b = a\n",
        "c = b\n",
        "\n",
        "print(c)\n",
        "\n",
        "a = 10\n",
        "b = a\n",
        "c = b\n",
        "a = 20\n",
        "print(c)\n",
        "\n",
        "a = 10\n",
        "b = a\n",
        "print(id(a))\n",
        "print(id(b))"
      ],
      "metadata": {
        "id": "9mmtVYG5SqUR"
      },
      "execution_count": null,
      "outputs": []
    },
    {
      "cell_type": "code",
      "source": [
        "# -5부터 256까지는 같음\n",
        "a = 10\n",
        "b = 10\n",
        "\n",
        "print(id(a))\n",
        "print(id(b))\n",
        "print(a is b)\n",
        "\n",
        "a = 257\n",
        "b = 257\n",
        "\n",
        "print(id(a))\n",
        "print(id(b))\n",
        "print(a is b)"
      ],
      "metadata": {
        "colab": {
          "base_uri": "https://localhost:8080/"
        },
        "id": "l6CzbGdGTi0b",
        "outputId": "e326ee68-3534-44fc-d0a2-24c476d74e29"
      },
      "execution_count": 11,
      "outputs": [
        {
          "output_type": "stream",
          "name": "stdout",
          "text": [
            "139294359880208\n",
            "139294359880208\n",
            "True\n",
            "139293092949680\n",
            "139293092949488\n",
            "False\n"
          ]
        }
      ]
    },
    {
      "cell_type": "code",
      "execution_count": 1,
      "metadata": {
        "colab": {
          "base_uri": "https://localhost:8080/"
        },
        "id": "n2C8m7JaJHXK",
        "outputId": "ad99547d-9946-4bd6-ac42-67c6720785ed"
      },
      "outputs": [
        {
          "output_type": "execute_result",
          "data": {
            "text/plain": [
              "0.30000000000000004"
            ]
          },
          "metadata": {},
          "execution_count": 1
        }
      ],
      "source": [
        "# 부동소수점\n",
        "# 0.1 2진수로 표현했을 때 무한 소수라서 계산 결과가 이상해짐\n",
        "0.1 + 0.2"
      ]
    },
    {
      "cell_type": "code",
      "source": [
        "# 문자열 연결\n",
        "# 80자 넘어갈때 해결방법\n",
        "\n",
        "# 1. 역슬레쉬(추천 x)\n",
        "print('helloworldhelloworldhelloworldhelloworldhelloworldhelloworldhelloworld\\\n",
        "helloworldhelloworld')\n",
        "\n",
        "# 2. 콤마 찍지 않고 작성(추천!)\n",
        "print('hello world'\n",
        "      'hello world'\n",
        "      'hello world'\n",
        "      'hello world'\n",
        "      'hello world'\n",
        "      'hello world'\n",
        "      'hello world')"
      ],
      "metadata": {
        "colab": {
          "base_uri": "https://localhost:8080/"
        },
        "id": "hY2uCFn4Jxvu",
        "outputId": "70450460-1a60-4d9d-e859-1e1da2fa06a0"
      },
      "execution_count": 2,
      "outputs": [
        {
          "output_type": "stream",
          "name": "stdout",
          "text": [
            "helloworldhelloworldhelloworldhelloworldhelloworldhelloworldhelloworldhelloworldhelloworld\n",
            "hello worldhello worldhello worldhello worldhello worldhello worldhello world\n"
          ]
        }
      ]
    },
    {
      "cell_type": "code",
      "source": [
        "# 매서드 체이닝 3개 이상 하기를 권하지 않음 (80자가 넘어가지 않는게 좋음)\n",
        "\n",
        "# 별로인 코드\n",
        "'hello world' .upper().split().pop().lower()\n",
        "\n",
        "# 문제가 덜한 코드\n",
        "대문자 = 'hello world'.upper()\n",
        "잘린대문자 = 대문자.split(' ')\n",
        "\n",
        "print(잘린대문자)"
      ],
      "metadata": {
        "colab": {
          "base_uri": "https://localhost:8080/"
        },
        "id": "GKDKCwuxMGn0",
        "outputId": "71663f50-f5c3-4313-8e91-42bf9d885ae5"
      },
      "execution_count": 5,
      "outputs": [
        {
          "output_type": "stream",
          "name": "stdout",
          "text": [
            "['HELLO', 'WORLD']\n"
          ]
        }
      ]
    },
    {
      "cell_type": "code",
      "source": [
        "# 문자열 메서드\n",
        "# 메서드, 매직메서드\n",
        "dir('hello world')\n",
        "\n",
        "# 문제1: find와 index 차이\n",
        "# 실무에서 사용하는 코드는:\n",
        "\n",
        "if 'hello world'.find('hi'): # 실무에서 자주 나오는 오료! 이런식으로 코딩하면 안됨\n",
        "    print('찾았다!')\n",
        "\n",
        "# 문제2: isdigit의 정체 -> 숫자'만' 있는지 판별\n",
        "'123'.isdigit()\n",
        "'12h3'.isdigit()\n",
        "\n",
        "# 문제3: replace가 어디까지 변환하는지?\n",
        "'hello world hello world'.replace('hello', 'hi') # 모두 다 변환이 됨\n",
        "# replace는 정규표현식이 안된다.\n",
        "# 정규표현식을 사용하고 싶으면 re.sub를 사용해야 함.\n",
        "\n",
        "# 문제4: strip(공백제거)\n",
        "\n",
        "# 문제5: zfill(앞에 0을 채워주는 것, 원하는 자릿수만큼)"
      ],
      "metadata": {
        "colab": {
          "base_uri": "https://localhost:8080/",
          "height": 54
        },
        "id": "Nj3KBrWrMcCE",
        "outputId": "13d42261-d537-4f06-f988-86b95f816fcc"
      },
      "execution_count": 9,
      "outputs": [
        {
          "output_type": "stream",
          "name": "stdout",
          "text": [
            "찾았다!\n"
          ]
        },
        {
          "output_type": "execute_result",
          "data": {
            "text/plain": [
              "'hi world hi world'"
            ],
            "application/vnd.google.colaboratory.intrinsic+json": {
              "type": "string"
            }
          },
          "metadata": {},
          "execution_count": 9
        }
      ]
    },
    {
      "cell_type": "markdown",
      "source": [
        "# 리스트\n",
        "* 변경이 가능한 자료형\n",
        "* 순서가 있는 자료형(시퀀스형, 자료형, 인덱싱, 슬라이싱 가능)\n"
      ],
      "metadata": {
        "id": "S5yeUwfVPa6a"
      }
    },
    {
      "cell_type": "code",
      "source": [
        "l = [10, 20, 30]\n",
        "\n",
        "# 권고1: 길어졌을 때에는 이렇게 사용하길 권장\n",
        "l = [\n",
        "    10,\n",
        "    20,\n",
        "    30\n",
        "    ]\n",
        "\n",
        "# 권고2: 실무에서는 이 방식을 더 많이 사용함\n",
        "l = [\n",
        "    10,\n",
        "    20,\n",
        "    30,\n",
        "]\n",
        "\n",
        "# 문제가 있음! JSON이라는 형식을 사용하게 되는데,\n",
        "# JSON은 콤마를 허용하지 않음\n",
        "\n",
        "# 근데 왜 2번을 더 많이 사용하지?\n",
        "# -> 콤마를 버전업으로 생각 / 콤마를 빼먹는 경우가 많음 / 편의성(복붙)\n",
        "# 자동 변환 소프트웨어로 코드 변환 권고"
      ],
      "metadata": {
        "id": "YJjOujsHMxje"
      },
      "execution_count": null,
      "outputs": []
    },
    {
      "cell_type": "code",
      "source": [
        "l = [10, 20, 30]\n",
        "l[2]"
      ],
      "metadata": {
        "colab": {
          "base_uri": "https://localhost:8080/"
        },
        "id": "2cZuwrP8SnjZ",
        "outputId": "423f0944-fddd-411a-9b81-1e4ffb1f0800"
      },
      "execution_count": 12,
      "outputs": [
        {
          "output_type": "execute_result",
          "data": {
            "text/plain": [
              "30"
            ]
          },
          "metadata": {},
          "execution_count": 12
        }
      ]
    },
    {
      "cell_type": "code",
      "source": [
        "# 아래 같이 str은 불가!\n",
        "s = 'hello world'\n",
        "# s[0] = 'y'\n",
        "\n",
        "print(s.replace('h', 'y'))\n",
        "print(s)"
      ],
      "metadata": {
        "colab": {
          "base_uri": "https://localhost:8080/"
        },
        "id": "oS2utCwUYPZ-",
        "outputId": "ffd69bb1-c923-472c-81a1-bf649c0ddac8"
      },
      "execution_count": 15,
      "outputs": [
        {
          "output_type": "stream",
          "name": "stdout",
          "text": [
            "yello world\n",
            "hello world\n"
          ]
        }
      ]
    },
    {
      "cell_type": "code",
      "source": [
        "# 얘는 변하긴 하지만 원본은 변하지 않음\n",
        "s = s.replace('h', 'y')\n",
        "\n",
        "# 얘는 원본도 변함\n",
        "s = 'y' +s[1:]"
      ],
      "metadata": {
        "id": "trY7JW0wZJLL"
      },
      "execution_count": 14,
      "outputs": []
    },
    {
      "cell_type": "code",
      "source": [
        "l = [10, 20, 30]\n",
        "l[2] = 1000\n",
        "print(l)"
      ],
      "metadata": {
        "colab": {
          "base_uri": "https://localhost:8080/"
        },
        "id": "ceOcxCA_ZT4o",
        "outputId": "5684beca-c03d-4eb4-f5a3-961e1bea357a"
      },
      "execution_count": 16,
      "outputs": [
        {
          "output_type": "stream",
          "name": "stdout",
          "text": [
            "[10, 20, 1000]\n"
          ]
        }
      ]
    },
    {
      "cell_type": "code",
      "source": [
        "l = [10, 20, 30, 40, 50]\n",
        "l[-1]\n",
        "l[-2:] # - 인덱싱/ 슬라이싱은 최종적으로 양수로 치환\n",
        "# 즉, I[-2:] 코드는 l[3:]과 같음\n",
        "\n",
        "# 변수명[stop]\n",
        "# 변수명[start:stop]\n",
        "# 변수명[start:stop:step]"
      ],
      "metadata": {
        "colab": {
          "base_uri": "https://localhost:8080/"
        },
        "id": "FbfFjXcQZpS6",
        "outputId": "e60b0b32-fced-40ba-eb82-83439e9451b2"
      },
      "execution_count": 19,
      "outputs": [
        {
          "output_type": "execute_result",
          "data": {
            "text/plain": [
              "[40, 50]"
            ]
          },
          "metadata": {},
          "execution_count": 19
        }
      ]
    },
    {
      "cell_type": "code",
      "source": [
        "type(l), dir(l)\n",
        "# type은 검색 키워드, GPT 질문 키워드가 될 수 있음\n",
        "# dir은 대략적인 속성을 알 수 있음"
      ],
      "metadata": {
        "id": "yYAArKbtZwa2"
      },
      "execution_count": null,
      "outputs": []
    },
    {
      "cell_type": "code",
      "source": [
        "ㅣ = [10, 20, 30]\n",
        "\n",
        "# ㅣ + 100 같이 정수는 더하기 불가\n",
        "l + [100] # 이건 가능!\n",
        "\n",
        "# l * [1, 2]같이 리스트 곱하기는 불가\n",
        "l * 3 # 이건 가능!"
      ],
      "metadata": {
        "colab": {
          "base_uri": "https://localhost:8080/"
        },
        "id": "YTI3tYlva1l5",
        "outputId": "1f7b7c79-78bc-45f2-a251-db525c3f6810"
      },
      "execution_count": 22,
      "outputs": [
        {
          "output_type": "execute_result",
          "data": {
            "text/plain": [
              "[10, 20, 30, 40, 50, 10, 20, 30, 40, 50, 10, 20, 30, 40, 50]"
            ]
          },
          "metadata": {},
          "execution_count": 22
        }
      ]
    },
    {
      "cell_type": "code",
      "source": [
        "# 리스트 곱하기는 매우 주의해야 함\n",
        "# 곱하기가 2중으로 있을 때에는\n",
        "# 리스트컴프리헨션 사용\n",
        "\n",
        "ㅣ =  [[1, 2, 3] * 3] * 2\n",
        "ㅣ[1][0] = 1000\n",
        "ㅣ"
      ],
      "metadata": {
        "colab": {
          "base_uri": "https://localhost:8080/"
        },
        "id": "B1_Ni9SJbwN_",
        "outputId": "74237f19-6ed8-4102-8306-81c32eea0f8d"
      },
      "execution_count": 26,
      "outputs": [
        {
          "output_type": "execute_result",
          "data": {
            "text/plain": [
              "[[1000, 2, 3, 1, 2, 3, 1, 2, 3], [1000, 2, 3, 1, 2, 3, 1, 2, 3]]"
            ]
          },
          "metadata": {},
          "execution_count": 26
        }
      ]
    },
    {
      "cell_type": "code",
      "source": [
        "ㅣ[1][1] = 10000\n",
        "ㅣ"
      ],
      "metadata": {
        "colab": {
          "base_uri": "https://localhost:8080/"
        },
        "id": "q7m2EBAWcP4K",
        "outputId": "62a022d8-213f-4f59-fec9-47d9af075104"
      },
      "execution_count": 27,
      "outputs": [
        {
          "output_type": "execute_result",
          "data": {
            "text/plain": [
              "[[1000, 10000, 3, 1, 2, 3, 1, 2, 3], [1000, 10000, 3, 1, 2, 3, 1, 2, 3]]"
            ]
          },
          "metadata": {},
          "execution_count": 27
        }
      ]
    },
    {
      "cell_type": "code",
      "source": [
        "# 암기하기\n",
        "x = 10 # 스칼라\n",
        "x = [10] # 벡터\n",
        "x = [10, 20] # 벡터\n",
        "x = [[10, 20], [10, 20]] # 메트릭스(행렬)\n",
        "x = [[10, 20], [10, 20], [10, 20], [10, 20]] # 텐서(3차원 이상 행렬)"
      ],
      "metadata": {
        "id": "khQKjxnQc5aI"
      },
      "execution_count": null,
      "outputs": []
    },
    {
      "cell_type": "code",
      "source": [
        "# 텐서플로\n",
        "# 인공지능 엄청 단순하게 말하면 행렬의 연산"
      ],
      "metadata": {
        "id": "NlFNGTGPd0Wj"
      },
      "execution_count": null,
      "outputs": []
    },
    {
      "cell_type": "code",
      "source": [
        "x = [[1, 2], [3, 4], [5, 6]]\n",
        "\n",
        "# 4출력 하기\n",
        "x[1]\n",
        "x[1][1]"
      ],
      "metadata": {
        "colab": {
          "base_uri": "https://localhost:8080/"
        },
        "id": "uDIFcUDRedJH",
        "outputId": "2a5b1190-a69b-43ff-9e13-82306b22ad26"
      },
      "execution_count": 32,
      "outputs": [
        {
          "output_type": "execute_result",
          "data": {
            "text/plain": [
              "4"
            ]
          },
          "metadata": {},
          "execution_count": 32
        }
      ]
    },
    {
      "cell_type": "code",
      "source": [
        "x = [[1, 2], [3, 'hello world'], [5, 6]]\n",
        "\n",
        "# world만 출력하기\n",
        "print(x[1])\n",
        "print(x[1][1])\n",
        "print(x[1][1][6:])"
      ],
      "metadata": {
        "colab": {
          "base_uri": "https://localhost:8080/"
        },
        "id": "wCcP1lAYej1o",
        "outputId": "5604f307-cb99-495a-f38b-8523430b3b9c"
      },
      "execution_count": 34,
      "outputs": [
        {
          "output_type": "stream",
          "name": "stdout",
          "text": [
            "[3, 'hello world']\n",
            "hello world\n",
            "world\n"
          ]
        }
      ]
    },
    {
      "cell_type": "code",
      "source": [
        "x = 10\n",
        "\n",
        "# 둘은 다른 것이다!\n",
        "print(x) # __str__\n",
        "x # __repr__"
      ],
      "metadata": {
        "colab": {
          "base_uri": "https://localhost:8080/"
        },
        "id": "zwoEjM0efUwn",
        "outputId": "3e641063-3a2f-4e06-cf8a-b5312309c11c"
      },
      "execution_count": 36,
      "outputs": [
        {
          "output_type": "stream",
          "name": "stdout",
          "text": [
            "10\n"
          ]
        },
        {
          "output_type": "execute_result",
          "data": {
            "text/plain": [
              "10"
            ]
          },
          "metadata": {},
          "execution_count": 36
        }
      ]
    },
    {
      "cell_type": "code",
      "source": [
        "l = [10, 20 ,30]\n",
        "dir(l)\n",
        "\n",
        "# Shift + Tab\n",
        "# Ctrl + [\n",
        "# Ctrl + ]\n",
        "'append',\n",
        "'clear',\n",
        "'copy',\n",
        "'count',\n",
        "'extend',\n",
        "'index',\n",
        "'insert',\n",
        "'pop',\n",
        "'remove',\n",
        "'reverse',\n",
        "'sort'"
      ],
      "metadata": {
        "id": "qhyr85RKfjxj"
      },
      "execution_count": null,
      "outputs": []
    },
    {
      "cell_type": "code",
      "source": [
        "l.append(100)\n",
        "l"
      ],
      "metadata": {
        "colab": {
          "base_uri": "https://localhost:8080/"
        },
        "id": "nXrRHuHSgdBZ",
        "outputId": "a67355bf-f95d-420c-c342-6cf2d91838bb"
      },
      "execution_count": 38,
      "outputs": [
        {
          "output_type": "execute_result",
          "data": {
            "text/plain": [
              "[10, 20, 30, 100]"
            ]
          },
          "metadata": {},
          "execution_count": 38
        }
      ]
    },
    {
      "cell_type": "code",
      "source": [
        "# 1000을 앞에다 넣기 방법1\n",
        "l = [1000] + l\n",
        "\n",
        "# 1000을 앞에다 넣기 방법2\n",
        "x = 1000\n",
        "l = [x]+ l[:]\n",
        "\n",
        "# 1000을 앞에다 넣기 방법3\n",
        "l.insert(0, 999)\n",
        "l"
      ],
      "metadata": {
        "colab": {
          "base_uri": "https://localhost:8080/"
        },
        "id": "zDRPSWgCg3mn",
        "outputId": "b352e496-fa1b-4844-bf15-62880fcec2f7"
      },
      "execution_count": 39,
      "outputs": [
        {
          "output_type": "execute_result",
          "data": {
            "text/plain": [
              "[999, 1000, 1000, 10, 20, 30, 100]"
            ]
          },
          "metadata": {},
          "execution_count": 39
        }
      ]
    },
    {
      "cell_type": "code",
      "source": [
        "l = [10, 20, 30, 40]\n",
        "l.pop() # 뒤에서 값을 꺼냄\n",
        "l"
      ],
      "metadata": {
        "colab": {
          "base_uri": "https://localhost:8080/"
        },
        "id": "gbdFxS1VkY7Z",
        "outputId": "864872de-e5ba-46c9-c449-41ff794cb86d"
      },
      "execution_count": 40,
      "outputs": [
        {
          "output_type": "execute_result",
          "data": {
            "text/plain": [
              "[10, 20, 30]"
            ]
          },
          "metadata": {},
          "execution_count": 40
        }
      ]
    },
    {
      "cell_type": "code",
      "source": [
        "l = [10, 20, 30, 40]\n",
        "l.pop(0) # 뒤에서 값을 꺼냄\n",
        "l"
      ],
      "metadata": {
        "colab": {
          "base_uri": "https://localhost:8080/"
        },
        "id": "qwySjZlIklVx",
        "outputId": "dd2a6b93-cd47-476a-fc1e-c317ec840660"
      },
      "execution_count": 41,
      "outputs": [
        {
          "output_type": "execute_result",
          "data": {
            "text/plain": [
              "[20, 30, 40]"
            ]
          },
          "metadata": {},
          "execution_count": 41
        }
      ]
    },
    {
      "cell_type": "code",
      "source": [
        "l = [10, 20, 30, 40]\n",
        "l[:-1] # 뒤에서 값을 꺼냄\n",
        "l[1:]"
      ],
      "metadata": {
        "colab": {
          "base_uri": "https://localhost:8080/"
        },
        "id": "BVAQlo2Kko06",
        "outputId": "6cda2674-2668-45ea-9cc0-1e2af2ff89ae"
      },
      "execution_count": 43,
      "outputs": [
        {
          "output_type": "execute_result",
          "data": {
            "text/plain": [
              "[20, 30, 40]"
            ]
          },
          "metadata": {},
          "execution_count": 43
        }
      ]
    },
    {
      "cell_type": "code",
      "source": [
        "l = [10, 20, 30, 40]\n",
        "l.index(20)"
      ],
      "metadata": {
        "id": "ogdJ3tbgkt8k"
      },
      "execution_count": null,
      "outputs": []
    },
    {
      "cell_type": "code",
      "source": [
        "# Keep\n",
        "# index가 에러 남 -> error 없이 코드 짜고 싶을때는?\n",
        "# 슬라이싱 사용 -> index가 벗어나더라고 에러 발생 x\n",
        "\n",
        "l = [10, 20, 30, 40]\n",
        "l[100:101]"
      ],
      "metadata": {
        "colab": {
          "base_uri": "https://localhost:8080/"
        },
        "id": "BJ2ERnZtlNa1",
        "outputId": "b5f1547d-d8c2-48f7-d569-2bd1ebd8ba6c"
      },
      "execution_count": 44,
      "outputs": [
        {
          "output_type": "execute_result",
          "data": {
            "text/plain": [
              "[]"
            ]
          },
          "metadata": {},
          "execution_count": 44
        }
      ]
    },
    {
      "cell_type": "code",
      "source": [
        "l = [10, 20, 30, 40]\n",
        "l.clear()\n",
        "l"
      ],
      "metadata": {
        "colab": {
          "base_uri": "https://localhost:8080/"
        },
        "id": "uzs0aZvVlhTm",
        "outputId": "2ba1f97e-8e90-417f-c7fb-791150525879"
      },
      "execution_count": 45,
      "outputs": [
        {
          "output_type": "execute_result",
          "data": {
            "text/plain": [
              "[]"
            ]
          },
          "metadata": {},
          "execution_count": 45
        }
      ]
    },
    {
      "cell_type": "code",
      "source": [
        "l = [10, 20, 30, 40]\n",
        "ll = l\n",
        "\n",
        "l[0] = 1000\n",
        "ll"
      ],
      "metadata": {
        "colab": {
          "base_uri": "https://localhost:8080/"
        },
        "id": "B1eOe6czl8Et",
        "outputId": "f547b309-08be-41dd-9073-4bc0774ad5ea"
      },
      "execution_count": 47,
      "outputs": [
        {
          "output_type": "execute_result",
          "data": {
            "text/plain": [
              "[1000, 20, 30, 40]"
            ]
          },
          "metadata": {},
          "execution_count": 47
        }
      ]
    },
    {
      "cell_type": "code",
      "source": [
        "l = [10, 20, 30, 40]\n",
        "ll = l.copy()\n",
        "\n",
        "l[0] = 1000\n",
        "ll"
      ],
      "metadata": {
        "colab": {
          "base_uri": "https://localhost:8080/"
        },
        "id": "2OgOE-05mC1w",
        "outputId": "97226a1f-33ee-45bb-85cd-84bb1c1956b8"
      },
      "execution_count": 52,
      "outputs": [
        {
          "output_type": "execute_result",
          "data": {
            "text/plain": [
              "[10, 20, 30, 40]"
            ]
          },
          "metadata": {},
          "execution_count": 52
        }
      ]
    },
    {
      "cell_type": "code",
      "source": [
        "# copy 대신에 이것도 사용 많이 함\n",
        "l = [10, 20, 30, 40]\n",
        "ll = l[:]\n",
        "\n",
        "l[0] = 1000\n",
        "l, ll"
      ],
      "metadata": {
        "colab": {
          "base_uri": "https://localhost:8080/"
        },
        "id": "TXZo-x8jmty-",
        "outputId": "7e46d80f-6399-4f17-ab06-4b8cadb3f941"
      },
      "execution_count": 54,
      "outputs": [
        {
          "output_type": "execute_result",
          "data": {
            "text/plain": [
              "([1000, 20, 30, 40], [10, 20, 30, 40])"
            ]
          },
          "metadata": {},
          "execution_count": 54
        }
      ]
    },
    {
      "cell_type": "code",
      "source": [
        "l = [1, 2, 3, 4, 2, 2, 1, 4 ,5 , 1, 1,]\n",
        "l.count(1)"
      ],
      "metadata": {
        "colab": {
          "base_uri": "https://localhost:8080/"
        },
        "id": "kqt-hVaqmchV",
        "outputId": "159f8617-8689-4406-fba7-e731a474db56"
      },
      "execution_count": 59,
      "outputs": [
        {
          "output_type": "execute_result",
          "data": {
            "text/plain": [
              "4"
            ]
          },
          "metadata": {},
          "execution_count": 59
        }
      ]
    },
    {
      "cell_type": "code",
      "source": [
        "'''\n",
        "# 분위기 환기차 해드리는 것입니다.\n",
        "# 이해하지 못하셔도 괜찮습니다.\n",
        "# https://codingdojang.com/scode/393?answer_mode=hide\n",
        "str([1, 2, 3, 4, 5, 6, 7, 8, 9, 10, 11, 12, 13, 14, 15]).count('1')\n",
        "# str(1부터_10000까지_리스트).count('8')\n",
        "list(range(10))\n",
        "str(list(range(20)))\n",
        "str(list(range(20))).count('8')\n",
        "'''"
      ],
      "metadata": {
        "colab": {
          "base_uri": "https://localhost:8080/",
          "height": 54
        },
        "id": "GPzmVKeynDMw",
        "outputId": "9e92abfb-b80e-4092-9b99-e995fcf99e23"
      },
      "execution_count": 60,
      "outputs": [
        {
          "output_type": "execute_result",
          "data": {
            "text/plain": [
              "\"\\n# 분위기 환기차 해드리는 것입니다.\\n# 이해하지 못하셔도 괜찮습니다.\\n# https://codingdojang.com/scode/393?answer_mode=hide\\nstr([1, 2, 3, 4, 5, 6, 7, 8, 9, 10, 11, 12, 13, 14, 15]).count('1')\\n# str(1부터_10000까지_리스트).count('8')\\nlist(range(10))\\nstr(list(range(20)))\\nstr(list(range(20))).count('8')\\n\""
            ],
            "application/vnd.google.colaboratory.intrinsic+json": {
              "type": "string"
            }
          },
          "metadata": {},
          "execution_count": 60
        }
      ]
    },
    {
      "cell_type": "code",
      "source": [
        "l = [10, 20, 30, 40]\n",
        "l.append([50, 60]) # 보통 이렇게 많이 사용함!\n",
        "l\n",
        "\n",
        "# append는 단일 요소 추가"
      ],
      "metadata": {
        "colab": {
          "base_uri": "https://localhost:8080/"
        },
        "id": "VdhpXua5pI5c",
        "outputId": "c7678231-3852-4d1a-d4bd-5866217d3551"
      },
      "execution_count": 63,
      "outputs": [
        {
          "output_type": "execute_result",
          "data": {
            "text/plain": [
              "[10, 20, 30, 40, [50, 60]]"
            ]
          },
          "metadata": {},
          "execution_count": 63
        }
      ]
    },
    {
      "cell_type": "code",
      "source": [
        "l = [10, 20, 30, 40]\n",
        "l.extend([50, 60])\n",
        "l\n",
        "\n",
        "# extend는 요소 개별 추가\n",
        "# extend는 보통 리스트지만 순회 가능한 객체도 있음!"
      ],
      "metadata": {
        "colab": {
          "base_uri": "https://localhost:8080/"
        },
        "id": "xRNI1kpdpBSu",
        "outputId": "51709e12-dab3-427f-c457-0921fb1bc0ca"
      },
      "execution_count": 61,
      "outputs": [
        {
          "output_type": "execute_result",
          "data": {
            "text/plain": [
              "[10, 20, 30, 40, 50, 60]"
            ]
          },
          "metadata": {},
          "execution_count": 61
        }
      ]
    },
    {
      "cell_type": "code",
      "source": [
        "l = [1, 1, 1, 1, 2, 2, 3, 3, 3, 3]\n",
        "l.remove(1)\n",
        "l\n",
        "\n",
        "# 앞에서부터 순회 돌면서 삭제 (한가지 요소 지울 때 사용)\n",
        "# 근데 1을 모두 지우고 싶은데 -> 그럼 remove 사용 x"
      ],
      "metadata": {
        "colab": {
          "base_uri": "https://localhost:8080/"
        },
        "id": "WgiCMMIMpPo4",
        "outputId": "a9ac36d4-e237-475d-96c3-e3520398484e"
      },
      "execution_count": 66,
      "outputs": [
        {
          "output_type": "execute_result",
          "data": {
            "text/plain": [
              "[1, 1, 1, 2, 2, 3, 3, 3, 3]"
            ]
          },
          "metadata": {},
          "execution_count": 66
        }
      ]
    },
    {
      "cell_type": "code",
      "source": [
        "# 다 지울거면 fillter 사용 (정말 많이 사용함)\n",
        "def f(x):\n",
        "    return x != 1\n",
        "\n",
        "l = [1, 1, 1, 1, 2, 2, 3, 3, 3, 3]\n",
        "list(filter(f, l))"
      ],
      "metadata": {
        "colab": {
          "base_uri": "https://localhost:8080/"
        },
        "id": "BssmUjySp2hf",
        "outputId": "f2feabc5-e371-4cb3-80db-695392290ed5"
      },
      "execution_count": 71,
      "outputs": [
        {
          "output_type": "execute_result",
          "data": {
            "text/plain": [
              "[2, 2, 3, 3, 3, 3]"
            ]
          },
          "metadata": {},
          "execution_count": 71
        }
      ]
    },
    {
      "cell_type": "code",
      "source": [
        "l = [1, 2, 3, 4, 5, 9, 5, 6, 7]\n",
        "l.reverse()\n",
        "l\n",
        "# 역순 출력 (역정렬 x)\n",
        "# 원본이 변하기 때문에 사용 주의"
      ],
      "metadata": {
        "colab": {
          "base_uri": "https://localhost:8080/"
        },
        "id": "qTH_ZLlAqnZX",
        "outputId": "76c0d791-d418-430c-9ab1-da5fbdd558ab"
      },
      "execution_count": 73,
      "outputs": [
        {
          "output_type": "execute_result",
          "data": {
            "text/plain": [
              "[7, 6, 5, 9, 5, 4, 3, 2, 1]"
            ]
          },
          "metadata": {},
          "execution_count": 73
        }
      ]
    },
    {
      "cell_type": "code",
      "source": [
        "l = [1, 2, 3, 4, 5, 9, 5, 6, 7]\n",
        "reversed(l) # reversed는 원본을 변경하지 않음"
      ],
      "metadata": {
        "colab": {
          "base_uri": "https://localhost:8080/"
        },
        "id": "PsevaonsrHCN",
        "outputId": "fe86100f-317f-4add-eef3-f2282d1f03b5"
      },
      "execution_count": 77,
      "outputs": [
        {
          "output_type": "execute_result",
          "data": {
            "text/plain": [
              "<list_reverseiterator at 0x7eafb32d5c90>"
            ]
          },
          "metadata": {},
          "execution_count": 77
        }
      ]
    },
    {
      "cell_type": "code",
      "source": [
        "l = [1, 2, 3, 4, 5, 9, 5, 6, 7]\n",
        "l.sort()\n",
        "l.reverse()\n",
        "l # 원본을 바꾸는 역정렬"
      ],
      "metadata": {
        "colab": {
          "base_uri": "https://localhost:8080/"
        },
        "id": "OzahimlxrpGH",
        "outputId": "0c006fb5-04cf-43ea-f25f-691b293fe9fd"
      },
      "execution_count": 78,
      "outputs": [
        {
          "output_type": "execute_result",
          "data": {
            "text/plain": [
              "[9, 7, 6, 5, 5, 4, 3, 2, 1]"
            ]
          },
          "metadata": {},
          "execution_count": 78
        }
      ]
    },
    {
      "cell_type": "code",
      "source": [
        "# sorted는 원본 변경 안함 (이건 좀 잊어도 됨)\n",
        "l = [1, 2, 3, 4, 5, 9, 5, 6, 7]\n",
        "l.sorted(l)"
      ],
      "metadata": {
        "id": "TK5DVSjcs29v"
      },
      "execution_count": null,
      "outputs": []
    },
    {
      "cell_type": "code",
      "source": [
        "# sort, sorted, reverse, reversed는 알고리즘 문제에 잘 나옴!!"
      ],
      "metadata": {
        "id": "Zff6BMCCtT4X"
      },
      "execution_count": null,
      "outputs": []
    },
    {
      "cell_type": "code",
      "source": [
        "# 어떻게 사용되는지만 체크! (뒤에서 다시 하겠습니다.)\n",
        "# 국어 점수가 가장 높은 순으로 정렬해주세요.\n",
        "# 국, 영, 수, 이름\n",
        "s = [[100, 87, 91, '이호준'], [56, 38, 89, '이준호'], [33, 86, 100, '홍길동']]\n",
        "\n",
        "def f(x):\n",
        "    return x[0]\n",
        "\n",
        "sorted(s, key=f)\n",
        "sorted(s, key=f, reverse=True)"
      ],
      "metadata": {
        "colab": {
          "base_uri": "https://localhost:8080/"
        },
        "id": "xccvG1Y5vm3t",
        "outputId": "8243f730-dddf-49d9-d92d-a9f4fc474242"
      },
      "execution_count": 79,
      "outputs": [
        {
          "output_type": "execute_result",
          "data": {
            "text/plain": [
              "[[100, 87, 91, '이호준'], [56, 38, 89, '이준호'], [33, 86, 100, '홍길동']]"
            ]
          },
          "metadata": {},
          "execution_count": 79
        }
      ]
    },
    {
      "cell_type": "code",
      "source": [
        "# 평균 점수가 가장 높은 순으로 정렬해주세요.\n",
        "s = [[100, 87, 91, '이호준'], [56, 38, 89, '이준호'], [33, 86, 100, '홍길동']]\n",
        "\n",
        "def f(x):\n",
        "    return x[0] + x[1] + x[2]\n",
        "\n",
        "sorted(s, key=f)\n",
        "sorted(s, key=f, reverse=True)"
      ],
      "metadata": {
        "colab": {
          "base_uri": "https://localhost:8080/"
        },
        "id": "CSEGy6o-vpoz",
        "outputId": "746935b3-2ccb-4fa9-b535-9b263db14668"
      },
      "execution_count": 80,
      "outputs": [
        {
          "output_type": "execute_result",
          "data": {
            "text/plain": [
              "[[100, 87, 91, '이호준'], [33, 86, 100, '홍길동'], [56, 38, 89, '이준호']]"
            ]
          },
          "metadata": {},
          "execution_count": 80
        }
      ]
    },
    {
      "cell_type": "markdown",
      "source": [
        "# 튜플\n",
        "\n",
        "* 순서가 있는 자료형 (인데싱, 슬라이싱)\n",
        "* 참조 변경 불가능(값 변경 불가는 틀린 말!)"
      ],
      "metadata": {
        "id": "5MCRN4P7AOuk"
      }
    },
    {
      "cell_type": "code",
      "source": [
        "t = (10, 20, 30) # 소괄호"
      ],
      "metadata": {
        "id": "sI9qiTK8vqv7"
      },
      "execution_count": 81,
      "outputs": []
    },
    {
      "cell_type": "code",
      "source": [
        "t[0]\n",
        "# t[0] = 1000 하면 오류 발생 (변경이 불가능해서!)"
      ],
      "metadata": {
        "colab": {
          "base_uri": "https://localhost:8080/"
        },
        "id": "9GqgpVHCC_qK",
        "outputId": "6bbba1af-def9-470b-bc20-d1586bfc85cf"
      },
      "execution_count": 82,
      "outputs": [
        {
          "output_type": "execute_result",
          "data": {
            "text/plain": [
              "10"
            ]
          },
          "metadata": {},
          "execution_count": 82
        }
      ]
    },
    {
      "cell_type": "code",
      "source": [
        "# 그래서 튜플이 필요한 이유는?\n",
        "# * 권한과 변경불가, 형태 고정인 자료형\n",
        "\n",
        "# 값 변경 불가는 왜 틀린말인가?\n",
        "# 참조 된 값이 변경 가능하면 변경 할 수 있음\n",
        "\n",
        "a = [10, 20, 30]\n",
        "b = (a, 100, 200) # 이처럼 b에 있는 a는 수정 불가능 하지만 a자체는 변경 가능함"
      ],
      "metadata": {
        "id": "fD-925EpDCUz"
      },
      "execution_count": 83,
      "outputs": []
    },
    {
      "cell_type": "code",
      "source": [
        "t = (10, 20, 30)\n",
        "\n",
        "t.count(10) # 10의 갯수를 반환\n",
        "t.index(10) # 10의 위치를 반환"
      ],
      "metadata": {
        "colab": {
          "base_uri": "https://localhost:8080/"
        },
        "id": "3O-osvTnFpAo",
        "outputId": "f0a0629c-457d-4a0c-9218-03a40b6b5fab"
      },
      "execution_count": 84,
      "outputs": [
        {
          "output_type": "execute_result",
          "data": {
            "text/plain": [
              "0"
            ]
          },
          "metadata": {},
          "execution_count": 84
        }
      ]
    },
    {
      "cell_type": "markdown",
      "source": [
        "# 딕셔너리\n",
        "\n",
        "* 3.6 버전 이상은 순서가 보장 됨\n",
        "* 실무에서 python 버전? -> 생각보다 낮음\n",
        "* 'key: value' 쌍으로 이루어짐\n",
        "* 데이터 검색이 빠름\n",
        "* key 없는 거 호출하면 error 생기니 주의\n"
      ],
      "metadata": {
        "id": "4ns_8V1nGBtO"
      }
    },
    {
      "cell_type": "code",
      "source": [
        "d = {'one': '하나', 'two': '둘'}\n",
        "\n",
        "d['one'] # 이렇게 호출도 가능하지만\n",
        "d.get('three') # 이런식으로 호출해야 error 없음!\n",
        "d.get('three', '없는 값입니다.') # 이런것도 가능"
      ],
      "metadata": {
        "colab": {
          "base_uri": "https://localhost:8080/",
          "height": 35
        },
        "id": "NOJPELhgGACe",
        "outputId": "44ba9b00-af65-468b-a852-917d82363735"
      },
      "execution_count": 86,
      "outputs": [
        {
          "output_type": "execute_result",
          "data": {
            "text/plain": [
              "'하나'"
            ],
            "application/vnd.google.colaboratory.intrinsic+json": {
              "type": "string"
            }
          },
          "metadata": {},
          "execution_count": 86
        }
      ]
    },
    {
      "cell_type": "code",
      "source": [
        "# 실무에서 사용하는 코드\n",
        "def f(x):\n",
        "    return{\n",
        "        0: '일요일',\n",
        "        1: '월요일',\n",
        "        2: '화요일',\n",
        "        3: '수요일',\n",
        "        4: '목요일',\n",
        "        5: '금요일',\n",
        "        6: '토요일',\n",
        "    }.get(x, '요일없음')\n",
        "f(3)"
      ],
      "metadata": {
        "colab": {
          "base_uri": "https://localhost:8080/",
          "height": 35
        },
        "id": "1wSwQ_KOIL4l",
        "outputId": "b318e348-823c-489a-edfa-3438113864c9"
      },
      "execution_count": 89,
      "outputs": [
        {
          "output_type": "execute_result",
          "data": {
            "text/plain": [
              "'수요일'"
            ],
            "application/vnd.google.colaboratory.intrinsic+json": {
              "type": "string"
            }
          },
          "metadata": {},
          "execution_count": 89
        }
      ]
    },
    {
      "cell_type": "code",
      "source": [
        "type(d)"
      ],
      "metadata": {
        "colab": {
          "base_uri": "https://localhost:8080/"
        },
        "id": "N3J1Iqs_JJep",
        "outputId": "74d64f09-422d-4de8-d0d6-63ea5c3d57f0"
      },
      "execution_count": 90,
      "outputs": [
        {
          "output_type": "execute_result",
          "data": {
            "text/plain": [
              "dict"
            ]
          },
          "metadata": {},
          "execution_count": 90
        }
      ]
    },
    {
      "cell_type": "code",
      "source": [
        "d = {'one': '하나', 'two': '둘'}"
      ],
      "metadata": {
        "id": "MHTWdDZZJ8QF"
      },
      "execution_count": null,
      "outputs": []
    },
    {
      "cell_type": "code",
      "source": [
        "d = {'one': '하나', 'two': '둘'}\n",
        "dd = d.copy()\n",
        "\n",
        "id(dd), id(d)\n",
        "dd is d\n",
        "\n",
        "d['one'] = 'python'\n",
        "d['two'] = 'hteml'\n",
        "\n",
        "dd"
      ],
      "metadata": {
        "colab": {
          "base_uri": "https://localhost:8080/"
        },
        "id": "SWRz3Hx0NepD",
        "outputId": "c741cfe6-bf68-43e7-b9a6-1a3e71d3a22b"
      },
      "execution_count": 93,
      "outputs": [
        {
          "output_type": "execute_result",
          "data": {
            "text/plain": [
              "{'one': '하나', 'two': '둘'}"
            ]
          },
          "metadata": {},
          "execution_count": 93
        }
      ]
    },
    {
      "cell_type": "code",
      "source": [
        "# 자주 사용하지 않음\n",
        "\n",
        "d = ('one', 'two', 'three')\n",
        "dict.fromkeys(d)"
      ],
      "metadata": {
        "colab": {
          "base_uri": "https://localhost:8080/"
        },
        "id": "jZm4AqDnN0NE",
        "outputId": "125c09da-99dc-463c-fa40-0e850ab6b01a"
      },
      "execution_count": 95,
      "outputs": [
        {
          "output_type": "execute_result",
          "data": {
            "text/plain": [
              "{'one': None, 'two': None, 'three': None}"
            ]
          },
          "metadata": {},
          "execution_count": 95
        }
      ]
    },
    {
      "cell_type": "code",
      "source": [
        "# 매우 매우 자주 사용함\n",
        "\n",
        "d = {'one': '하나', 'two':'둘'}\n",
        "d.get('one')\n",
        "d.get('three', '값 없음!')"
      ],
      "metadata": {
        "colab": {
          "base_uri": "https://localhost:8080/",
          "height": 35
        },
        "id": "VO6ZkdbcOSSc",
        "outputId": "468c37cd-fe9d-4465-bcd5-21a5d64666f3"
      },
      "execution_count": 96,
      "outputs": [
        {
          "output_type": "execute_result",
          "data": {
            "text/plain": [
              "'값 없음!'"
            ],
            "application/vnd.google.colaboratory.intrinsic+json": {
              "type": "string"
            }
          },
          "metadata": {},
          "execution_count": 96
        }
      ]
    },
    {
      "cell_type": "code",
      "source": [
        "d = {'one': '하나', 'two': '둘'}\n",
        "d.items()"
      ],
      "metadata": {
        "colab": {
          "base_uri": "https://localhost:8080/"
        },
        "id": "_ck5Xi3nOpg_",
        "outputId": "a10e205b-61c7-4946-e4ed-809a2e71693f"
      },
      "execution_count": 98,
      "outputs": [
        {
          "output_type": "execute_result",
          "data": {
            "text/plain": [
              "dict_items([('one', '하나'), ('two', '둘')])"
            ]
          },
          "metadata": {},
          "execution_count": 98
        }
      ]
    },
    {
      "cell_type": "code",
      "source": [
        "a, b = d.items() # 언패킹\n",
        "a\n",
        "b"
      ],
      "metadata": {
        "colab": {
          "base_uri": "https://localhost:8080/"
        },
        "id": "PxFCS5LVOvoy",
        "outputId": "0bd5450d-946a-4b54-824e-c63305dbad0f"
      },
      "execution_count": 99,
      "outputs": [
        {
          "output_type": "execute_result",
          "data": {
            "text/plain": [
              "('two', '둘')"
            ]
          },
          "metadata": {},
          "execution_count": 99
        }
      ]
    },
    {
      "cell_type": "code",
      "source": [
        "# 언패킹은 보통 이렇게 씀\n",
        "\n",
        "for i, j in d.items():\n",
        "    print(i, j)"
      ],
      "metadata": {
        "colab": {
          "base_uri": "https://localhost:8080/"
        },
        "id": "ovvs9Di_PdKZ",
        "outputId": "2e5af525-fdfe-4244-c562-15b140fcd91c"
      },
      "execution_count": 102,
      "outputs": [
        {
          "output_type": "stream",
          "name": "stdout",
          "text": [
            "one 하나\n",
            "two 둘\n"
          ]
        }
      ]
    },
    {
      "cell_type": "code",
      "source": [
        "d.keys() # key만 나옴\n",
        "d.values()"
      ],
      "metadata": {
        "colab": {
          "base_uri": "https://localhost:8080/"
        },
        "id": "zM3-QhKpPf4l",
        "outputId": "d83fbd04-8ddf-4216-b24b-53da2774dc6d"
      },
      "execution_count": 103,
      "outputs": [
        {
          "output_type": "execute_result",
          "data": {
            "text/plain": [
              "dict_values(['하나', '둘'])"
            ]
          },
          "metadata": {},
          "execution_count": 103
        }
      ]
    },
    {
      "cell_type": "code",
      "source": [
        "# setdefault는 key가 없을때 생성하고 출력해줌\n",
        "\n",
        "d = {'one': '하나', 'two': '둘'}\n",
        "d.setdefault('one')\n",
        "d.setdefault('three')\n",
        "d"
      ],
      "metadata": {
        "colab": {
          "base_uri": "https://localhost:8080/"
        },
        "id": "Suo_KADiP9Ji",
        "outputId": "22cf0200-f797-43dc-b1f7-f24912cc41f3"
      },
      "execution_count": 104,
      "outputs": [
        {
          "output_type": "execute_result",
          "data": {
            "text/plain": [
              "{'one': '하나', 'two': '둘', 'three': None}"
            ]
          },
          "metadata": {},
          "execution_count": 104
        }
      ]
    },
    {
      "cell_type": "code",
      "source": [
        "d = {'one': '하나', 'two': '둘'}\n",
        "d.pop('one')"
      ],
      "metadata": {
        "colab": {
          "base_uri": "https://localhost:8080/",
          "height": 35
        },
        "id": "coyuuJLuQVZ-",
        "outputId": "351fe626-f246-4456-b7e1-c779910e71ec"
      },
      "execution_count": 105,
      "outputs": [
        {
          "output_type": "execute_result",
          "data": {
            "text/plain": [
              "'하나'"
            ],
            "application/vnd.google.colaboratory.intrinsic+json": {
              "type": "string"
            }
          },
          "metadata": {},
          "execution_count": 105
        }
      ]
    },
    {
      "cell_type": "code",
      "source": [
        "d = {'one': '하나', 'two': '둘'}\n",
        "d.popitem() # 없는 코드 많이 볼 예정"
      ],
      "metadata": {
        "id": "AddjxKQiQzwp"
      },
      "execution_count": null,
      "outputs": []
    },
    {
      "cell_type": "code",
      "source": [
        "d = {'one': '하나', 'two': '둘'}\n",
        "d.update({'one': 'python', 'three': 'hello'})\n",
        "# one은 수정이 되었고 three는 생성이 됨\n",
        "d"
      ],
      "metadata": {
        "colab": {
          "base_uri": "https://localhost:8080/"
        },
        "id": "uksCITDkRfRj",
        "outputId": "34e987ec-123c-4c71-99ac-2eb224543a04"
      },
      "execution_count": 107,
      "outputs": [
        {
          "output_type": "execute_result",
          "data": {
            "text/plain": [
              "{'one': 'python', 'two': '둘', 'three': 'hello'}"
            ]
          },
          "metadata": {},
          "execution_count": 107
        }
      ]
    },
    {
      "cell_type": "code",
      "source": [
        "# 신규문법(3.9)\n",
        "d = {'one': '하나', 'two': '둘'}\n",
        "dd = {'three': '셋'}\n",
        "\n",
        "# d + dd 하면 오류가 나는데\n",
        "d | dd # 이건 오류 안남"
      ],
      "metadata": {
        "colab": {
          "base_uri": "https://localhost:8080/"
        },
        "id": "YoVFVW6CRsZ2",
        "outputId": "ed217791-53e6-455d-b3cc-a5648caf1a96"
      },
      "execution_count": 108,
      "outputs": [
        {
          "output_type": "execute_result",
          "data": {
            "text/plain": [
              "{'one': '하나', 'two': '둘', 'three': '셋'}"
            ]
          },
          "metadata": {},
          "execution_count": 108
        }
      ]
    },
    {
      "cell_type": "code",
      "source": [
        "d = {'one': '하나', 'two': '둘'}\n",
        "dd = {'one': 'python', 'three': '셋'}\n",
        "d | dd"
      ],
      "metadata": {
        "colab": {
          "base_uri": "https://localhost:8080/"
        },
        "id": "73Y1xeeuSRcY",
        "outputId": "59ce675b-980f-4bcb-bb66-5aa7f34e31e5"
      },
      "execution_count": 109,
      "outputs": [
        {
          "output_type": "execute_result",
          "data": {
            "text/plain": [
              "{'one': 'python', 'two': '둘', 'three': '셋'}"
            ]
          },
          "metadata": {},
          "execution_count": 109
        }
      ]
    },
    {
      "cell_type": "markdown",
      "source": [
        "# 셋\n",
        "\n",
        "* 중복을 허락하지 않는 자료형\n",
        "* 순서가 없는 자료형\n",
        "* 집합 (합집합, 차집합, 교집합)"
      ],
      "metadata": {
        "id": "YZx_feC4ScQ4"
      }
    },
    {
      "cell_type": "code",
      "source": [
        "s = {1, 2, 3, 4, 5}\n",
        "ss = {3, 4, 5, 6, 7}\n",
        "\n",
        "# s + ss -> error\n",
        "s | ss # 합집합 (union)\n",
        "s - ss # 차집합 (difference)\n",
        "s & ss # 교집합 (intersection)"
      ],
      "metadata": {
        "colab": {
          "base_uri": "https://localhost:8080/"
        },
        "id": "VYLfnGJjSbFj",
        "outputId": "92d9941b-0520-425b-861c-cda2a3b89bf6"
      },
      "execution_count": 113,
      "outputs": [
        {
          "output_type": "execute_result",
          "data": {
            "text/plain": [
              "{3, 4, 5}"
            ]
          },
          "metadata": {},
          "execution_count": 113
        }
      ]
    },
    {
      "cell_type": "code",
      "source": [
        "type(s)"
      ],
      "metadata": {
        "colab": {
          "base_uri": "https://localhost:8080/"
        },
        "id": "d-JqkaajTh_n",
        "outputId": "946ec9e8-7943-4fbd-de5d-383af55f98c0"
      },
      "execution_count": 111,
      "outputs": [
        {
          "output_type": "execute_result",
          "data": {
            "text/plain": [
              "set"
            ]
          },
          "metadata": {},
          "execution_count": 111
        }
      ]
    },
    {
      "cell_type": "code",
      "source": [
        "s.add(10) # 값 추가\n",
        "s"
      ],
      "metadata": {
        "colab": {
          "base_uri": "https://localhost:8080/"
        },
        "id": "sI_pyL06Tje3",
        "outputId": "30bc43c5-2b95-44d0-8017-e3be02e709af"
      },
      "execution_count": 112,
      "outputs": [
        {
          "output_type": "execute_result",
          "data": {
            "text/plain": [
              "{1, 2, 3, 4, 5, 10}"
            ]
          },
          "metadata": {},
          "execution_count": 112
        }
      ]
    },
    {
      "cell_type": "code",
      "source": [
        "# 기호로 안쓰고 문법처럼 쓰기 (근데 기호로 쓰는걸 권장)\n",
        "\n",
        "s.difference(ss)\n",
        "s.intersection(ss)\n",
        "s.union(ss)"
      ],
      "metadata": {
        "colab": {
          "base_uri": "https://localhost:8080/"
        },
        "id": "0glDsoibTyY_",
        "outputId": "2556e6bb-4782-45e8-be66-14d7f9fde2db"
      },
      "execution_count": 117,
      "outputs": [
        {
          "output_type": "execute_result",
          "data": {
            "text/plain": [
              "{1, 2, 3, 4, 5, 6, 7}"
            ]
          },
          "metadata": {},
          "execution_count": 117
        }
      ]
    },
    {
      "cell_type": "markdown",
      "source": [
        "# sum"
      ],
      "metadata": {
        "id": "MqTBRHIjXNHr"
      }
    },
    {
      "cell_type": "code",
      "source": [
        "# 아래 코드 둘 다 오류 남\n",
        "# sum(10, 20, 30)\n",
        "# sum([10, 20], [10, 20], [10,20])\n",
        "\n",
        "# sum (순회 가능한 객체, 초기값)\n",
        "sum([10, 20, 30], 100)"
      ],
      "metadata": {
        "colab": {
          "base_uri": "https://localhost:8080/"
        },
        "id": "OsK9qD40Ulmb",
        "outputId": "c9f00332-496f-40f2-ea79-71e625c79bc2"
      },
      "execution_count": 118,
      "outputs": [
        {
          "output_type": "execute_result",
          "data": {
            "text/plain": [
              "160"
            ]
          },
          "metadata": {},
          "execution_count": 118
        }
      ]
    },
    {
      "cell_type": "code",
      "source": [
        "sum([[10, 20], [30, 40], [50, 60]], []) # 평탄화 작업\n",
        "[] + [10, 20] == [10, 20]\n",
        "[10, 20] + [30, 40] == [10, 20, 30, 40]"
      ],
      "metadata": {
        "colab": {
          "base_uri": "https://localhost:8080/"
        },
        "id": "bqfxTLlnWcS2",
        "outputId": "c461cdc0-a667-4a45-bc75-c83d777fde9b"
      },
      "execution_count": 121,
      "outputs": [
        {
          "output_type": "execute_result",
          "data": {
            "text/plain": [
              "True"
            ]
          },
          "metadata": {},
          "execution_count": 121
        }
      ]
    },
    {
      "cell_type": "markdown",
      "source": [
        "# in"
      ],
      "metadata": {
        "id": "dFogJ9QdXOhG"
      }
    },
    {
      "cell_type": "code",
      "source": [
        "'h' in 'hello'"
      ],
      "metadata": {
        "colab": {
          "base_uri": "https://localhost:8080/"
        },
        "id": "u-NcZSIGXQJY",
        "outputId": "b23449fa-cf98-48bb-8857-be7f711d0137"
      },
      "execution_count": 122,
      "outputs": [
        {
          "output_type": "execute_result",
          "data": {
            "text/plain": [
              "True"
            ]
          },
          "metadata": {},
          "execution_count": 122
        }
      ]
    },
    {
      "cell_type": "code",
      "source": [
        "x = 10\n",
        "x in [10, 20, 30, 40, 50]"
      ],
      "metadata": {
        "colab": {
          "base_uri": "https://localhost:8080/"
        },
        "id": "CNaN9h_SXSBx",
        "outputId": "a494f9ca-4070-416c-810f-5f99093d7a81"
      },
      "execution_count": 123,
      "outputs": [
        {
          "output_type": "execute_result",
          "data": {
            "text/plain": [
              "True"
            ]
          },
          "metadata": {},
          "execution_count": 123
        }
      ]
    },
    {
      "cell_type": "code",
      "source": [
        "s = {1, 2, 3}\n",
        "1 in s"
      ],
      "metadata": {
        "colab": {
          "base_uri": "https://localhost:8080/"
        },
        "id": "i6VBNOjgXYp-",
        "outputId": "6fad56ef-0fdb-4f20-c9a2-bc702f410d3d"
      },
      "execution_count": 124,
      "outputs": [
        {
          "output_type": "execute_result",
          "data": {
            "text/plain": [
              "True"
            ]
          },
          "metadata": {},
          "execution_count": 124
        }
      ]
    },
    {
      "cell_type": "code",
      "source": [
        "s = {1, 2, 3}\n",
        "1 not in s"
      ],
      "metadata": {
        "colab": {
          "base_uri": "https://localhost:8080/"
        },
        "id": "Arq_vm04X9Hf",
        "outputId": "bc09ee30-20d6-4996-e811-51d5022962ec"
      },
      "execution_count": 125,
      "outputs": [
        {
          "output_type": "execute_result",
          "data": {
            "text/plain": [
              "False"
            ]
          },
          "metadata": {},
          "execution_count": 125
        }
      ]
    },
    {
      "cell_type": "code",
      "source": [],
      "metadata": {
        "id": "ypzF0_g-YCh6"
      },
      "execution_count": null,
      "outputs": []
    }
  ]
}
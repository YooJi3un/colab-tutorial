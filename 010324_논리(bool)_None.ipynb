{
  "nbformat": 4,
  "nbformat_minor": 0,
  "metadata": {
    "colab": {
      "provenance": []
    },
    "kernelspec": {
      "name": "python3",
      "display_name": "Python 3"
    },
    "language_info": {
      "name": "python"
    }
  },
  "cells": [
    {
      "cell_type": "code",
      "execution_count": null,
      "metadata": {
        "colab": {
          "base_uri": "https://localhost:8080/"
        },
        "id": "AJIET41nWmqd",
        "outputId": "143ef56e-5094-43bd-b24d-c3c15d8afde6"
      },
      "outputs": [
        {
          "output_type": "stream",
          "name": "stdout",
          "text": [
            "True False False\n"
          ]
        }
      ],
      "source": [
        "# Bool 기본값\n",
        "\n",
        "x = True\n",
        "y = False\n",
        "z = 10 < 3\n",
        "print(x, y, z)"
      ]
    },
    {
      "cell_type": "code",
      "source": [
        "# True는 1과 같고, False는 0과 같다\n",
        "\n",
        "print(True == 1)\n",
        "print(False == 0)"
      ],
      "metadata": {
        "colab": {
          "base_uri": "https://localhost:8080/"
        },
        "id": "cHzvHWbhXcsY",
        "outputId": "12c6800d-61a7-4397-d389-711f874b0940"
      },
      "execution_count": null,
      "outputs": [
        {
          "output_type": "stream",
          "name": "stdout",
          "text": [
            "True\n",
            "True\n"
          ]
        }
      ]
    },
    {
      "cell_type": "code",
      "source": [
        "# 사칙연산\n",
        "\n",
        "# True는 1로 False는 0으로 취급\n",
        "print(True + True)\n",
        "print(False - True)\n",
        "print(True / True)\n",
        "print(True * False)\n",
        "#print(True / False) -> error 출력"
      ],
      "metadata": {
        "colab": {
          "base_uri": "https://localhost:8080/"
        },
        "id": "KScDzSzMXodC",
        "outputId": "00476591-cb79-4fde-d303-990eab6b6dda"
      },
      "execution_count": null,
      "outputs": [
        {
          "output_type": "stream",
          "name": "stdout",
          "text": [
            "2\n",
            "-1\n",
            "1.0\n",
            "0\n"
          ]
        }
      ]
    },
    {
      "cell_type": "code",
      "source": [
        "# None\n",
        "# None 을 대체 할 수 있는 건 없음\n",
        "\n",
        "x = None\n",
        "y = None\n",
        "print(id(x), id(y))"
      ],
      "metadata": {
        "colab": {
          "base_uri": "https://localhost:8080/"
        },
        "id": "Hc8PJBc1YB5V",
        "outputId": "c914b25c-ce22-4ab1-80b8-b225ee40f4c7"
      },
      "execution_count": null,
      "outputs": [
        {
          "output_type": "stream",
          "name": "stdout",
          "text": [
            "96492524237792 96492524237792\n"
          ]
        }
      ]
    },
    {
      "cell_type": "code",
      "source": [
        "# None을 확인\n",
        "\n",
        "x = None\n",
        "\n",
        "print(x == None) # 이 방식보다\n",
        "print(x is None) # 이 방식을 더 권장"
      ],
      "metadata": {
        "colab": {
          "base_uri": "https://localhost:8080/"
        },
        "id": "70URTAJRZsRL",
        "outputId": "cb04cd54-69dc-460e-a043-ecd37687f418"
      },
      "execution_count": null,
      "outputs": [
        {
          "output_type": "stream",
          "name": "stdout",
          "text": [
            "True\n",
            "True\n"
          ]
        }
      ]
    },
    {
      "cell_type": "code",
      "source": [],
      "metadata": {
        "id": "uOLu3qelZzZY"
      },
      "execution_count": null,
      "outputs": []
    }
  ]
}
{
  "nbformat": 4,
  "nbformat_minor": 0,
  "metadata": {
    "colab": {
      "provenance": []
    },
    "kernelspec": {
      "name": "python3",
      "display_name": "Python 3"
    },
    "language_info": {
      "name": "python"
    }
  },
  "cells": [
    {
      "cell_type": "code",
      "execution_count": null,
      "metadata": {
        "colab": {
          "base_uri": "https://localhost:8080/",
          "height": 54
        },
        "id": "Xzj0tgJcHNw9",
        "outputId": "4515a72f-6418-4098-fdcf-368169fed3d5"
      },
      "outputs": [
        {
          "output_type": "stream",
          "name": "stdout",
          "text": [
            "136730610109776 136730610109776 136730610109776\n"
          ]
        },
        {
          "output_type": "execute_result",
          "data": {
            "text/plain": [
              "'\\n# z  ㄱ\\n# x   -> 100\\n# y  _l\\n\\n\\n z = 100\\n '"
            ],
            "application/vnd.google.colaboratory.intrinsic+json": {
              "type": "string"
            }
          },
          "metadata": {},
          "execution_count": 2
        }
      ],
      "source": [
        "# 문제1.1\n",
        "\n",
        "x = 100\n",
        "y = 100\n",
        "z = x\n",
        "\n",
        "\n",
        "'''\n",
        "# z  ㄱ\n",
        "# x   -> 100\n",
        "# y  _l\n",
        "\n",
        "\n",
        " 답 z = 100\n",
        " '''\n",
        "\n",
        " print(id(x), id(y), id(z))"
      ]
    },
    {
      "cell_type": "code",
      "source": [
        "# 문제1.2\n",
        "\n",
        "x = 258\n",
        "y = 258\n",
        "z = x\n",
        "\n",
        "'''\n",
        "# 답\n",
        "\n",
        "# z ㄱ\n",
        "# x   -> 258\n",
        "# y   -> 258\n",
        "'''\n",
        "\n",
        "print(id(x), id(y), id(z))"
      ],
      "metadata": {
        "id": "M2xfsJOSH2AU"
      },
      "execution_count": null,
      "outputs": []
    },
    {
      "cell_type": "code",
      "source": [
        "# 문제2\n",
        "\n",
        "# 1번\n",
        "print = 100\n",
        "\n",
        "# 2번\n",
        "10 = a\n",
        "\n",
        "# 3번\n",
        "k = 100\n",
        "\n",
        "# 4번\n",
        "100k = 10000\n",
        "\n",
        "# 5번\n",
        "a123 = 'abc'\n",
        "\n",
        "# 6번\n",
        "_ = 10\n",
        "\n",
        "'''\n",
        "맞는 문법은?\n",
        "\n",
        "3번, 5번, 6번\n",
        "'''"
      ],
      "metadata": {
        "colab": {
          "base_uri": "https://localhost:8080/",
          "height": 147
        },
        "id": "qqmCsrTnIXtU",
        "outputId": "72a27da1-273f-4e62-8c4b-39d9a46fb30c"
      },
      "execution_count": null,
      "outputs": [
        {
          "output_type": "error",
          "ename": "SyntaxError",
          "evalue": "ignored",
          "traceback": [
            "\u001b[0;36m  File \u001b[0;32m\"<ipython-input-3-6f368fc0ddaf>\"\u001b[0;36m, line \u001b[0;32m13\u001b[0m\n\u001b[0;31m    100k = 10000\u001b[0m\n\u001b[0m      ^\u001b[0m\n\u001b[0;31mSyntaxError\u001b[0m\u001b[0;31m:\u001b[0m invalid decimal literal\n"
          ]
        }
      ]
    },
    {
      "cell_type": "code",
      "source": [
        "# 문제3\n",
        "\n",
        "'''\n",
        "사용자에 문자 입력받고 그 문자를 2번 출력하는 프로그림\n",
        "ex) abc 입력 -> abcabc 출력\n",
        "'''\n",
        "\n",
        "a = input(\"문장을 입력해주세요!\")\n",
        "\n",
        "print(a * 2)"
      ],
      "metadata": {
        "colab": {
          "base_uri": "https://localhost:8080/"
        },
        "id": "HeBefRSrItZy",
        "outputId": "32e59c36-48c8-434f-a440-9177f44f6587"
      },
      "execution_count": null,
      "outputs": [
        {
          "output_type": "stream",
          "name": "stdout",
          "text": [
            "문장을 입력해주세요!abc\n",
            "abcabc\n"
          ]
        }
      ]
    },
    {
      "cell_type": "code",
      "source": [
        "# 문제4 (잘 모르겠음!)\n",
        "\n",
        "'''\n",
        "중복을 제거한 유일한 숫자를 알아내는 코드 작성\n",
        "(형 변환 사용)\n",
        "n = 1234567890123123\n",
        "'''\n",
        "\n",
        "n = 1234567890123123\n",
        "\n",
        "print(set(n))\n",
        "\n",
        "# 정답: len(set(str(n)))"
      ],
      "metadata": {
        "colab": {
          "base_uri": "https://localhost:8080/",
          "height": 221
        },
        "id": "Mjj3cW-eJXG6",
        "outputId": "b8500fbd-89f5-4d16-def4-c2cae8c02816"
      },
      "execution_count": null,
      "outputs": [
        {
          "output_type": "error",
          "ename": "TypeError",
          "evalue": "ignored",
          "traceback": [
            "\u001b[0;31m---------------------------------------------------------------------------\u001b[0m",
            "\u001b[0;31mTypeError\u001b[0m                                 Traceback (most recent call last)",
            "\u001b[0;32m<ipython-input-5-fc0fa603169a>\u001b[0m in \u001b[0;36m<cell line: 11>\u001b[0;34m()\u001b[0m\n\u001b[1;32m      9\u001b[0m \u001b[0mn\u001b[0m \u001b[0;34m=\u001b[0m \u001b[0;36m1234567890123123\u001b[0m\u001b[0;34m\u001b[0m\u001b[0;34m\u001b[0m\u001b[0m\n\u001b[1;32m     10\u001b[0m \u001b[0;34m\u001b[0m\u001b[0m\n\u001b[0;32m---> 11\u001b[0;31m \u001b[0mprint\u001b[0m\u001b[0;34m(\u001b[0m\u001b[0mset\u001b[0m\u001b[0;34m(\u001b[0m\u001b[0mn\u001b[0m\u001b[0;34m)\u001b[0m\u001b[0;34m)\u001b[0m\u001b[0;34m\u001b[0m\u001b[0;34m\u001b[0m\u001b[0m\n\u001b[0m",
            "\u001b[0;31mTypeError\u001b[0m: 'int' object is not iterable"
          ]
        }
      ]
    },
    {
      "cell_type": "code",
      "source": [
        "# 문제5\n",
        "\n",
        "'''\n",
        "문자열 s에 마지막에 있는 문자열을 2번 더 붙이는 코드 작성\n",
        "s = 'jun' 일 때 junnn 으로 출력하게\n",
        "'''\n",
        "\n",
        "s = 'jun'\n",
        "\n",
        "print(s[:] + s[-1:] * 2)"
      ],
      "metadata": {
        "colab": {
          "base_uri": "https://localhost:8080/"
        },
        "id": "ZF4J0ix5Kai0",
        "outputId": "46d21bfe-1760-4868-d0e3-bdc061c531c8"
      },
      "execution_count": null,
      "outputs": [
        {
          "output_type": "stream",
          "name": "stdout",
          "text": [
            "junnn\n"
          ]
        }
      ]
    },
    {
      "cell_type": "code",
      "source": [
        "# 문제6\n",
        "\n",
        "'''\n",
        "'abcde', 숫자, 대쉬(-), 언더바(_) 제거\n",
        "translate 사용\n",
        "s = 'hello_world123'\n",
        "'''\n",
        "\n",
        "s = 'hello_world123'\n",
        "result = str.maketrans('', '', 'abcde0123456789-_')\n",
        "s.translate(result)"
      ],
      "metadata": {
        "id": "h7JKqNUBLJtZ",
        "colab": {
          "base_uri": "https://localhost:8080/",
          "height": 35
        },
        "outputId": "5e24712e-6ec8-4304-ca9e-f9c792bd8884"
      },
      "execution_count": 4,
      "outputs": [
        {
          "output_type": "execute_result",
          "data": {
            "text/plain": [
              "'hlloworl'"
            ],
            "application/vnd.google.colaboratory.intrinsic+json": {
              "type": "string"
            }
          },
          "metadata": {},
          "execution_count": 4
        }
      ]
    },
    {
      "cell_type": "code",
      "source": [
        "# 문제7\n",
        "\n",
        "'''\n",
        "확장자를 출력해주는 코드를 작성\n",
        "확장자는 png, jpeg, mp4 등\n",
        "'''\n",
        "\n",
        "s = 'licat.jpeg'\n",
        "# 출력값: 'jpeg'\n",
        "print(s[-5:])\n",
        "\n",
        "s = 'li.cat.png'\n",
        "# 출력값: 'png'\n",
        "print(s[-4:])"
      ],
      "metadata": {
        "colab": {
          "base_uri": "https://localhost:8080/"
        },
        "id": "sRCT4QPwN1tw",
        "outputId": "7ef73db2-2a04-4a8d-b658-d503314d0abc"
      },
      "execution_count": 9,
      "outputs": [
        {
          "output_type": "stream",
          "name": "stdout",
          "text": [
            ".jpeg\n",
            ".png\n"
          ]
        }
      ]
    },
    {
      "cell_type": "code",
      "source": [
        "s = 'licat.jpeg'\n",
        "# 출력값: 'jpeg'\n",
        "\n",
        "s = 'li.cat.png'\n",
        "# 출력값: 'png'\n",
        "\n",
        "s[::-1].split('.')[0][::-1] # 정답1"
      ],
      "metadata": {
        "colab": {
          "base_uri": "https://localhost:8080/",
          "height": 35
        },
        "id": "1eqctkFDPSbi",
        "outputId": "9e5e7a0a-0f1a-4b79-91dc-e9ace64c3e40"
      },
      "execution_count": 11,
      "outputs": [
        {
          "output_type": "execute_result",
          "data": {
            "text/plain": [
              "'png'"
            ],
            "application/vnd.google.colaboratory.intrinsic+json": {
              "type": "string"
            }
          },
          "metadata": {},
          "execution_count": 11
        }
      ]
    },
    {
      "cell_type": "code",
      "source": [],
      "metadata": {
        "id": "s65coc-9QHI8"
      },
      "execution_count": null,
      "outputs": []
    }
  ]
}